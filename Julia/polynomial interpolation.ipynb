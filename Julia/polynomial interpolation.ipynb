{
 "cells": [
  {
   "cell_type": "markdown",
   "metadata": {},
   "source": [
    "## Polynomial interpolation"
   ]
  },
  {
   "cell_type": "code",
   "execution_count": 2,
   "metadata": {},
   "outputs": [
    {
     "name": "stderr",
     "output_type": "stream",
     "text": [
      "WARNING: replacing module PolyInterp.\n"
     ]
    },
    {
     "data": {
      "text/plain": [
       "5-element Array{Symbol,1}:\n",
       " :PolyInterp\n",
       " :dd_hermite\n",
       " :dd_hinterp\n",
       " :dd_interp \n",
       " :divdif    "
      ]
     },
     "execution_count": 2,
     "metadata": {},
     "output_type": "execute_result"
    }
   ],
   "source": [
    "using LinearAlgebra\n",
    "include(\"polyinterp.jl\")\n",
    "names(PolyInterp)"
   ]
  },
  {
   "cell_type": "markdown",
   "metadata": {},
   "source": [
    "The function*divdif* computes the divided difference table for a given set of interpolation points given by the arrays *xs* and *ys*. The points interpolated are $(xs[i],ys[i])$, $i=1,\\ldots,length(xs)$. "
   ]
  },
  {
   "cell_type": "code",
   "execution_count": 4,
   "metadata": {},
   "outputs": [
    {
     "data": {
      "text/plain": [
       "5-element Array{Float64,1}:\n",
       "  0.0                 \n",
       "  0.9003163161571061  \n",
       " -0.3357488673628103  \n",
       " -0.05902387726988046 \n",
       "  0.037575767311803336"
      ]
     },
     "execution_count": 4,
     "metadata": {},
     "output_type": "execute_result"
    }
   ],
   "source": [
    "# Generate data to interpolate\n",
    "xs = pi*[0; 0.25; 0.5; 0.75; 1.0]\n",
    "ys = sin.(xs)\n",
    "# Now create divided difference table\n",
    "dd = PolyInterp.divdif(xs,ys)"
   ]
  },
  {
   "cell_type": "markdown",
   "metadata": {},
   "source": [
    "The divided difference table *dd* is not very useful on its own. Instead, we use it to create the interpolating polynomial using *dd_interp*."
   ]
  },
  {
   "cell_type": "code",
   "execution_count": 6,
   "metadata": {},
   "outputs": [],
   "source": [
    "tlist = pi*[0:.01:1;]\n",
    "plist = PolyInterp.dd_interp(xs,dd,tlist);"
   ]
  },
  {
   "cell_type": "markdown",
   "metadata": {},
   "source": [
    "Rather than printing out all these values, we should *plot* the results and compare with the *sin* function."
   ]
  },
  {
   "cell_type": "code",
   "execution_count": null,
   "metadata": {},
   "outputs": [
    {
     "name": "stderr",
     "output_type": "stream",
     "text": [
      "┌ Info: Recompiling stale cache file C:\\Users\\dstew\\.julia\\compiled\\v1.0\\Plots\\ld3vC.ji for Plots [91a5bcdd-55d7-5caf-9e0b-520d859cae80]\n",
      "└ @ Base loading.jl:1190\n"
     ]
    }
   ],
   "source": [
    "using Plots\n",
    "pyplot()\n",
    "plot(tlist,plist)\n",
    "plot!(tlist,sin.(tlist))"
   ]
  }
 ],
 "metadata": {
  "kernelspec": {
   "display_name": "Julia 1.6.2",
   "language": "julia",
   "name": "julia-1.6"
  },
  "language_info": {
   "file_extension": ".jl",
   "mimetype": "application/julia",
   "name": "julia",
   "version": "1.6.2"
  }
 },
 "nbformat": 4,
 "nbformat_minor": 2
}
