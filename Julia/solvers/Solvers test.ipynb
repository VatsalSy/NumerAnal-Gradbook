{
 "cells": [
  {
   "cell_type": "markdown",
   "id": "4481ef50",
   "metadata": {},
   "source": [
    "# Solvers test\n",
    "This tests the suite of functions in `NAGC-solvers.jl`. This includes the bisection method (`bisect`), the secant method (`secant`), the Regula Falsi method (`regfalsi`), and the Newton and guarded Newton methods (`newton` and `gnewton`).\n",
    "\n",
    "The interfaces have been \n",
    "\n",
    "The Jacobian matrix function `df(x)` must return an object `dfx` for which `dfx \\ v` is defined for any `v::V`."
   ]
  },
  {
   "cell_type": "code",
   "execution_count": 1,
   "id": "af35560b",
   "metadata": {},
   "outputs": [],
   "source": [
    "include(\"NAGC-solvers.jl\")\n",
    "using .NAGCSolvers"
   ]
  },
  {
   "cell_type": "code",
   "execution_count": 2,
   "id": "5b703ccb",
   "metadata": {},
   "outputs": [
    {
     "name": "stdout",
     "output_type": "stream",
     "text": [
      "search: \u001b[0m\u001b[1mb\u001b[22m\u001b[0m\u001b[1mi\u001b[22m\u001b[0m\u001b[1ms\u001b[22m\u001b[0m\u001b[1me\u001b[22m\u001b[0m\u001b[1mc\u001b[22m\u001b[0m\u001b[1mt\u001b[22m\n",
      "\n"
     ]
    },
    {
     "data": {
      "text/latex": [
       "x,nfe = bisect(f::Function,a::T,b::T,eps::T;     max\\_iter::Int=100, trace::Int=0, xlist::Union\\{Vector\\{T\\},Nothing\\}=nothing)\n",
       "\n",
       "\\begin{verbatim}\n",
       "Uses bisection method on interval ``[a,b]`` (or ``[b,a]`` if ``a > b``) to\n",
       "compute approximate solution `x` to `f(x) == 0`.\n",
       "\\end{verbatim}\n",
       "\\subsubsection{Arguments}\n",
       "\\begin{itemize}\n",
       "\\item \\texttt{f(x)} function \n",
       "\n",
       "\n",
       "\\item \\texttt{a} 1st endpoint of interval\n",
       "\n",
       "\n",
       "\\item \\texttt{b} 2nd endpoint of interval\n",
       "\n",
       "\n",
       "\\item \\texttt{eps} target accuracy\n",
       "\n",
       "\\end{itemize}\n",
       "\\subsubsection{Optional named arguments}\n",
       "\\begin{itemize}\n",
       "\\item \\texttt{max\\_iter} maximum number of iterations (default is 100)\n",
       "\n",
       "\n",
       "\\item \\texttt{trace} trace execution of algorithm (default is 0 for no tracing)\n",
       "\n",
       "\\end{itemize}\n"
      ],
      "text/markdown": [
       "x,nfe = bisect(f::Function,a::T,b::T,eps::T;     max_iter::Int=100, trace::Int=0, xlist::Union{Vector{T},Nothing}=nothing)\n",
       "\n",
       "```\n",
       "Uses bisection method on interval ``[a,b]`` (or ``[b,a]`` if ``a > b``) to\n",
       "compute approximate solution `x` to `f(x) == 0`.\n",
       "```\n",
       "\n",
       "### Arguments\n",
       "\n",
       "  * `f(x)` function\n",
       "  * `a` 1st endpoint of interval\n",
       "  * `b` 2nd endpoint of interval\n",
       "  * `eps` target accuracy\n",
       "\n",
       "### Optional named arguments\n",
       "\n",
       "  * `max_iter` maximum number of iterations (default is 100)\n",
       "  * `trace` trace execution of algorithm (default is 0 for no tracing)\n"
      ],
      "text/plain": [
       "  x,nfe = bisect(f::Function,a::T,b::T,eps::T; max_iter::Int=100,\n",
       "  trace::Int=0, xlist::Union{Vector{T},Nothing}=nothing)\n",
       "\n",
       "\u001b[36m  Uses bisection method on interval ``[a,b]`` (or ``[b,a]`` if ``a > b``) to\u001b[39m\n",
       "\u001b[36m  compute approximate solution `x` to `f(x) == 0`.\u001b[39m\n",
       "\n",
       "\u001b[1m  Arguments\u001b[22m\n",
       "\u001b[1m  –––––––––––\u001b[22m\n",
       "\n",
       "    •  \u001b[36mf(x)\u001b[39m function\n",
       "\n",
       "    •  \u001b[36ma\u001b[39m 1st endpoint of interval\n",
       "\n",
       "    •  \u001b[36mb\u001b[39m 2nd endpoint of interval\n",
       "\n",
       "    •  \u001b[36meps\u001b[39m target accuracy\n",
       "\n",
       "\u001b[1m  Optional named arguments\u001b[22m\n",
       "\u001b[1m  ––––––––––––––––––––––––––\u001b[22m\n",
       "\n",
       "    •  \u001b[36mmax_iter\u001b[39m maximum number of iterations (default is 100)\n",
       "\n",
       "    •  \u001b[36mtrace\u001b[39m trace execution of algorithm (default is 0 for no tracing)"
      ]
     },
     "execution_count": 2,
     "metadata": {},
     "output_type": "execute_result"
    }
   ],
   "source": [
    "?bisect"
   ]
  },
  {
   "cell_type": "code",
   "execution_count": 3,
   "id": "4ed52d19",
   "metadata": {},
   "outputs": [
    {
     "data": {
      "text/plain": [
       "df (generic function with 1 method)"
      ]
     },
     "execution_count": 3,
     "metadata": {},
     "output_type": "execute_result"
    }
   ],
   "source": [
    "f(x) = x*cos(x)-sin(x)\n",
    "df(x) = -x*sin(x)"
   ]
  },
  {
   "cell_type": "code",
   "execution_count": 4,
   "id": "d13a5513",
   "metadata": {},
   "outputs": [
    {
     "data": {
      "text/plain": [
       "(4.493409454437042, 27)"
      ]
     },
     "execution_count": 4,
     "metadata": {},
     "output_type": "execute_result"
    }
   ],
   "source": [
    "xlist_b = Float64[]\n",
    "out_b = bisect(f,0.0,3*pi/2,1e-7,xlist=xlist_b)"
   ]
  },
  {
   "cell_type": "code",
   "execution_count": 5,
   "id": "aca74e66",
   "metadata": {},
   "outputs": [
    {
     "name": "stderr",
     "output_type": "stream",
     "text": [
      "\n",
      "(process:17396): GLib-GIO-WARNING **: 19:18:36.986: Unexpectedly, UWP app `KDEe.V.Okular_22.400.995.0_x64__7vt06qxq7ptv8' (AUMId `KDEe.V.Okular_7vt06qxq7ptv8!KDEe.V.Okular') supports 5 extensions but has no verbs\n"
     ]
    }
   ],
   "source": [
    "using Plots"
   ]
  },
  {
   "cell_type": "code",
   "execution_count": 6,
   "id": "5b8dfa92",
   "metadata": {},
   "outputs": [
    {
     "name": "stdout",
     "output_type": "stream",
     "text": [
      "search: \u001b[0m\u001b[1ms\u001b[22m\u001b[0m\u001b[1me\u001b[22m\u001b[0m\u001b[1mc\u001b[22m\u001b[0m\u001b[1ma\u001b[22m\u001b[0m\u001b[1mn\u001b[22m\u001b[0m\u001b[1mt\u001b[22m ba\u001b[0m\u001b[1ms\u001b[22m\u001b[0m\u001b[1me\u001b[22m_\u001b[0m\u001b[1mc\u001b[22molor\u001b[0m\u001b[1ma\u001b[22m\u001b[0m\u001b[1mn\u001b[22m\u001b[0m\u001b[1mt\u001b[22m_type\n",
      "\n"
     ]
    },
    {
     "data": {
      "text/latex": [
       "\\begin{verbatim}\n",
       "x,nfe = secant((func::Function,x1::T,x2::T,eps::T;\n",
       "    max_iter::Int=100, trace::Int=0, xlist::Union{Vector{T},Nothing}=nothing) where {T}\n",
       "\\end{verbatim}\n",
       "Uses the secant method to solve     \\texttt{func(x) = 0}  Approximate solution returned as \\texttt{x}; \\texttt{nfe} is the number of function evaluations.\n",
       "\n",
       "\\subsubsection{Arguments}\n",
       "\\begin{itemize}\n",
       "\\item \\texttt{func} function to solve for\n",
       "\n",
       "\n",
       "\\item \\texttt{x1} and \\texttt{x2} are the initial guesses.\n",
       "\n",
       "\\end{itemize}\n",
       "\\subsubsection{Optional names arguments}\n",
       "\\begin{itemize}\n",
       "\\item \\texttt{xlist} a history of the iterates if \\texttt{xlist != nothing}\n",
       "\n",
       "\n",
       "\\item \\texttt{max\\_iter} the maximum number of iterations (default is 100)\n",
       "\n",
       "\n",
       "\\item \\texttt{trace} for tracing the operation of the algorithm (default is zero for no tracing)\n",
       "\n",
       "\\end{itemize}\n"
      ],
      "text/markdown": [
       "```\n",
       "x,nfe = secant((func::Function,x1::T,x2::T,eps::T;\n",
       "    max_iter::Int=100, trace::Int=0, xlist::Union{Vector{T},Nothing}=nothing) where {T}\n",
       "```\n",
       "\n",
       "Uses the secant method to solve     `func(x) = 0`  Approximate solution returned as `x`; `nfe` is the number of function evaluations.\n",
       "\n",
       "### Arguments\n",
       "\n",
       "  * `func` function to solve for\n",
       "  * `x1` and `x2` are the initial guesses.\n",
       "\n",
       "### Optional names arguments\n",
       "\n",
       "  * `xlist` a history of the iterates if `xlist != nothing`\n",
       "  * `max_iter` the maximum number of iterations (default is 100)\n",
       "  * `trace` for tracing the operation of the algorithm (default is zero for no tracing)\n"
      ],
      "text/plain": [
       "\u001b[36m  x,nfe = secant((func::Function,x1::T,x2::T,eps::T;\u001b[39m\n",
       "\u001b[36m      max_iter::Int=100, trace::Int=0, xlist::Union{Vector{T},Nothing}=nothing) where {T}\u001b[39m\n",
       "\n",
       "  Uses the secant method to solve \u001b[36mfunc(x) = 0\u001b[39m Approximate solution returned as\n",
       "  \u001b[36mx\u001b[39m; \u001b[36mnfe\u001b[39m is the number of function evaluations.\n",
       "\n",
       "\u001b[1m  Arguments\u001b[22m\n",
       "\u001b[1m  –––––––––––\u001b[22m\n",
       "\n",
       "    •  \u001b[36mfunc\u001b[39m function to solve for\n",
       "\n",
       "    •  \u001b[36mx1\u001b[39m and \u001b[36mx2\u001b[39m are the initial guesses.\n",
       "\n",
       "\u001b[1m  Optional names arguments\u001b[22m\n",
       "\u001b[1m  ––––––––––––––––––––––––––\u001b[22m\n",
       "\n",
       "    •  \u001b[36mxlist\u001b[39m a history of the iterates if \u001b[36mxlist != nothing\u001b[39m\n",
       "\n",
       "    •  \u001b[36mmax_iter\u001b[39m the maximum number of iterations (default is 100)\n",
       "\n",
       "    •  \u001b[36mtrace\u001b[39m for tracing the operation of the algorithm (default is zero\n",
       "       for no tracing)"
      ]
     },
     "execution_count": 6,
     "metadata": {},
     "output_type": "execute_result"
    }
   ],
   "source": [
    "?secant"
   ]
  },
  {
   "cell_type": "code",
   "execution_count": 7,
   "id": "7871e61d",
   "metadata": {},
   "outputs": [
    {
     "data": {
      "text/plain": [
       "(4.493409457909064, 8)"
      ]
     },
     "execution_count": 7,
     "metadata": {},
     "output_type": "execute_result"
    }
   ],
   "source": [
    "xlist_s = Float64[]\n",
    "out_b = secant(f,3.0,1.5*pi,1e-10,xlist=xlist_s)"
   ]
  },
  {
   "cell_type": "code",
   "execution_count": 8,
   "id": "416ef4c9",
   "metadata": {},
   "outputs": [
    {
     "name": "stdout",
     "output_type": "stream",
     "text": [
      "search: \u001b[0m\u001b[1mr\u001b[22m\u001b[0m\u001b[1me\u001b[22m\u001b[0m\u001b[1mg\u001b[22m\u001b[0m\u001b[1mf\u001b[22m\u001b[0m\u001b[1ma\u001b[22m\u001b[0m\u001b[1ml\u001b[22m\u001b[0m\u001b[1ms\u001b[22m\u001b[0m\u001b[1mi\u001b[22m\n",
      "\n"
     ]
    },
    {
     "data": {
      "text/latex": [
       "\\begin{verbatim}\n",
       "x,nfe = regfalsi(f::Function,a::T,b::T,eps::T;\n",
       "    max_iter::Int=100, trace::Int=0, xlist::Union{Vector{T},Nothing}=nothing)\n",
       "\n",
       "Uses the Regula Falsi method on interval ``[a,b]`` (or ``[b,a]`` if ``a > b``) to\n",
       "compute approximate solution `x` to `f(x) == 0`.\n",
       "\\end{verbatim}\n",
       "\\subsubsection{Arguments}\n",
       "\\begin{itemize}\n",
       "\\item \\texttt{f(x)} function \n",
       "\n",
       "\n",
       "\\item \\texttt{a} 1st endpoint of interval\n",
       "\n",
       "\n",
       "\\item \\texttt{b} 2nd endpoint of interval\n",
       "\n",
       "\n",
       "\\item \\texttt{eps} target accuracy\n",
       "\n",
       "\\end{itemize}\n",
       "\\subsubsection{Optional named arguments}\n",
       "\\begin{itemize}\n",
       "\\item \\texttt{max\\_iter} maximum number of iterations (default is 100)\n",
       "\n",
       "\n",
       "\\item \\texttt{trace} trace execution of algorithm (default is 0 for no tracing)\n",
       "\n",
       "\n",
       "\\item \\texttt{xlist} a history of the iterates if \\texttt{xlist != nothing}\n",
       "\n",
       "\\end{itemize}\n"
      ],
      "text/markdown": [
       "```\n",
       "x,nfe = regfalsi(f::Function,a::T,b::T,eps::T;\n",
       "    max_iter::Int=100, trace::Int=0, xlist::Union{Vector{T},Nothing}=nothing)\n",
       "\n",
       "Uses the Regula Falsi method on interval ``[a,b]`` (or ``[b,a]`` if ``a > b``) to\n",
       "compute approximate solution `x` to `f(x) == 0`.\n",
       "```\n",
       "\n",
       "### Arguments\n",
       "\n",
       "  * `f(x)` function\n",
       "  * `a` 1st endpoint of interval\n",
       "  * `b` 2nd endpoint of interval\n",
       "  * `eps` target accuracy\n",
       "\n",
       "### Optional named arguments\n",
       "\n",
       "  * `max_iter` maximum number of iterations (default is 100)\n",
       "  * `trace` trace execution of algorithm (default is 0 for no tracing)\n",
       "  * `xlist` a history of the iterates if `xlist != nothing`\n"
      ],
      "text/plain": [
       "\u001b[36m  x,nfe = regfalsi(f::Function,a::T,b::T,eps::T;\u001b[39m\n",
       "\u001b[36m      max_iter::Int=100, trace::Int=0, xlist::Union{Vector{T},Nothing}=nothing)\u001b[39m\n",
       "\u001b[36m  \u001b[39m\n",
       "\u001b[36m  Uses the Regula Falsi method on interval ``[a,b]`` (or ``[b,a]`` if ``a > b``) to\u001b[39m\n",
       "\u001b[36m  compute approximate solution `x` to `f(x) == 0`.\u001b[39m\n",
       "\n",
       "\u001b[1m  Arguments\u001b[22m\n",
       "\u001b[1m  –––––––––––\u001b[22m\n",
       "\n",
       "    •  \u001b[36mf(x)\u001b[39m function\n",
       "\n",
       "    •  \u001b[36ma\u001b[39m 1st endpoint of interval\n",
       "\n",
       "    •  \u001b[36mb\u001b[39m 2nd endpoint of interval\n",
       "\n",
       "    •  \u001b[36meps\u001b[39m target accuracy\n",
       "\n",
       "\u001b[1m  Optional named arguments\u001b[22m\n",
       "\u001b[1m  ––––––––––––––––––––––––––\u001b[22m\n",
       "\n",
       "    •  \u001b[36mmax_iter\u001b[39m maximum number of iterations (default is 100)\n",
       "\n",
       "    •  \u001b[36mtrace\u001b[39m trace execution of algorithm (default is 0 for no tracing)\n",
       "\n",
       "    •  \u001b[36mxlist\u001b[39m a history of the iterates if \u001b[36mxlist != nothing\u001b[39m"
      ]
     },
     "execution_count": 8,
     "metadata": {},
     "output_type": "execute_result"
    }
   ],
   "source": [
    "?regfalsi"
   ]
  },
  {
   "cell_type": "code",
   "execution_count": 9,
   "id": "b62749ed",
   "metadata": {},
   "outputs": [
    {
     "data": {
      "text/plain": [
       "(4.493409457909064, 14)"
      ]
     },
     "execution_count": 9,
     "metadata": {},
     "output_type": "execute_result"
    }
   ],
   "source": [
    "xlist_r = Float64[]\n",
    "out_b = regfalsi(f,3.0,1.5*pi,1e-7,xlist=xlist_r)"
   ]
  },
  {
   "cell_type": "code",
   "execution_count": 10,
   "id": "122a01f6",
   "metadata": {},
   "outputs": [
    {
     "name": "stdout",
     "output_type": "stream",
     "text": [
      "search: \u001b[0m\u001b[1mf\u001b[22m\u001b[0m\u001b[1mi\u001b[22m\u001b[0m\u001b[1mx\u001b[22m\u001b[0m\u001b[1me\u001b[22m\u001b[0m\u001b[1md\u001b[22m\u001b[0m\u001b[1mp\u001b[22m\u001b[0m\u001b[1mt\u001b[22m\n",
      "\n"
     ]
    },
    {
     "data": {
      "text/latex": [
       "\\begin{verbatim}\n",
       "fixedpt(g::Function,x::V,eps::T;\n",
       "    max_iter::Int=100, trace::Int=0, xlist::Union{Vector{T},Nothing}=nothing) where {T}\n",
       "\\end{verbatim}\n",
       "Solves $g(x)=x$ via the iteration $x_{n+1}\\gets g(x_n)$.\n",
       "\n",
       "Returns iterate \\texttt{x} and number of function evaluations \\texttt{nfe}.\n",
       "\n",
       "\\subsubsection{Arguments}\n",
       "\\begin{itemize}\n",
       "\\item \\texttt{f(x)} is the function value at \\texttt{x},\n",
       "\n",
       "\n",
       "\\item \\texttt{x} (input) is the initial guess,\n",
       "\n",
       "\n",
       "\\item \\texttt{eps > 0} is the error tolerance: the method stops when \\texttt{||f(x)|| < eps}.\n",
       "\n",
       "\\end{itemize}\n",
       "\\subsubsection{Optional named arguments}\n",
       "\\begin{itemize}\n",
       "\\item \\texttt{xlist} is the list of the iterates (if \\texttt{xlist != nothing})\n",
       "\n",
       "\n",
       "\\item \\texttt{trace=1} to trace the execuation of the algorithm\n",
       "\n",
       "\n",
       "\\item \\texttt{max\\_iter=m} to limit the algorithm to no more than \\texttt{m} iterations (default is 10000)\n",
       "\n",
       "\\end{itemize}\n"
      ],
      "text/markdown": [
       "```\n",
       "fixedpt(g::Function,x::V,eps::T;\n",
       "    max_iter::Int=100, trace::Int=0, xlist::Union{Vector{T},Nothing}=nothing) where {T}\n",
       "```\n",
       "\n",
       "Solves $g(x)=x$ via the iteration $x_{n+1}\\gets g(x_n)$.\n",
       "\n",
       "Returns iterate `x` and number of function evaluations `nfe`.\n",
       "\n",
       "### Arguments\n",
       "\n",
       "  * `f(x)` is the function value at `x`,\n",
       "  * `x` (input) is the initial guess,\n",
       "  * `eps > 0` is the error tolerance: the method stops when `||f(x)|| < eps`.\n",
       "\n",
       "### Optional named arguments\n",
       "\n",
       "  * `xlist` is the list of the iterates (if `xlist != nothing`)\n",
       "  * `trace=1` to trace the execuation of the algorithm\n",
       "  * `max_iter=m` to limit the algorithm to no more than `m` iterations (default is 10000)\n"
      ],
      "text/plain": [
       "\u001b[36m  fixedpt(g::Function,x::V,eps::T;\u001b[39m\n",
       "\u001b[36m      max_iter::Int=100, trace::Int=0, xlist::Union{Vector{T},Nothing}=nothing) where {T}\u001b[39m\n",
       "\n",
       "  Solves \u001b[35mg(x)=x\u001b[39m via the iteration \u001b[35mx_{n+1}\\gets g(x_n)\u001b[39m.\n",
       "\n",
       "  Returns iterate \u001b[36mx\u001b[39m and number of function evaluations \u001b[36mnfe\u001b[39m.\n",
       "\n",
       "\u001b[1m  Arguments\u001b[22m\n",
       "\u001b[1m  –––––––––––\u001b[22m\n",
       "\n",
       "    •  \u001b[36mf(x)\u001b[39m is the function value at \u001b[36mx\u001b[39m,\n",
       "\n",
       "    •  \u001b[36mx\u001b[39m (input) is the initial guess,\n",
       "\n",
       "    •  \u001b[36meps > 0\u001b[39m is the error tolerance: the method stops when \u001b[36m||f(x)|| <\n",
       "       eps\u001b[39m.\n",
       "\n",
       "\u001b[1m  Optional named arguments\u001b[22m\n",
       "\u001b[1m  ––––––––––––––––––––––––––\u001b[22m\n",
       "\n",
       "    •  \u001b[36mxlist\u001b[39m is the list of the iterates (if \u001b[36mxlist != nothing\u001b[39m)\n",
       "\n",
       "    •  \u001b[36mtrace=1\u001b[39m to trace the execuation of the algorithm\n",
       "\n",
       "    •  \u001b[36mmax_iter=m\u001b[39m to limit the algorithm to no more than \u001b[36mm\u001b[39m iterations\n",
       "       (default is 10000)"
      ]
     },
     "execution_count": 10,
     "metadata": {},
     "output_type": "execute_result"
    }
   ],
   "source": [
    "?fixedpt"
   ]
  },
  {
   "cell_type": "code",
   "execution_count": 11,
   "id": "f373a80a",
   "metadata": {},
   "outputs": [
    {
     "data": {
      "text/plain": [
       "(4.493409457914199, 9)"
      ]
     },
     "execution_count": 11,
     "metadata": {},
     "output_type": "execute_result"
    }
   ],
   "source": [
    "xlist_f = Float64[]\n",
    "out_f = fixedpt(x->pi+atan(x),1.5*pi,1e-10,xlist=xlist_f)"
   ]
  },
  {
   "cell_type": "code",
   "execution_count": 12,
   "id": "4ac51450",
   "metadata": {},
   "outputs": [
    {
     "name": "stdout",
     "output_type": "stream",
     "text": [
      "search: \u001b[0m\u001b[1mn\u001b[22m\u001b[0m\u001b[1me\u001b[22m\u001b[0m\u001b[1mw\u001b[22m\u001b[0m\u001b[1mt\u001b[22m\u001b[0m\u001b[1mo\u001b[22m\u001b[0m\u001b[1mn\u001b[22m g\u001b[0m\u001b[1mn\u001b[22m\u001b[0m\u001b[1me\u001b[22m\u001b[0m\u001b[1mw\u001b[22m\u001b[0m\u001b[1mt\u001b[22m\u001b[0m\u001b[1mo\u001b[22m\u001b[0m\u001b[1mn\u001b[22m\n",
      "\n"
     ]
    },
    {
     "data": {
      "text/latex": [
       "\\begin{verbatim}\n",
       "function newton(f::Function, df::Function, x::V, eps::Number; \n",
       "              trace=0::Int, itmax=10000::Int, xlist::Union{Vector{V},Nothing}=nothing)\n",
       "\\end{verbatim}\n",
       "Implements Newton's method for solving \\texttt{f(x) == 0}.\n",
       "\n",
       "\\subsubsection{Arguments}\n",
       "\\begin{itemize}\n",
       "\\item \\texttt{f(x)} is the function value at \\texttt{x},\n",
       "\n",
       "\n",
       "\\item \\texttt{df(x)} is the Jacobian matrix of \\texttt{f} at \\texttt{x},\n",
       "\n",
       "\n",
       "\\item \\texttt{x} (input) is the initial guess,\n",
       "\n",
       "\n",
       "\\item \\texttt{eps > 0} is the error tolerance: the method stops when \\texttt{||f(x)|| < eps}.\n",
       "\n",
       "\\end{itemize}\n",
       "\\subsubsection{Optional named arguments}\n",
       "\\begin{itemize}\n",
       "\\item \\texttt{xlist} is the list of the iterates (if \\texttt{xlist != nothing})\n",
       "\n",
       "\n",
       "\\item \\texttt{trace=1} to trace the execuation of the algorithm\n",
       "\n",
       "\n",
       "\\item \\texttt{itmax=m} to limit the algorithm to no more than \\texttt{m} iterations (default is 10000)\n",
       "\n",
       "Returns solution, along with number of function and derivative (i.e., Jacobian) evaluations (\\texttt{nfe}, \\texttt{nde} resp.)\n",
       "\n",
       "Example: To solve $x-\\cos(x) = 0$ with a tolerance of $10^{-10}$ and starting at $x=0$:   \\texttt{x,nfe,nde = newton(x->x-cos(x),x->1+sin(x),0,1e-10)}\n",
       "\n",
       "\\end{itemize}\n"
      ],
      "text/markdown": [
       "```\n",
       "function newton(f::Function, df::Function, x::V, eps::Number; \n",
       "              trace=0::Int, itmax=10000::Int, xlist::Union{Vector{V},Nothing}=nothing)\n",
       "```\n",
       "\n",
       "Implements Newton's method for solving `f(x) == 0`.\n",
       "\n",
       "### Arguments\n",
       "\n",
       "  * `f(x)` is the function value at `x`,\n",
       "  * `df(x)` is the Jacobian matrix of `f` at `x`,\n",
       "  * `x` (input) is the initial guess,\n",
       "  * `eps > 0` is the error tolerance: the method stops when `||f(x)|| < eps`.\n",
       "\n",
       "### Optional named arguments\n",
       "\n",
       "  * `xlist` is the list of the iterates (if `xlist != nothing`)\n",
       "  * `trace=1` to trace the execuation of the algorithm\n",
       "  * `itmax=m` to limit the algorithm to no more than `m` iterations (default is 10000)\n",
       "\n",
       "    Returns solution, along with number of function and derivative (i.e., Jacobian) evaluations (`nfe`, `nde` resp.)\n",
       "\n",
       "    Example: To solve $x-\\cos(x) = 0$ with a tolerance of $10^{-10}$ and starting at $x=0$:   `x,nfe,nde = newton(x->x-cos(x),x->1+sin(x),0,1e-10)`\n"
      ],
      "text/plain": [
       "\u001b[36m  function newton(f::Function, df::Function, x::V, eps::Number; \u001b[39m\n",
       "\u001b[36m                trace=0::Int, itmax=10000::Int, xlist::Union{Vector{V},Nothing}=nothing)\u001b[39m\n",
       "\n",
       "  Implements Newton's method for solving \u001b[36mf(x) == 0\u001b[39m.\n",
       "\n",
       "\u001b[1m  Arguments\u001b[22m\n",
       "\u001b[1m  –––––––––––\u001b[22m\n",
       "\n",
       "    •  \u001b[36mf(x)\u001b[39m is the function value at \u001b[36mx\u001b[39m,\n",
       "\n",
       "    •  \u001b[36mdf(x)\u001b[39m is the Jacobian matrix of \u001b[36mf\u001b[39m at \u001b[36mx\u001b[39m,\n",
       "\n",
       "    •  \u001b[36mx\u001b[39m (input) is the initial guess,\n",
       "\n",
       "    •  \u001b[36meps > 0\u001b[39m is the error tolerance: the method stops when \u001b[36m||f(x)|| <\n",
       "       eps\u001b[39m.\n",
       "\n",
       "\u001b[1m  Optional named arguments\u001b[22m\n",
       "\u001b[1m  ––––––––––––––––––––––––––\u001b[22m\n",
       "\n",
       "    •  \u001b[36mxlist\u001b[39m is the list of the iterates (if \u001b[36mxlist != nothing\u001b[39m)\n",
       "\n",
       "    •  \u001b[36mtrace=1\u001b[39m to trace the execuation of the algorithm\n",
       "\n",
       "    •  \u001b[36mitmax=m\u001b[39m to limit the algorithm to no more than \u001b[36mm\u001b[39m iterations\n",
       "       (default is 10000)\n",
       "       Returns solution, along with number of function and derivative\n",
       "       (i.e., Jacobian) evaluations (\u001b[36mnfe\u001b[39m, \u001b[36mnde\u001b[39m resp.)\n",
       "       Example: To solve \u001b[35mx-\\cos(x) = 0\u001b[39m with a tolerance of \u001b[35m10^{-10}\u001b[39m and\n",
       "       starting at \u001b[35mx=0\u001b[39m: \u001b[36mx,nfe,nde =\n",
       "       newton(x->x-cos(x),x->1+sin(x),0,1e-10)\u001b[39m"
      ]
     },
     "execution_count": 12,
     "metadata": {},
     "output_type": "execute_result"
    }
   ],
   "source": [
    "?newton"
   ]
  },
  {
   "cell_type": "code",
   "execution_count": 13,
   "id": "2c8b186f",
   "metadata": {},
   "outputs": [
    {
     "data": {
      "text/plain": [
       "(4.493409457931699, 4, 3)"
      ]
     },
     "execution_count": 13,
     "metadata": {},
     "output_type": "execute_result"
    }
   ],
   "source": [
    "xlist_n = Float64[]\n",
    "out = newton(f,df,3pi/2,1e-10,xlist=xlist_n)"
   ]
  },
  {
   "cell_type": "code",
   "execution_count": 14,
   "id": "ef0661d6",
   "metadata": {},
   "outputs": [
    {
     "data": {
      "text/plain": [
       "3-element Vector{Float64}:\n",
       " 4.500182389595496\n",
       " 4.493419543039482\n",
       " 4.493409457931699"
      ]
     },
     "execution_count": 14,
     "metadata": {},
     "output_type": "execute_result"
    }
   ],
   "source": [
    "xlist_n"
   ]
  },
  {
   "cell_type": "code",
   "execution_count": 15,
   "id": "cd53a0f2",
   "metadata": {},
   "outputs": [
    {
     "data": {
      "text/plain": [
       "3-element Vector{Float64}:\n",
       " 0.02975136321189742\n",
       " 4.423454245627845e-5\n",
       " 9.928058375408e-11"
      ]
     },
     "execution_count": 15,
     "metadata": {},
     "output_type": "execute_result"
    }
   ],
   "source": [
    "f.(xlist_n)"
   ]
  },
  {
   "cell_type": "code",
   "execution_count": 16,
   "id": "ba9a530e",
   "metadata": {},
   "outputs": [
    {
     "data": {
      "image/svg+xml": [
       "<?xml version=\"1.0\" encoding=\"utf-8\"?>\n",
       "<svg xmlns=\"http://www.w3.org/2000/svg\" xmlns:xlink=\"http://www.w3.org/1999/xlink\" width=\"600\" height=\"400\" viewBox=\"0 0 2400 1600\">\n",
       "<defs>\n",
       "  <clipPath id=\"clip790\">\n",
       "    <rect x=\"0\" y=\"0\" width=\"2400\" height=\"1600\"/>\n",
       "  </clipPath>\n",
       "</defs>\n",
       "<path clip-path=\"url(#clip790)\" d=\"\n",
       "M0 1600 L2400 1600 L2400 0 L0 0  Z\n",
       "  \" fill=\"#ffffff\" fill-rule=\"evenodd\" fill-opacity=\"1\"/>\n",
       "<defs>\n",
       "  <clipPath id=\"clip791\">\n",
       "    <rect x=\"480\" y=\"0\" width=\"1681\" height=\"1600\"/>\n",
       "  </clipPath>\n",
       "</defs>\n",
       "<path clip-path=\"url(#clip790)\" d=\"\n",
       "M276.876 1423.18 L2352.76 1423.18 L2352.76 47.2441 L276.876 47.2441  Z\n",
       "  \" fill=\"#ffffff\" fill-rule=\"evenodd\" fill-opacity=\"1\"/>\n",
       "<defs>\n",
       "  <clipPath id=\"clip792\">\n",
       "    <rect x=\"276\" y=\"47\" width=\"2077\" height=\"1377\"/>\n",
       "  </clipPath>\n",
       "</defs>\n",
       "<polyline clip-path=\"url(#clip792)\" style=\"stroke:#000000; stroke-linecap:butt; stroke-linejoin:round; stroke-width:2; stroke-opacity:0.1; fill:none\" points=\"\n",
       "  662.023,1423.18 662.023,47.2441 \n",
       "  \"/>\n",
       "<polyline clip-path=\"url(#clip792)\" style=\"stroke:#000000; stroke-linecap:butt; stroke-linejoin:round; stroke-width:2; stroke-opacity:0.1; fill:none\" points=\"\n",
       "  1070.02,1423.18 1070.02,47.2441 \n",
       "  \"/>\n",
       "<polyline clip-path=\"url(#clip792)\" style=\"stroke:#000000; stroke-linecap:butt; stroke-linejoin:round; stroke-width:2; stroke-opacity:0.1; fill:none\" points=\"\n",
       "  1478.01,1423.18 1478.01,47.2441 \n",
       "  \"/>\n",
       "<polyline clip-path=\"url(#clip792)\" style=\"stroke:#000000; stroke-linecap:butt; stroke-linejoin:round; stroke-width:2; stroke-opacity:0.1; fill:none\" points=\"\n",
       "  1886.01,1423.18 1886.01,47.2441 \n",
       "  \"/>\n",
       "<polyline clip-path=\"url(#clip792)\" style=\"stroke:#000000; stroke-linecap:butt; stroke-linejoin:round; stroke-width:2; stroke-opacity:0.1; fill:none\" points=\"\n",
       "  2294,1423.18 2294,47.2441 \n",
       "  \"/>\n",
       "<polyline clip-path=\"url(#clip790)\" style=\"stroke:#000000; stroke-linecap:butt; stroke-linejoin:round; stroke-width:4; stroke-opacity:1; fill:none\" points=\"\n",
       "  276.876,1423.18 2352.76,1423.18 \n",
       "  \"/>\n",
       "<polyline clip-path=\"url(#clip790)\" style=\"stroke:#000000; stroke-linecap:butt; stroke-linejoin:round; stroke-width:4; stroke-opacity:1; fill:none\" points=\"\n",
       "  662.023,1423.18 662.023,1404.28 \n",
       "  \"/>\n",
       "<polyline clip-path=\"url(#clip790)\" style=\"stroke:#000000; stroke-linecap:butt; stroke-linejoin:round; stroke-width:4; stroke-opacity:1; fill:none\" points=\"\n",
       "  1070.02,1423.18 1070.02,1404.28 \n",
       "  \"/>\n",
       "<polyline clip-path=\"url(#clip790)\" style=\"stroke:#000000; stroke-linecap:butt; stroke-linejoin:round; stroke-width:4; stroke-opacity:1; fill:none\" points=\"\n",
       "  1478.01,1423.18 1478.01,1404.28 \n",
       "  \"/>\n",
       "<polyline clip-path=\"url(#clip790)\" style=\"stroke:#000000; stroke-linecap:butt; stroke-linejoin:round; stroke-width:4; stroke-opacity:1; fill:none\" points=\"\n",
       "  1886.01,1423.18 1886.01,1404.28 \n",
       "  \"/>\n",
       "<polyline clip-path=\"url(#clip790)\" style=\"stroke:#000000; stroke-linecap:butt; stroke-linejoin:round; stroke-width:4; stroke-opacity:1; fill:none\" points=\"\n",
       "  2294,1423.18 2294,1404.28 \n",
       "  \"/>\n",
       "<path clip-path=\"url(#clip790)\" d=\"M652.301 1451.02 L670.657 1451.02 L670.657 1454.96 L656.583 1454.96 L656.583 1463.43 Q657.602 1463.08 658.62 1462.92 Q659.639 1462.73 660.657 1462.73 Q666.444 1462.73 669.824 1465.9 Q673.204 1469.08 673.204 1474.49 Q673.204 1480.07 669.731 1483.17 Q666.259 1486.25 659.94 1486.25 Q657.764 1486.25 655.495 1485.88 Q653.25 1485.51 650.843 1484.77 L650.843 1480.07 Q652.926 1481.2 655.148 1481.76 Q657.37 1482.32 659.847 1482.32 Q663.852 1482.32 666.19 1480.21 Q668.528 1478.1 668.528 1474.49 Q668.528 1470.88 666.19 1468.77 Q663.852 1466.67 659.847 1466.67 Q657.972 1466.67 656.097 1467.08 Q654.245 1467.5 652.301 1468.38 L652.301 1451.02 Z\" fill=\"#000000\" fill-rule=\"evenodd\" fill-opacity=\"1\" /><path clip-path=\"url(#clip790)\" d=\"M1044.71 1481.64 L1052.34 1481.64 L1052.34 1455.28 L1044.03 1456.95 L1044.03 1452.69 L1052.3 1451.02 L1056.97 1451.02 L1056.97 1481.64 L1064.61 1481.64 L1064.61 1485.58 L1044.71 1485.58 L1044.71 1481.64 Z\" fill=\"#000000\" fill-rule=\"evenodd\" fill-opacity=\"1\" /><path clip-path=\"url(#clip790)\" d=\"M1084.06 1454.1 Q1080.45 1454.1 1078.62 1457.66 Q1076.81 1461.2 1076.81 1468.33 Q1076.81 1475.44 1078.62 1479.01 Q1080.45 1482.55 1084.06 1482.55 Q1087.69 1482.55 1089.5 1479.01 Q1091.33 1475.44 1091.33 1468.33 Q1091.33 1461.2 1089.5 1457.66 Q1087.69 1454.1 1084.06 1454.1 M1084.06 1450.39 Q1089.87 1450.39 1092.92 1455 Q1096 1459.58 1096 1468.33 Q1096 1477.06 1092.92 1481.67 Q1089.87 1486.25 1084.06 1486.25 Q1078.25 1486.25 1075.17 1481.67 Q1072.11 1477.06 1072.11 1468.33 Q1072.11 1459.58 1075.17 1455 Q1078.25 1450.39 1084.06 1450.39 Z\" fill=\"#000000\" fill-rule=\"evenodd\" fill-opacity=\"1\" /><path clip-path=\"url(#clip790)\" d=\"M1453.2 1481.64 L1460.84 1481.64 L1460.84 1455.28 L1452.53 1456.95 L1452.53 1452.69 L1460.79 1451.02 L1465.47 1451.02 L1465.47 1481.64 L1473.11 1481.64 L1473.11 1485.58 L1453.2 1485.58 L1453.2 1481.64 Z\" fill=\"#000000\" fill-rule=\"evenodd\" fill-opacity=\"1\" /><path clip-path=\"url(#clip790)\" d=\"M1482.6 1451.02 L1500.95 1451.02 L1500.95 1454.96 L1486.88 1454.96 L1486.88 1463.43 Q1487.9 1463.08 1488.92 1462.92 Q1489.94 1462.73 1490.95 1462.73 Q1496.74 1462.73 1500.12 1465.9 Q1503.5 1469.08 1503.5 1474.49 Q1503.5 1480.07 1500.03 1483.17 Q1496.56 1486.25 1490.24 1486.25 Q1488.06 1486.25 1485.79 1485.88 Q1483.55 1485.51 1481.14 1484.77 L1481.14 1480.07 Q1483.22 1481.2 1485.44 1481.76 Q1487.67 1482.32 1490.14 1482.32 Q1494.15 1482.32 1496.49 1480.21 Q1498.82 1478.1 1498.82 1474.49 Q1498.82 1470.88 1496.49 1468.77 Q1494.15 1466.67 1490.14 1466.67 Q1488.27 1466.67 1486.39 1467.08 Q1484.54 1467.5 1482.6 1468.38 L1482.6 1451.02 Z\" fill=\"#000000\" fill-rule=\"evenodd\" fill-opacity=\"1\" /><path clip-path=\"url(#clip790)\" d=\"M1864.78 1481.64 L1881.1 1481.64 L1881.1 1485.58 L1859.16 1485.58 L1859.16 1481.64 Q1861.82 1478.89 1866.4 1474.26 Q1871.01 1469.61 1872.19 1468.27 Q1874.44 1465.74 1875.31 1464.01 Q1876.22 1462.25 1876.22 1460.56 Q1876.22 1457.8 1874.27 1456.07 Q1872.35 1454.33 1869.25 1454.33 Q1867.05 1454.33 1864.6 1455.09 Q1862.17 1455.86 1859.39 1457.41 L1859.39 1452.69 Q1862.21 1451.55 1864.67 1450.97 Q1867.12 1450.39 1869.16 1450.39 Q1874.53 1450.39 1877.72 1453.08 Q1880.92 1455.77 1880.92 1460.26 Q1880.92 1462.39 1880.11 1464.31 Q1879.32 1466.2 1877.21 1468.8 Q1876.63 1469.47 1873.53 1472.69 Q1870.43 1475.88 1864.78 1481.64 Z\" fill=\"#000000\" fill-rule=\"evenodd\" fill-opacity=\"1\" /><path clip-path=\"url(#clip790)\" d=\"M1900.92 1454.1 Q1897.31 1454.1 1895.48 1457.66 Q1893.67 1461.2 1893.67 1468.33 Q1893.67 1475.44 1895.48 1479.01 Q1897.31 1482.55 1900.92 1482.55 Q1904.55 1482.55 1906.36 1479.01 Q1908.19 1475.44 1908.19 1468.33 Q1908.19 1461.2 1906.36 1457.66 Q1904.55 1454.1 1900.92 1454.1 M1900.92 1450.39 Q1906.73 1450.39 1909.78 1455 Q1912.86 1459.58 1912.86 1468.33 Q1912.86 1477.06 1909.78 1481.67 Q1906.73 1486.25 1900.92 1486.25 Q1895.11 1486.25 1892.03 1481.67 Q1888.97 1477.06 1888.97 1468.33 Q1888.97 1459.58 1892.03 1455 Q1895.11 1450.39 1900.92 1450.39 Z\" fill=\"#000000\" fill-rule=\"evenodd\" fill-opacity=\"1\" /><path clip-path=\"url(#clip790)\" d=\"M2273.28 1481.64 L2289.59 1481.64 L2289.59 1485.58 L2267.65 1485.58 L2267.65 1481.64 Q2270.31 1478.89 2274.9 1474.26 Q2279.5 1469.61 2280.68 1468.27 Q2282.93 1465.74 2283.81 1464.01 Q2284.71 1462.25 2284.71 1460.56 Q2284.71 1457.8 2282.77 1456.07 Q2280.84 1454.33 2277.74 1454.33 Q2275.54 1454.33 2273.09 1455.09 Q2270.66 1455.86 2267.88 1457.41 L2267.88 1452.69 Q2270.71 1451.55 2273.16 1450.97 Q2275.61 1450.39 2277.65 1450.39 Q2283.02 1450.39 2286.22 1453.08 Q2289.41 1455.77 2289.41 1460.26 Q2289.41 1462.39 2288.6 1464.31 Q2287.81 1466.2 2285.71 1468.8 Q2285.13 1469.47 2282.03 1472.69 Q2278.92 1475.88 2273.28 1481.64 Z\" fill=\"#000000\" fill-rule=\"evenodd\" fill-opacity=\"1\" /><path clip-path=\"url(#clip790)\" d=\"M2299.46 1451.02 L2317.81 1451.02 L2317.81 1454.96 L2303.74 1454.96 L2303.74 1463.43 Q2304.76 1463.08 2305.78 1462.92 Q2306.79 1462.73 2307.81 1462.73 Q2313.6 1462.73 2316.98 1465.9 Q2320.36 1469.08 2320.36 1474.49 Q2320.36 1480.07 2316.89 1483.17 Q2313.41 1486.25 2307.09 1486.25 Q2304.92 1486.25 2302.65 1485.88 Q2300.41 1485.51 2298 1484.77 L2298 1480.07 Q2300.08 1481.2 2302.3 1481.76 Q2304.53 1482.32 2307 1482.32 Q2311.01 1482.32 2313.34 1480.21 Q2315.68 1478.1 2315.68 1474.49 Q2315.68 1470.88 2313.34 1468.77 Q2311.01 1466.67 2307 1466.67 Q2305.13 1466.67 2303.25 1467.08 Q2301.4 1467.5 2299.46 1468.38 L2299.46 1451.02 Z\" fill=\"#000000\" fill-rule=\"evenodd\" fill-opacity=\"1\" /><path clip-path=\"url(#clip790)\" d=\"M1182.97 1532.4 L1188.82 1532.4 L1188.82 1568.04 L1182.97 1568.04 L1182.97 1532.4 M1182.97 1518.52 L1188.82 1518.52 L1188.82 1525.93 L1182.97 1525.93 L1182.97 1518.52 Z\" fill=\"#000000\" fill-rule=\"evenodd\" fill-opacity=\"1\" /><path clip-path=\"url(#clip790)\" d=\"M1206.87 1522.27 L1206.87 1532.4 L1218.93 1532.4 L1218.93 1536.95 L1206.87 1536.95 L1206.87 1556.3 Q1206.87 1560.66 1208.05 1561.9 Q1209.26 1563.14 1212.92 1563.14 L1218.93 1563.14 L1218.93 1568.04 L1212.92 1568.04 Q1206.14 1568.04 1203.56 1565.53 Q1200.98 1562.98 1200.98 1556.3 L1200.98 1536.95 L1196.68 1536.95 L1196.68 1532.4 L1200.98 1532.4 L1200.98 1522.27 L1206.87 1522.27 Z\" fill=\"#000000\" fill-rule=\"evenodd\" fill-opacity=\"1\" /><path clip-path=\"url(#clip790)\" d=\"M1257.13 1548.76 L1257.13 1551.62 L1230.2 1551.62 Q1230.58 1557.67 1233.83 1560.85 Q1237.11 1564 1242.93 1564 Q1246.3 1564 1249.46 1563.17 Q1252.64 1562.35 1255.76 1560.69 L1255.76 1566.23 Q1252.61 1567.57 1249.3 1568.27 Q1245.99 1568.97 1242.58 1568.97 Q1234.05 1568.97 1229.05 1564 Q1224.09 1559.04 1224.09 1550.57 Q1224.09 1541.82 1228.8 1536.69 Q1233.54 1531.54 1241.56 1531.54 Q1248.76 1531.54 1252.93 1536.18 Q1257.13 1540.8 1257.13 1548.76 M1251.27 1547.04 Q1251.21 1542.23 1248.56 1539.37 Q1245.95 1536.5 1241.63 1536.5 Q1236.72 1536.5 1233.76 1539.27 Q1230.84 1542.04 1230.39 1547.07 L1251.27 1547.04 Z\" fill=\"#000000\" fill-rule=\"evenodd\" fill-opacity=\"1\" /><path clip-path=\"url(#clip790)\" d=\"M1287.4 1537.87 Q1286.41 1537.3 1285.23 1537.04 Q1284.09 1536.76 1282.68 1536.76 Q1277.72 1536.76 1275.05 1540 Q1272.4 1543.22 1272.4 1549.27 L1272.4 1568.04 L1266.52 1568.04 L1266.52 1532.4 L1272.4 1532.4 L1272.4 1537.93 Q1274.25 1534.69 1277.21 1533.13 Q1280.17 1531.54 1284.4 1531.54 Q1285.01 1531.54 1285.74 1531.63 Q1286.47 1531.7 1287.36 1531.85 L1287.4 1537.87 Z\" fill=\"#000000\" fill-rule=\"evenodd\" fill-opacity=\"1\" /><path clip-path=\"url(#clip790)\" d=\"M1309.74 1550.12 Q1302.64 1550.12 1299.9 1551.75 Q1297.17 1553.37 1297.17 1557.29 Q1297.17 1560.4 1299.2 1562.25 Q1301.27 1564.07 1304.81 1564.07 Q1309.68 1564.07 1312.6 1560.63 Q1315.56 1557.16 1315.56 1551.43 L1315.56 1550.12 L1309.74 1550.12 M1321.42 1547.71 L1321.42 1568.04 L1315.56 1568.04 L1315.56 1562.63 Q1313.56 1565.88 1310.57 1567.44 Q1307.57 1568.97 1303.25 1568.97 Q1297.77 1568.97 1294.53 1565.91 Q1291.31 1562.82 1291.31 1557.67 Q1291.31 1551.65 1295.32 1548.6 Q1299.36 1545.54 1307.35 1545.54 L1315.56 1545.54 L1315.56 1544.97 Q1315.56 1540.93 1312.89 1538.73 Q1310.25 1536.5 1305.44 1536.5 Q1302.39 1536.5 1299.49 1537.23 Q1296.59 1537.97 1293.92 1539.43 L1293.92 1534.02 Q1297.13 1532.78 1300.16 1532.17 Q1303.18 1531.54 1306.05 1531.54 Q1313.78 1531.54 1317.6 1535.55 Q1321.42 1539.56 1321.42 1547.71 Z\" fill=\"#000000\" fill-rule=\"evenodd\" fill-opacity=\"1\" /><path clip-path=\"url(#clip790)\" d=\"M1339.28 1522.27 L1339.28 1532.4 L1351.34 1532.4 L1351.34 1536.95 L1339.28 1536.95 L1339.28 1556.3 Q1339.28 1560.66 1340.45 1561.9 Q1341.66 1563.14 1345.32 1563.14 L1351.34 1563.14 L1351.34 1568.04 L1345.32 1568.04 Q1338.54 1568.04 1335.97 1565.53 Q1333.39 1562.98 1333.39 1556.3 L1333.39 1536.95 L1329.09 1536.95 L1329.09 1532.4 L1333.39 1532.4 L1333.39 1522.27 L1339.28 1522.27 Z\" fill=\"#000000\" fill-rule=\"evenodd\" fill-opacity=\"1\" /><path clip-path=\"url(#clip790)\" d=\"M1359.04 1532.4 L1364.9 1532.4 L1364.9 1568.04 L1359.04 1568.04 L1359.04 1532.4 M1359.04 1518.52 L1364.9 1518.52 L1364.9 1525.93 L1359.04 1525.93 L1359.04 1518.52 Z\" fill=\"#000000\" fill-rule=\"evenodd\" fill-opacity=\"1\" /><path clip-path=\"url(#clip790)\" d=\"M1390.97 1536.5 Q1386.25 1536.5 1383.52 1540.19 Q1380.78 1543.85 1380.78 1550.25 Q1380.78 1556.65 1383.49 1560.34 Q1386.22 1564 1390.97 1564 Q1395.64 1564 1398.38 1560.31 Q1401.12 1556.62 1401.12 1550.25 Q1401.12 1543.92 1398.38 1540.23 Q1395.64 1536.5 1390.97 1536.5 M1390.97 1531.54 Q1398.6 1531.54 1402.96 1536.5 Q1407.33 1541.47 1407.33 1550.25 Q1407.33 1559 1402.96 1564 Q1398.6 1568.97 1390.97 1568.97 Q1383.29 1568.97 1378.93 1564 Q1374.61 1559 1374.61 1550.25 Q1374.61 1541.47 1378.93 1536.5 Q1383.29 1531.54 1390.97 1531.54 Z\" fill=\"#000000\" fill-rule=\"evenodd\" fill-opacity=\"1\" /><path clip-path=\"url(#clip790)\" d=\"M1446.67 1546.53 L1446.67 1568.04 L1440.81 1568.04 L1440.81 1546.72 Q1440.81 1541.66 1438.84 1539.14 Q1436.86 1536.63 1432.92 1536.63 Q1428.17 1536.63 1425.44 1539.65 Q1422.7 1542.68 1422.7 1547.9 L1422.7 1568.04 L1416.81 1568.04 L1416.81 1532.4 L1422.7 1532.4 L1422.7 1537.93 Q1424.8 1534.72 1427.63 1533.13 Q1430.5 1531.54 1434.22 1531.54 Q1440.36 1531.54 1443.51 1535.36 Q1446.67 1539.14 1446.67 1546.53 Z\" fill=\"#000000\" fill-rule=\"evenodd\" fill-opacity=\"1\" /><polyline clip-path=\"url(#clip792)\" style=\"stroke:#000000; stroke-linecap:butt; stroke-linejoin:round; stroke-width:2; stroke-opacity:0.1; fill:none\" points=\"\n",
       "  276.876,913.348 2352.76,913.348 \n",
       "  \"/>\n",
       "<polyline clip-path=\"url(#clip792)\" style=\"stroke:#000000; stroke-linecap:butt; stroke-linejoin:round; stroke-width:2; stroke-opacity:0.1; fill:none\" points=\"\n",
       "  276.876,122.545 2352.76,122.545 \n",
       "  \"/>\n",
       "<polyline clip-path=\"url(#clip790)\" style=\"stroke:#000000; stroke-linecap:butt; stroke-linejoin:round; stroke-width:4; stroke-opacity:1; fill:none\" points=\"\n",
       "  276.876,1423.18 276.876,47.2441 \n",
       "  \"/>\n",
       "<polyline clip-path=\"url(#clip790)\" style=\"stroke:#000000; stroke-linecap:butt; stroke-linejoin:round; stroke-width:4; stroke-opacity:1; fill:none\" points=\"\n",
       "  276.876,913.348 295.773,913.348 \n",
       "  \"/>\n",
       "<polyline clip-path=\"url(#clip790)\" style=\"stroke:#000000; stroke-linecap:butt; stroke-linejoin:round; stroke-width:4; stroke-opacity:1; fill:none\" points=\"\n",
       "  276.876,122.545 295.773,122.545 \n",
       "  \"/>\n",
       "<path clip-path=\"url(#clip790)\" d=\"M114.931 933.14 L122.57 933.14 L122.57 906.775 L114.26 908.441 L114.26 904.182 L122.524 902.515 L127.2 902.515 L127.2 933.14 L134.839 933.14 L134.839 937.075 L114.931 937.075 L114.931 933.14 Z\" fill=\"#000000\" fill-rule=\"evenodd\" fill-opacity=\"1\" /><path clip-path=\"url(#clip790)\" d=\"M154.283 905.594 Q150.672 905.594 148.843 909.159 Q147.038 912.701 147.038 919.83 Q147.038 926.937 148.843 930.501 Q150.672 934.043 154.283 934.043 Q157.917 934.043 159.723 930.501 Q161.552 926.937 161.552 919.83 Q161.552 912.701 159.723 909.159 Q157.917 905.594 154.283 905.594 M154.283 901.89 Q160.093 901.89 163.149 906.497 Q166.227 911.08 166.227 919.83 Q166.227 928.557 163.149 933.163 Q160.093 937.747 154.283 937.747 Q148.473 937.747 145.394 933.163 Q142.339 928.557 142.339 919.83 Q142.339 911.08 145.394 906.497 Q148.473 901.89 154.283 901.89 Z\" fill=\"#000000\" fill-rule=\"evenodd\" fill-opacity=\"1\" /><path clip-path=\"url(#clip790)\" d=\"M166.227 895.992 L190.339 895.992 L190.339 899.189 L166.227 899.189 L166.227 895.992 Z\" fill=\"#000000\" fill-rule=\"evenodd\" fill-opacity=\"1\" /><path clip-path=\"url(#clip790)\" d=\"M199.197 906.468 L205.404 906.468 L205.404 885.046 L198.652 886.4 L198.652 882.939 L205.366 881.585 L209.166 881.585 L209.166 906.468 L215.372 906.468 L215.372 909.665 L199.197 909.665 L199.197 906.468 Z\" fill=\"#000000\" fill-rule=\"evenodd\" fill-opacity=\"1\" /><path clip-path=\"url(#clip790)\" d=\"M231.171 884.086 Q228.237 884.086 226.751 886.983 Q225.284 889.86 225.284 895.653 Q225.284 901.427 226.751 904.324 Q228.237 907.201 231.171 907.201 Q234.124 907.201 235.591 904.324 Q237.076 901.427 237.076 895.653 Q237.076 889.86 235.591 886.983 Q234.124 884.086 231.171 884.086 M231.171 881.077 Q235.891 881.077 238.374 884.82 Q240.876 888.544 240.876 895.653 Q240.876 902.744 238.374 906.486 Q235.891 910.21 231.171 910.21 Q226.45 910.21 223.949 906.486 Q221.466 902.744 221.466 895.653 Q221.466 888.544 223.949 884.82 Q226.45 881.077 231.171 881.077 Z\" fill=\"#000000\" fill-rule=\"evenodd\" fill-opacity=\"1\" /><path clip-path=\"url(#clip790)\" d=\"M170.17 142.338 L177.809 142.338 L177.809 115.972 L169.499 117.639 L169.499 113.38 L177.762 111.713 L182.438 111.713 L182.438 142.338 L190.077 142.338 L190.077 146.273 L170.17 146.273 L170.17 142.338 Z\" fill=\"#000000\" fill-rule=\"evenodd\" fill-opacity=\"1\" /><path clip-path=\"url(#clip790)\" d=\"M209.522 114.792 Q205.91 114.792 204.082 118.356 Q202.276 121.898 202.276 129.028 Q202.276 136.134 204.082 139.699 Q205.91 143.24 209.522 143.24 Q213.156 143.24 214.961 139.699 Q216.79 136.134 216.79 129.028 Q216.79 121.898 214.961 118.356 Q213.156 114.792 209.522 114.792 M209.522 111.088 Q215.332 111.088 218.387 115.694 Q221.466 120.278 221.466 129.028 Q221.466 137.754 218.387 142.361 Q215.332 146.944 209.522 146.944 Q203.711 146.944 200.633 142.361 Q197.577 137.754 197.577 129.028 Q197.577 120.278 200.633 115.694 Q203.711 111.088 209.522 111.088 Z\" fill=\"#000000\" fill-rule=\"evenodd\" fill-opacity=\"1\" /><path clip-path=\"url(#clip790)\" d=\"M231.171 93.2839 Q228.237 93.2839 226.751 96.1803 Q225.284 99.0579 225.284 104.851 Q225.284 110.625 226.751 113.521 Q228.237 116.399 231.171 116.399 Q234.124 116.399 235.591 113.521 Q237.076 110.625 237.076 104.851 Q237.076 99.0579 235.591 96.1803 Q234.124 93.2839 231.171 93.2839 M231.171 90.2746 Q235.891 90.2746 238.374 94.0174 Q240.876 97.7413 240.876 104.851 Q240.876 111.941 238.374 115.684 Q235.891 119.408 231.171 119.408 Q226.45 119.408 223.949 115.684 Q221.466 111.941 221.466 104.851 Q221.466 97.7413 223.949 94.0174 Q226.45 90.2746 231.171 90.2746 Z\" fill=\"#000000\" fill-rule=\"evenodd\" fill-opacity=\"1\" /><path clip-path=\"url(#clip790)\" d=\"M14.1925 799.681 L79.3773 799.681 L79.3773 805.092 L14.1925 805.092 L14.1925 799.681 Z\" fill=\"#000000\" fill-rule=\"evenodd\" fill-opacity=\"1\" /><path clip-path=\"url(#clip790)\" d=\"M14.479 767.216 L19.3487 767.216 L19.3487 772.817 Q19.3487 775.968 20.6219 777.21 Q21.895 778.419 25.2052 778.419 L28.3562 778.419 L28.3562 768.775 L32.9077 768.775 L32.9077 778.419 L64.0042 778.419 L64.0042 784.307 L32.9077 784.307 L32.9077 789.909 L28.3562 789.909 L28.3562 784.307 L25.8736 784.307 Q19.9216 784.307 17.2162 781.538 Q14.479 778.769 14.479 772.754 L14.479 767.216 Z\" fill=\"#000000\" fill-rule=\"evenodd\" fill-opacity=\"1\" /><path clip-path=\"url(#clip790)\" d=\"M14.5426 748.246 Q21.8632 752.511 29.0246 754.58 Q36.186 756.648 43.5384 756.648 Q50.8908 756.648 58.1159 754.58 Q65.3091 752.479 72.5979 748.246 L72.5979 753.338 Q65.1182 758.113 57.8931 760.5 Q50.668 762.855 43.5384 762.855 Q36.4406 762.855 29.2474 760.5 Q22.0542 758.144 14.5426 753.338 L14.5426 748.246 Z\" fill=\"#000000\" fill-rule=\"evenodd\" fill-opacity=\"1\" /><path clip-path=\"url(#clip790)\" d=\"M28.3562 707.251 L45.7028 720.141 L64.0042 706.582 L64.0042 713.489 L49.9996 723.865 L64.0042 734.241 L64.0042 741.148 L45.3526 727.303 L28.3562 739.97 L28.3562 733.064 L41.0558 723.61 L28.3562 714.157 L28.3562 707.251 Z\" fill=\"#000000\" fill-rule=\"evenodd\" fill-opacity=\"1\" /><path clip-path=\"url(#clip790)\" d=\"M14.5426 699.23 L14.5426 694.137 Q22.0542 689.363 29.2474 687.008 Q36.4406 684.621 43.5384 684.621 Q50.668 684.621 57.8931 687.008 Q65.1182 689.363 72.5979 694.137 L72.5979 699.23 Q65.3091 694.997 58.1159 692.928 Q50.8908 690.827 43.5384 690.827 Q36.186 690.827 29.0246 692.928 Q21.8632 694.997 14.5426 699.23 Z\" fill=\"#000000\" fill-rule=\"evenodd\" fill-opacity=\"1\" /><path clip-path=\"url(#clip790)\" d=\"M14.1925 665.332 L79.3773 665.332 L79.3773 670.743 L14.1925 670.743 L14.1925 665.332 Z\" fill=\"#000000\" fill-rule=\"evenodd\" fill-opacity=\"1\" /><polyline clip-path=\"url(#clip792)\" style=\"stroke:#009af9; stroke-linecap:butt; stroke-linejoin:round; stroke-width:4; stroke-opacity:1; fill:none\" points=\"\n",
       "  335.627,86.1857 417.226,109.564 498.825,161.093 580.424,161.75 662.023,286.734 743.622,186.742 825.221,212.619 906.82,240.729 988.419,275.027 1070.02,341.588 \n",
       "  1151.62,318.296 1233.22,366.415 1314.82,388.214 1396.41,416.153 1478.01,432.138 1559.61,473.906 1641.21,468.015 1722.81,555.274 1804.41,501.085 1886.01,532.831 \n",
       "  1967.61,581.86 2049.21,600.313 2130.81,635.816 2212.41,639.215 2294,740.742 \n",
       "  \"/>\n",
       "<polyline clip-path=\"url(#clip792)\" style=\"stroke:#e26f46; stroke-linecap:butt; stroke-linejoin:round; stroke-width:4; stroke-opacity:1; fill:none\" points=\"\n",
       "  335.627,231.996 417.226,342.55 498.825,453.487 580.424,564.439 662.023,675.392 743.622,786.345 825.221,897.298 906.82,1008.26 988.419,1119.22 1070.02,1224.73 \n",
       "  1151.62,1384.24 1233.22,1384.24 \n",
       "  \"/>\n",
       "<polyline clip-path=\"url(#clip792)\" style=\"stroke:#3da44d; stroke-linecap:butt; stroke-linejoin:round; stroke-width:4; stroke-opacity:1; fill:none\" points=\"\n",
       "  335.627,230.288 417.226,335.303 498.825,440.181 580.424,545.054 662.023,649.926 743.622,754.798 825.221,859.669 906.82,964.546 \n",
       "  \"/>\n",
       "<polyline clip-path=\"url(#clip792)\" style=\"stroke:#c271d2; stroke-linecap:butt; stroke-linejoin:round; stroke-width:4; stroke-opacity:1; fill:none\" points=\"\n",
       "  335.627,243.261 417.226,466.88 498.825,913.596 \n",
       "  \"/>\n",
       "<polyline clip-path=\"url(#clip792)\" style=\"stroke:#ac8d18; stroke-linecap:butt; stroke-linejoin:round; stroke-width:4; stroke-opacity:1; fill:none\" points=\"\n",
       "  335.627,129.212 417.226,129.212 498.825,231.996 580.424,231.996 662.023,333.117 743.622,333.117 825.221,544.606 906.82,544.606 988.419,857.578 1070.02,857.578 \n",
       "  1151.62,1384.24 1233.22,1384.24 \n",
       "  \"/>\n",
       "<path clip-path=\"url(#clip790)\" d=\"\n",
       "M1590.99 404.149 L2283.56 404.149 L2283.56 93.1086 L1590.99 93.1086  Z\n",
       "  \" fill=\"#ffffff\" fill-rule=\"evenodd\" fill-opacity=\"1\"/>\n",
       "<polyline clip-path=\"url(#clip790)\" style=\"stroke:#000000; stroke-linecap:butt; stroke-linejoin:round; stroke-width:4; stroke-opacity:1; fill:none\" points=\"\n",
       "  1590.99,404.149 2283.56,404.149 2283.56,93.1086 1590.99,93.1086 1590.99,404.149 \n",
       "  \"/>\n",
       "<polyline clip-path=\"url(#clip790)\" style=\"stroke:#009af9; stroke-linecap:butt; stroke-linejoin:round; stroke-width:4; stroke-opacity:1; fill:none\" points=\"\n",
       "  1614.05,144.949 1752.45,144.949 \n",
       "  \"/>\n",
       "<path clip-path=\"url(#clip790)\" d=\"M1794.28 149.289 Q1794.28 144.59 1792.34 141.928 Q1790.42 139.243 1787.04 139.243 Q1783.66 139.243 1781.71 141.928 Q1779.79 144.59 1779.79 149.289 Q1779.79 153.988 1781.71 156.673 Q1783.66 159.335 1787.04 159.335 Q1790.42 159.335 1792.34 156.673 Q1794.28 153.988 1794.28 149.289 M1779.79 140.238 Q1781.14 137.923 1783.17 136.812 Q1785.23 135.678 1788.08 135.678 Q1792.8 135.678 1795.74 139.428 Q1798.7 143.178 1798.7 149.289 Q1798.7 155.4 1795.74 159.15 Q1792.8 162.9 1788.08 162.9 Q1785.23 162.9 1783.17 161.789 Q1781.14 160.655 1779.79 158.34 L1779.79 162.229 L1775.51 162.229 L1775.51 126.21 L1779.79 126.21 L1779.79 140.238 Z\" fill=\"#000000\" fill-rule=\"evenodd\" fill-opacity=\"1\" /><path clip-path=\"url(#clip790)\" d=\"M1805.76 136.303 L1810.02 136.303 L1810.02 162.229 L1805.76 162.229 L1805.76 136.303 M1805.76 126.21 L1810.02 126.21 L1810.02 131.604 L1805.76 131.604 L1805.76 126.21 Z\" fill=\"#000000\" fill-rule=\"evenodd\" fill-opacity=\"1\" /><path clip-path=\"url(#clip790)\" d=\"M1835.46 137.067 L1835.46 141.094 Q1833.66 140.169 1831.71 139.706 Q1829.77 139.243 1827.69 139.243 Q1824.51 139.243 1822.92 140.215 Q1821.34 141.187 1821.34 143.131 Q1821.34 144.613 1822.48 145.469 Q1823.61 146.303 1827.04 147.067 L1828.5 147.391 Q1833.03 148.363 1834.93 150.145 Q1836.85 151.905 1836.85 155.076 Q1836.85 158.687 1833.98 160.793 Q1831.14 162.9 1826.14 162.9 Q1824.05 162.9 1821.78 162.483 Q1819.54 162.09 1817.04 161.28 L1817.04 156.881 Q1819.4 158.108 1821.69 158.733 Q1823.98 159.335 1826.23 159.335 Q1829.24 159.335 1830.86 158.317 Q1832.48 157.275 1832.48 155.4 Q1832.48 153.664 1831.3 152.738 Q1830.14 151.812 1826.18 150.956 L1824.7 150.608 Q1820.74 149.775 1818.98 148.062 Q1817.22 146.326 1817.22 143.317 Q1817.22 139.659 1819.82 137.669 Q1822.41 135.678 1827.18 135.678 Q1829.54 135.678 1831.62 136.025 Q1833.7 136.372 1835.46 137.067 Z\" fill=\"#000000\" fill-rule=\"evenodd\" fill-opacity=\"1\" /><path clip-path=\"url(#clip790)\" d=\"M1865.81 148.201 L1865.81 150.284 L1846.23 150.284 Q1846.51 154.682 1848.87 156.997 Q1851.25 159.289 1855.49 159.289 Q1857.94 159.289 1860.23 158.687 Q1862.55 158.085 1864.82 156.881 L1864.82 160.909 Q1862.52 161.881 1860.12 162.391 Q1857.71 162.9 1855.23 162.9 Q1849.03 162.9 1845.39 159.289 Q1841.78 155.678 1841.78 149.52 Q1841.78 143.155 1845.21 139.428 Q1848.66 135.678 1854.49 135.678 Q1859.72 135.678 1862.76 139.057 Q1865.81 142.414 1865.81 148.201 M1861.55 146.951 Q1861.51 143.456 1859.58 141.372 Q1857.69 139.289 1854.54 139.289 Q1850.97 139.289 1848.82 141.303 Q1846.69 143.317 1846.37 146.974 L1861.55 146.951 Z\" fill=\"#000000\" fill-rule=\"evenodd\" fill-opacity=\"1\" /><path clip-path=\"url(#clip790)\" d=\"M1891.46 137.298 L1891.46 141.28 Q1889.65 140.284 1887.82 139.798 Q1886.02 139.289 1884.17 139.289 Q1880.02 139.289 1877.73 141.928 Q1875.44 144.544 1875.44 149.289 Q1875.44 154.034 1877.73 156.673 Q1880.02 159.289 1884.17 159.289 Q1886.02 159.289 1887.82 158.803 Q1889.65 158.293 1891.46 157.298 L1891.46 161.233 Q1889.68 162.067 1887.76 162.483 Q1885.86 162.9 1883.7 162.9 Q1877.85 162.9 1874.4 159.219 Q1870.95 155.539 1870.95 149.289 Q1870.95 142.946 1874.42 139.312 Q1877.92 135.678 1883.98 135.678 Q1885.95 135.678 1887.82 136.095 Q1889.7 136.488 1891.46 137.298 Z\" fill=\"#000000\" fill-rule=\"evenodd\" fill-opacity=\"1\" /><path clip-path=\"url(#clip790)\" d=\"M1903.08 128.942 L1903.08 136.303 L1911.85 136.303 L1911.85 139.613 L1903.08 139.613 L1903.08 153.687 Q1903.08 156.858 1903.94 157.761 Q1904.82 158.664 1907.48 158.664 L1911.85 158.664 L1911.85 162.229 L1907.48 162.229 Q1902.55 162.229 1900.67 160.4 Q1898.8 158.548 1898.8 153.687 L1898.8 139.613 L1895.67 139.613 L1895.67 136.303 L1898.8 136.303 L1898.8 128.942 L1903.08 128.942 Z\" fill=\"#000000\" fill-rule=\"evenodd\" fill-opacity=\"1\" /><path clip-path=\"url(#clip790)\" d=\"M1917.45 136.303 L1921.71 136.303 L1921.71 162.229 L1917.45 162.229 L1917.45 136.303 M1917.45 126.21 L1921.71 126.21 L1921.71 131.604 L1917.45 131.604 L1917.45 126.21 Z\" fill=\"#000000\" fill-rule=\"evenodd\" fill-opacity=\"1\" /><path clip-path=\"url(#clip790)\" d=\"M1940.67 139.289 Q1937.25 139.289 1935.25 141.974 Q1933.26 144.636 1933.26 149.289 Q1933.26 153.942 1935.23 156.627 Q1937.22 159.289 1940.67 159.289 Q1944.07 159.289 1946.07 156.604 Q1948.06 153.918 1948.06 149.289 Q1948.06 144.682 1946.07 141.997 Q1944.07 139.289 1940.67 139.289 M1940.67 135.678 Q1946.23 135.678 1949.4 139.289 Q1952.57 142.9 1952.57 149.289 Q1952.57 155.655 1949.4 159.289 Q1946.23 162.9 1940.67 162.9 Q1935.09 162.9 1931.92 159.289 Q1928.77 155.655 1928.77 149.289 Q1928.77 142.9 1931.92 139.289 Q1935.09 135.678 1940.67 135.678 Z\" fill=\"#000000\" fill-rule=\"evenodd\" fill-opacity=\"1\" /><path clip-path=\"url(#clip790)\" d=\"M1981.18 146.581 L1981.18 162.229 L1976.92 162.229 L1976.92 146.719 Q1976.92 143.039 1975.49 141.21 Q1974.05 139.382 1971.18 139.382 Q1967.73 139.382 1965.74 141.581 Q1963.75 143.78 1963.75 147.576 L1963.75 162.229 L1959.47 162.229 L1959.47 136.303 L1963.75 136.303 L1963.75 140.331 Q1965.28 137.993 1967.34 136.835 Q1969.42 135.678 1972.13 135.678 Q1976.6 135.678 1978.89 138.456 Q1981.18 141.21 1981.18 146.581 Z\" fill=\"#000000\" fill-rule=\"evenodd\" fill-opacity=\"1\" /><polyline clip-path=\"url(#clip790)\" style=\"stroke:#e26f46; stroke-linecap:butt; stroke-linejoin:round; stroke-width:4; stroke-opacity:1; fill:none\" points=\"\n",
       "  1614.05,196.789 1752.45,196.789 \n",
       "  \"/>\n",
       "<path clip-path=\"url(#clip790)\" d=\"M1791.9 197.865 Q1793.4 198.374 1794.82 200.041 Q1796.25 201.708 1797.69 204.624 L1802.43 214.069 L1797.41 214.069 L1792.99 205.203 Q1791.27 201.731 1789.65 200.596 Q1788.06 199.462 1785.28 199.462 L1780.19 199.462 L1780.19 214.069 L1775.51 214.069 L1775.51 179.509 L1786.07 179.509 Q1791.99 179.509 1794.91 181.985 Q1797.83 184.462 1797.83 189.462 Q1797.83 192.726 1796.3 194.879 Q1794.79 197.032 1791.9 197.865 M1780.19 183.351 L1780.19 195.62 L1786.07 195.62 Q1789.45 195.62 1791.16 194.069 Q1792.89 192.495 1792.89 189.462 Q1792.89 186.43 1791.16 184.902 Q1789.45 183.351 1786.07 183.351 L1780.19 183.351 Z\" fill=\"#000000\" fill-rule=\"evenodd\" fill-opacity=\"1\" /><path clip-path=\"url(#clip790)\" d=\"M1828.31 200.041 L1828.31 202.124 L1808.73 202.124 Q1809.01 206.522 1811.37 208.837 Q1813.75 211.129 1817.99 211.129 Q1820.44 211.129 1822.73 210.527 Q1825.05 209.925 1827.32 208.721 L1827.32 212.749 Q1825.02 213.721 1822.62 214.231 Q1820.21 214.74 1817.73 214.74 Q1811.53 214.74 1807.89 211.129 Q1804.28 207.518 1804.28 201.36 Q1804.28 194.995 1807.71 191.268 Q1811.16 187.518 1816.99 187.518 Q1822.22 187.518 1825.26 190.897 Q1828.31 194.254 1828.31 200.041 M1824.05 198.791 Q1824.01 195.296 1822.08 193.212 Q1820.19 191.129 1817.04 191.129 Q1813.47 191.129 1811.32 193.143 Q1809.19 195.157 1808.87 198.814 L1824.05 198.791 Z\" fill=\"#000000\" fill-rule=\"evenodd\" fill-opacity=\"1\" /><path clip-path=\"url(#clip790)\" d=\"M1852.36 200.805 Q1852.36 196.175 1850.44 193.629 Q1848.54 191.083 1845.09 191.083 Q1841.67 191.083 1839.75 193.629 Q1837.85 196.175 1837.85 200.805 Q1837.85 205.411 1839.75 207.958 Q1841.67 210.504 1845.09 210.504 Q1848.54 210.504 1850.44 207.958 Q1852.36 205.411 1852.36 200.805 M1856.62 210.851 Q1856.62 217.471 1853.68 220.689 Q1850.74 223.93 1844.68 223.93 Q1842.43 223.93 1840.44 223.582 Q1838.45 223.258 1836.57 222.564 L1836.57 218.42 Q1838.45 219.439 1840.28 219.925 Q1842.11 220.411 1844.01 220.411 Q1848.2 220.411 1850.28 218.212 Q1852.36 216.036 1852.36 211.615 L1852.36 209.508 Q1851.04 211.8 1848.98 212.934 Q1846.92 214.069 1844.05 214.069 Q1839.28 214.069 1836.37 210.434 Q1833.45 206.8 1833.45 200.805 Q1833.45 194.786 1836.37 191.152 Q1839.28 187.518 1844.05 187.518 Q1846.92 187.518 1848.98 188.652 Q1851.04 189.786 1852.36 192.078 L1852.36 188.143 L1856.62 188.143 L1856.62 210.851 Z\" fill=\"#000000\" fill-rule=\"evenodd\" fill-opacity=\"1\" /><path clip-path=\"url(#clip790)\" d=\"M1864.95 203.837 L1864.95 188.143 L1869.21 188.143 L1869.21 203.675 Q1869.21 207.356 1870.65 209.208 Q1872.08 211.036 1874.95 211.036 Q1878.4 211.036 1880.39 208.837 Q1882.41 206.638 1882.41 202.842 L1882.41 188.143 L1886.67 188.143 L1886.67 214.069 L1882.41 214.069 L1882.41 210.087 Q1880.86 212.448 1878.8 213.606 Q1876.76 214.74 1874.05 214.74 Q1869.58 214.74 1867.27 211.962 Q1864.95 209.184 1864.95 203.837 M1875.67 187.518 L1875.67 187.518 Z\" fill=\"#000000\" fill-rule=\"evenodd\" fill-opacity=\"1\" /><path clip-path=\"url(#clip790)\" d=\"M1895.44 178.05 L1899.7 178.05 L1899.7 214.069 L1895.44 214.069 L1895.44 178.05 Z\" fill=\"#000000\" fill-rule=\"evenodd\" fill-opacity=\"1\" /><path clip-path=\"url(#clip790)\" d=\"M1920.39 201.036 Q1915.23 201.036 1913.24 202.217 Q1911.25 203.397 1911.25 206.245 Q1911.25 208.513 1912.73 209.856 Q1914.24 211.175 1916.81 211.175 Q1920.35 211.175 1922.48 208.675 Q1924.63 206.152 1924.63 201.985 L1924.63 201.036 L1920.39 201.036 M1928.89 199.277 L1928.89 214.069 L1924.63 214.069 L1924.63 210.133 Q1923.17 212.495 1921 213.629 Q1918.82 214.74 1915.67 214.74 Q1911.69 214.74 1909.33 212.518 Q1906.99 210.272 1906.99 206.522 Q1906.99 202.147 1909.91 199.925 Q1912.85 197.703 1918.66 197.703 L1924.63 197.703 L1924.63 197.286 Q1924.63 194.347 1922.69 192.749 Q1920.76 191.129 1917.27 191.129 Q1915.05 191.129 1912.94 191.661 Q1910.83 192.194 1908.89 193.259 L1908.89 189.323 Q1911.23 188.421 1913.43 187.981 Q1915.63 187.518 1917.71 187.518 Q1923.33 187.518 1926.11 190.434 Q1928.89 193.351 1928.89 199.277 Z\" fill=\"#000000\" fill-rule=\"evenodd\" fill-opacity=\"1\" /><path clip-path=\"url(#clip790)\" d=\"M1952.92 179.509 L1972.78 179.509 L1972.78 183.444 L1957.59 183.444 L1957.59 193.629 L1971.3 193.629 L1971.3 197.564 L1957.59 197.564 L1957.59 214.069 L1952.92 214.069 L1952.92 179.509 Z\" fill=\"#000000\" fill-rule=\"evenodd\" fill-opacity=\"1\" /><path clip-path=\"url(#clip790)\" d=\"M1987.43 201.036 Q1982.27 201.036 1980.28 202.217 Q1978.29 203.397 1978.29 206.245 Q1978.29 208.513 1979.77 209.856 Q1981.27 211.175 1983.84 211.175 Q1987.38 211.175 1989.51 208.675 Q1991.67 206.152 1991.67 201.985 L1991.67 201.036 L1987.43 201.036 M1995.93 199.277 L1995.93 214.069 L1991.67 214.069 L1991.67 210.133 Q1990.21 212.495 1988.03 213.629 Q1985.86 214.74 1982.71 214.74 Q1978.73 214.74 1976.37 212.518 Q1974.03 210.272 1974.03 206.522 Q1974.03 202.147 1976.94 199.925 Q1979.88 197.703 1985.69 197.703 L1991.67 197.703 L1991.67 197.286 Q1991.67 194.347 1989.72 192.749 Q1987.8 191.129 1984.31 191.129 Q1982.08 191.129 1979.98 191.661 Q1977.87 192.194 1975.93 193.259 L1975.93 189.323 Q1978.26 188.421 1980.46 187.981 Q1982.66 187.518 1984.75 187.518 Q1990.37 187.518 1993.15 190.434 Q1995.93 193.351 1995.93 199.277 Z\" fill=\"#000000\" fill-rule=\"evenodd\" fill-opacity=\"1\" /><path clip-path=\"url(#clip790)\" d=\"M2004.7 178.05 L2008.96 178.05 L2008.96 214.069 L2004.7 214.069 L2004.7 178.05 Z\" fill=\"#000000\" fill-rule=\"evenodd\" fill-opacity=\"1\" /><path clip-path=\"url(#clip790)\" d=\"M2034.4 188.907 L2034.4 192.934 Q2032.59 192.009 2030.65 191.546 Q2028.7 191.083 2026.62 191.083 Q2023.45 191.083 2021.85 192.055 Q2020.28 193.027 2020.28 194.971 Q2020.28 196.453 2021.41 197.309 Q2022.55 198.143 2025.97 198.907 L2027.43 199.231 Q2031.97 200.203 2033.87 201.985 Q2035.79 203.745 2035.79 206.916 Q2035.79 210.527 2032.92 212.633 Q2030.07 214.74 2025.07 214.74 Q2022.99 214.74 2020.72 214.323 Q2018.47 213.93 2015.97 213.12 L2015.97 208.721 Q2018.33 209.948 2020.62 210.573 Q2022.92 211.175 2025.16 211.175 Q2028.17 211.175 2029.79 210.157 Q2031.41 209.115 2031.41 207.24 Q2031.41 205.504 2030.23 204.578 Q2029.07 203.652 2025.12 202.796 L2023.63 202.448 Q2019.68 201.615 2017.92 199.902 Q2016.16 198.166 2016.16 195.157 Q2016.16 191.499 2018.75 189.509 Q2021.34 187.518 2026.11 187.518 Q2028.47 187.518 2030.56 187.865 Q2032.64 188.212 2034.4 188.907 Z\" fill=\"#000000\" fill-rule=\"evenodd\" fill-opacity=\"1\" /><path clip-path=\"url(#clip790)\" d=\"M2042.57 188.143 L2046.83 188.143 L2046.83 214.069 L2042.57 214.069 L2042.57 188.143 M2042.57 178.05 L2046.83 178.05 L2046.83 183.444 L2042.57 183.444 L2042.57 178.05 Z\" fill=\"#000000\" fill-rule=\"evenodd\" fill-opacity=\"1\" /><polyline clip-path=\"url(#clip790)\" style=\"stroke:#3da44d; stroke-linecap:butt; stroke-linejoin:round; stroke-width:4; stroke-opacity:1; fill:none\" points=\"\n",
       "  1614.05,248.629 1752.45,248.629 \n",
       "  \"/>\n",
       "<path clip-path=\"url(#clip790)\" d=\"M1792.01 229.89 L1792.01 233.432 L1787.94 233.432 Q1785.65 233.432 1784.75 234.358 Q1783.87 235.284 1783.87 237.691 L1783.87 239.983 L1790.88 239.983 L1790.88 243.293 L1783.87 243.293 L1783.87 265.909 L1779.58 265.909 L1779.58 243.293 L1775.51 243.293 L1775.51 239.983 L1779.58 239.983 L1779.58 238.177 Q1779.58 233.849 1781.6 231.881 Q1783.61 229.89 1787.99 229.89 L1792.01 229.89 Z\" fill=\"#000000\" fill-rule=\"evenodd\" fill-opacity=\"1\" /><path clip-path=\"url(#clip790)\" d=\"M1795.58 239.983 L1799.84 239.983 L1799.84 265.909 L1795.58 265.909 L1795.58 239.983 M1795.58 229.89 L1799.84 229.89 L1799.84 235.284 L1795.58 235.284 L1795.58 229.89 Z\" fill=\"#000000\" fill-rule=\"evenodd\" fill-opacity=\"1\" /><path clip-path=\"url(#clip790)\" d=\"M1830.3 239.983 L1820.93 252.599 L1830.79 265.909 L1825.76 265.909 L1818.22 255.723 L1810.67 265.909 L1805.65 265.909 L1815.72 252.344 L1806.51 239.983 L1811.53 239.983 L1818.4 249.219 L1825.28 239.983 L1830.3 239.983 Z\" fill=\"#000000\" fill-rule=\"evenodd\" fill-opacity=\"1\" /><path clip-path=\"url(#clip790)\" d=\"M1857.52 251.881 L1857.52 253.964 L1837.94 253.964 Q1838.22 258.362 1840.58 260.677 Q1842.96 262.969 1847.2 262.969 Q1849.65 262.969 1851.95 262.367 Q1854.26 261.765 1856.53 260.561 L1856.53 264.589 Q1854.24 265.561 1851.83 266.071 Q1849.42 266.58 1846.95 266.58 Q1840.74 266.58 1837.11 262.969 Q1833.5 259.358 1833.5 253.2 Q1833.5 246.835 1836.92 243.108 Q1840.37 239.358 1846.2 239.358 Q1851.44 239.358 1854.47 242.737 Q1857.52 246.094 1857.52 251.881 M1853.26 250.631 Q1853.22 247.136 1851.3 245.052 Q1849.4 242.969 1846.25 242.969 Q1842.69 242.969 1840.53 244.983 Q1838.4 246.997 1838.08 250.654 L1853.26 250.631 Z\" fill=\"#000000\" fill-rule=\"evenodd\" fill-opacity=\"1\" /><path clip-path=\"url(#clip790)\" d=\"M1881.57 243.918 L1881.57 229.89 L1885.83 229.89 L1885.83 265.909 L1881.57 265.909 L1881.57 262.02 Q1880.23 264.335 1878.17 265.469 Q1876.13 266.58 1873.26 266.58 Q1868.57 266.58 1865.6 262.83 Q1862.66 259.08 1862.66 252.969 Q1862.66 246.858 1865.6 243.108 Q1868.57 239.358 1873.26 239.358 Q1876.13 239.358 1878.17 240.492 Q1880.23 241.603 1881.57 243.918 M1867.06 252.969 Q1867.06 257.668 1868.98 260.353 Q1870.93 263.015 1874.31 263.015 Q1877.69 263.015 1879.63 260.353 Q1881.57 257.668 1881.57 252.969 Q1881.57 248.27 1879.63 245.608 Q1877.69 242.923 1874.31 242.923 Q1870.93 242.923 1868.98 245.608 Q1867.06 248.27 1867.06 252.969 Z\" fill=\"#000000\" fill-rule=\"evenodd\" fill-opacity=\"1\" /><path clip-path=\"url(#clip790)\" d=\"M1913.8 262.02 L1913.8 275.77 L1909.51 275.77 L1909.51 239.983 L1913.8 239.983 L1913.8 243.918 Q1915.14 241.603 1917.18 240.492 Q1919.24 239.358 1922.08 239.358 Q1926.81 239.358 1929.75 243.108 Q1932.71 246.858 1932.71 252.969 Q1932.71 259.08 1929.75 262.83 Q1926.81 266.58 1922.08 266.58 Q1919.24 266.58 1917.18 265.469 Q1915.14 264.335 1913.8 262.02 M1928.29 252.969 Q1928.29 248.27 1926.34 245.608 Q1924.42 242.923 1921.04 242.923 Q1917.66 242.923 1915.72 245.608 Q1913.8 248.27 1913.8 252.969 Q1913.8 257.668 1915.72 260.353 Q1917.66 263.015 1921.04 263.015 Q1924.42 263.015 1926.34 260.353 Q1928.29 257.668 1928.29 252.969 Z\" fill=\"#000000\" fill-rule=\"evenodd\" fill-opacity=\"1\" /><path clip-path=\"url(#clip790)\" d=\"M1949.82 242.969 Q1946.39 242.969 1944.4 245.654 Q1942.41 248.316 1942.41 252.969 Q1942.41 257.622 1944.38 260.307 Q1946.37 262.969 1949.82 262.969 Q1953.22 262.969 1955.21 260.284 Q1957.2 257.598 1957.2 252.969 Q1957.2 248.362 1955.21 245.677 Q1953.22 242.969 1949.82 242.969 M1949.82 239.358 Q1955.37 239.358 1958.54 242.969 Q1961.71 246.58 1961.71 252.969 Q1961.71 259.335 1958.54 262.969 Q1955.37 266.58 1949.82 266.58 Q1944.24 266.58 1941.07 262.969 Q1937.92 259.335 1937.92 252.969 Q1937.92 246.58 1941.07 242.969 Q1944.24 239.358 1949.82 239.358 Z\" fill=\"#000000\" fill-rule=\"evenodd\" fill-opacity=\"1\" /><path clip-path=\"url(#clip790)\" d=\"M1968.77 239.983 L1973.03 239.983 L1973.03 265.909 L1968.77 265.909 L1968.77 239.983 M1968.77 229.89 L1973.03 229.89 L1973.03 235.284 L1968.77 235.284 L1968.77 229.89 Z\" fill=\"#000000\" fill-rule=\"evenodd\" fill-opacity=\"1\" /><path clip-path=\"url(#clip790)\" d=\"M2003.5 250.261 L2003.5 265.909 L1999.24 265.909 L1999.24 250.399 Q1999.24 246.719 1997.8 244.89 Q1996.37 243.062 1993.5 243.062 Q1990.05 243.062 1988.06 245.261 Q1986.06 247.46 1986.06 251.256 L1986.06 265.909 L1981.78 265.909 L1981.78 239.983 L1986.06 239.983 L1986.06 244.011 Q1987.59 241.673 1989.65 240.515 Q1991.74 239.358 1994.44 239.358 Q1998.91 239.358 2001.2 242.136 Q2003.5 244.89 2003.5 250.261 Z\" fill=\"#000000\" fill-rule=\"evenodd\" fill-opacity=\"1\" /><path clip-path=\"url(#clip790)\" d=\"M2016.2 232.622 L2016.2 239.983 L2024.98 239.983 L2024.98 243.293 L2016.2 243.293 L2016.2 257.367 Q2016.2 260.538 2017.06 261.441 Q2017.94 262.344 2020.6 262.344 L2024.98 262.344 L2024.98 265.909 L2020.6 265.909 Q2015.67 265.909 2013.8 264.08 Q2011.92 262.228 2011.92 257.367 L2011.92 243.293 L2008.8 243.293 L2008.8 239.983 L2011.92 239.983 L2011.92 232.622 L2016.2 232.622 Z\" fill=\"#000000\" fill-rule=\"evenodd\" fill-opacity=\"1\" /><path clip-path=\"url(#clip790)\" d=\"M2045.65 239.983 L2049.91 239.983 L2049.91 265.909 L2045.65 265.909 L2045.65 239.983 M2045.65 229.89 L2049.91 229.89 L2049.91 235.284 L2045.65 235.284 L2045.65 229.89 Z\" fill=\"#000000\" fill-rule=\"evenodd\" fill-opacity=\"1\" /><path clip-path=\"url(#clip790)\" d=\"M2063.03 232.622 L2063.03 239.983 L2071.81 239.983 L2071.81 243.293 L2063.03 243.293 L2063.03 257.367 Q2063.03 260.538 2063.89 261.441 Q2064.77 262.344 2067.43 262.344 L2071.81 262.344 L2071.81 265.909 L2067.43 265.909 Q2062.5 265.909 2060.62 264.08 Q2058.75 262.228 2058.75 257.367 L2058.75 243.293 L2055.62 243.293 L2055.62 239.983 L2058.75 239.983 L2058.75 232.622 L2063.03 232.622 Z\" fill=\"#000000\" fill-rule=\"evenodd\" fill-opacity=\"1\" /><path clip-path=\"url(#clip790)\" d=\"M2099.58 251.881 L2099.58 253.964 L2080 253.964 Q2080.28 258.362 2082.64 260.677 Q2085.02 262.969 2089.26 262.969 Q2091.71 262.969 2094 262.367 Q2096.32 261.765 2098.59 260.561 L2098.59 264.589 Q2096.3 265.561 2093.89 266.071 Q2091.48 266.58 2089 266.58 Q2082.8 266.58 2079.17 262.969 Q2075.56 259.358 2075.56 253.2 Q2075.56 246.835 2078.98 243.108 Q2082.43 239.358 2088.26 239.358 Q2093.49 239.358 2096.53 242.737 Q2099.58 246.094 2099.58 251.881 M2095.32 250.631 Q2095.28 247.136 2093.36 245.052 Q2091.46 242.969 2088.31 242.969 Q2084.74 242.969 2082.59 244.983 Q2080.46 246.997 2080.14 250.654 L2095.32 250.631 Z\" fill=\"#000000\" fill-rule=\"evenodd\" fill-opacity=\"1\" /><path clip-path=\"url(#clip790)\" d=\"M2121.6 243.964 Q2120.88 243.548 2120.02 243.362 Q2119.19 243.154 2118.17 243.154 Q2114.56 243.154 2112.62 245.515 Q2110.69 247.853 2110.69 252.251 L2110.69 265.909 L2106.41 265.909 L2106.41 239.983 L2110.69 239.983 L2110.69 244.011 Q2112.04 241.649 2114.19 240.515 Q2116.34 239.358 2119.42 239.358 Q2119.86 239.358 2120.39 239.427 Q2120.93 239.474 2121.57 239.589 L2121.6 243.964 Z\" fill=\"#000000\" fill-rule=\"evenodd\" fill-opacity=\"1\" /><path clip-path=\"url(#clip790)\" d=\"M2137.85 252.876 Q2132.68 252.876 2130.69 254.057 Q2128.7 255.237 2128.7 258.085 Q2128.7 260.353 2130.18 261.696 Q2131.69 263.015 2134.26 263.015 Q2137.8 263.015 2139.93 260.515 Q2142.08 257.992 2142.08 253.825 L2142.08 252.876 L2137.85 252.876 M2146.34 251.117 L2146.34 265.909 L2142.08 265.909 L2142.08 261.973 Q2140.62 264.335 2138.45 265.469 Q2136.27 266.58 2133.12 266.58 Q2129.14 266.58 2126.78 264.358 Q2124.44 262.112 2124.44 258.362 Q2124.44 253.987 2127.36 251.765 Q2130.3 249.543 2136.11 249.543 L2142.08 249.543 L2142.08 249.126 Q2142.08 246.187 2140.14 244.589 Q2138.22 242.969 2134.72 242.969 Q2132.5 242.969 2130.39 243.501 Q2128.29 244.034 2126.34 245.099 L2126.34 241.163 Q2128.68 240.261 2130.88 239.821 Q2133.08 239.358 2135.16 239.358 Q2140.79 239.358 2143.56 242.274 Q2146.34 245.191 2146.34 251.117 Z\" fill=\"#000000\" fill-rule=\"evenodd\" fill-opacity=\"1\" /><path clip-path=\"url(#clip790)\" d=\"M2159.33 232.622 L2159.33 239.983 L2168.1 239.983 L2168.1 243.293 L2159.33 243.293 L2159.33 257.367 Q2159.33 260.538 2160.18 261.441 Q2161.06 262.344 2163.73 262.344 L2168.1 262.344 L2168.1 265.909 L2163.73 265.909 Q2158.8 265.909 2156.92 264.08 Q2155.05 262.228 2155.05 257.367 L2155.05 243.293 L2151.92 243.293 L2151.92 239.983 L2155.05 239.983 L2155.05 232.622 L2159.33 232.622 Z\" fill=\"#000000\" fill-rule=\"evenodd\" fill-opacity=\"1\" /><path clip-path=\"url(#clip790)\" d=\"M2173.7 239.983 L2177.96 239.983 L2177.96 265.909 L2173.7 265.909 L2173.7 239.983 M2173.7 229.89 L2177.96 229.89 L2177.96 235.284 L2173.7 235.284 L2173.7 229.89 Z\" fill=\"#000000\" fill-rule=\"evenodd\" fill-opacity=\"1\" /><path clip-path=\"url(#clip790)\" d=\"M2196.92 242.969 Q2193.49 242.969 2191.5 245.654 Q2189.51 248.316 2189.51 252.969 Q2189.51 257.622 2191.48 260.307 Q2193.47 262.969 2196.92 262.969 Q2200.32 262.969 2202.31 260.284 Q2204.3 257.598 2204.3 252.969 Q2204.3 248.362 2202.31 245.677 Q2200.32 242.969 2196.92 242.969 M2196.92 239.358 Q2202.48 239.358 2205.65 242.969 Q2208.82 246.58 2208.82 252.969 Q2208.82 259.335 2205.65 262.969 Q2202.48 266.58 2196.92 266.58 Q2191.34 266.58 2188.17 262.969 Q2185.02 259.335 2185.02 252.969 Q2185.02 246.58 2188.17 242.969 Q2191.34 239.358 2196.92 239.358 Z\" fill=\"#000000\" fill-rule=\"evenodd\" fill-opacity=\"1\" /><path clip-path=\"url(#clip790)\" d=\"M2237.43 250.261 L2237.43 265.909 L2233.17 265.909 L2233.17 250.399 Q2233.17 246.719 2231.73 244.89 Q2230.3 243.062 2227.43 243.062 Q2223.98 243.062 2221.99 245.261 Q2220 247.46 2220 251.256 L2220 265.909 L2215.72 265.909 L2215.72 239.983 L2220 239.983 L2220 244.011 Q2221.53 241.673 2223.59 240.515 Q2225.67 239.358 2228.38 239.358 Q2232.85 239.358 2235.14 242.136 Q2237.43 244.89 2237.43 250.261 Z\" fill=\"#000000\" fill-rule=\"evenodd\" fill-opacity=\"1\" /><polyline clip-path=\"url(#clip790)\" style=\"stroke:#c271d2; stroke-linecap:butt; stroke-linejoin:round; stroke-width:4; stroke-opacity:1; fill:none\" points=\"\n",
       "  1614.05,300.469 1752.45,300.469 \n",
       "  \"/>\n",
       "<path clip-path=\"url(#clip790)\" d=\"M1775.51 283.189 L1781.81 283.189 L1797.13 312.101 L1797.13 283.189 L1801.67 283.189 L1801.67 317.749 L1795.37 317.749 L1780.05 288.837 L1780.05 317.749 L1775.51 317.749 L1775.51 283.189 Z\" fill=\"#000000\" fill-rule=\"evenodd\" fill-opacity=\"1\" /><path clip-path=\"url(#clip790)\" d=\"M1832.96 303.721 L1832.96 305.804 L1813.38 305.804 Q1813.66 310.202 1816.02 312.517 Q1818.4 314.809 1822.64 314.809 Q1825.09 314.809 1827.39 314.207 Q1829.7 313.605 1831.97 312.401 L1831.97 316.429 Q1829.68 317.401 1827.27 317.911 Q1824.86 318.42 1822.39 318.42 Q1816.18 318.42 1812.55 314.809 Q1808.94 311.198 1808.94 305.04 Q1808.94 298.675 1812.36 294.948 Q1815.81 291.198 1821.64 291.198 Q1826.88 291.198 1829.91 294.577 Q1832.96 297.934 1832.96 303.721 M1828.7 302.471 Q1828.66 298.976 1826.74 296.892 Q1824.84 294.809 1821.69 294.809 Q1818.13 294.809 1815.97 296.823 Q1813.84 298.837 1813.52 302.494 L1828.7 302.471 Z\" fill=\"#000000\" fill-rule=\"evenodd\" fill-opacity=\"1\" /><path clip-path=\"url(#clip790)\" d=\"M1837.48 291.823 L1841.74 291.823 L1847.06 312.054 L1852.36 291.823 L1857.38 291.823 L1862.71 312.054 L1868.01 291.823 L1872.27 291.823 L1865.49 317.749 L1860.46 317.749 L1854.88 296.499 L1849.28 317.749 L1844.26 317.749 L1837.48 291.823 Z\" fill=\"#000000\" fill-rule=\"evenodd\" fill-opacity=\"1\" /><path clip-path=\"url(#clip790)\" d=\"M1882.94 284.462 L1882.94 291.823 L1891.71 291.823 L1891.71 295.133 L1882.94 295.133 L1882.94 309.207 Q1882.94 312.378 1883.8 313.281 Q1884.68 314.184 1887.34 314.184 L1891.71 314.184 L1891.71 317.749 L1887.34 317.749 Q1882.41 317.749 1880.53 315.92 Q1878.66 314.068 1878.66 309.207 L1878.66 295.133 L1875.53 295.133 L1875.53 291.823 L1878.66 291.823 L1878.66 284.462 L1882.94 284.462 Z\" fill=\"#000000\" fill-rule=\"evenodd\" fill-opacity=\"1\" /><path clip-path=\"url(#clip790)\" d=\"M1907.36 294.809 Q1903.94 294.809 1901.94 297.494 Q1899.95 300.156 1899.95 304.809 Q1899.95 309.462 1901.92 312.147 Q1903.91 314.809 1907.36 314.809 Q1910.76 314.809 1912.76 312.124 Q1914.75 309.438 1914.75 304.809 Q1914.75 300.202 1912.76 297.517 Q1910.76 294.809 1907.36 294.809 M1907.36 291.198 Q1912.92 291.198 1916.09 294.809 Q1919.26 298.42 1919.26 304.809 Q1919.26 311.175 1916.09 314.809 Q1912.92 318.42 1907.36 318.42 Q1901.78 318.42 1898.61 314.809 Q1895.46 311.175 1895.46 304.809 Q1895.46 298.42 1898.61 294.809 Q1901.78 291.198 1907.36 291.198 Z\" fill=\"#000000\" fill-rule=\"evenodd\" fill-opacity=\"1\" /><path clip-path=\"url(#clip790)\" d=\"M1947.87 302.101 L1947.87 317.749 L1943.61 317.749 L1943.61 302.239 Q1943.61 298.559 1942.18 296.73 Q1940.74 294.902 1937.87 294.902 Q1934.42 294.902 1932.43 297.101 Q1930.44 299.3 1930.44 303.096 L1930.44 317.749 L1926.16 317.749 L1926.16 291.823 L1930.44 291.823 L1930.44 295.851 Q1931.97 293.513 1934.03 292.355 Q1936.11 291.198 1938.82 291.198 Q1943.29 291.198 1945.58 293.976 Q1947.87 296.73 1947.87 302.101 Z\" fill=\"#000000\" fill-rule=\"evenodd\" fill-opacity=\"1\" /><path clip-path=\"url(#clip790)\" d=\"M1991.62 296.8 Q1993.22 293.929 1995.44 292.564 Q1997.66 291.198 2000.67 291.198 Q2004.72 291.198 2006.92 294.045 Q2009.12 296.869 2009.12 302.101 L2009.12 317.749 L2004.84 317.749 L2004.84 302.239 Q2004.84 298.513 2003.52 296.707 Q2002.2 294.902 1999.49 294.902 Q1996.18 294.902 1994.26 297.101 Q1992.34 299.3 1992.34 303.096 L1992.34 317.749 L1988.06 317.749 L1988.06 302.239 Q1988.06 298.489 1986.74 296.707 Q1985.42 294.902 1982.66 294.902 Q1979.4 294.902 1977.48 297.124 Q1975.56 299.323 1975.56 303.096 L1975.56 317.749 L1971.27 317.749 L1971.27 291.823 L1975.56 291.823 L1975.56 295.851 Q1977.01 293.466 1979.05 292.332 Q1981.09 291.198 1983.89 291.198 Q1986.71 291.198 1988.68 292.633 Q1990.67 294.068 1991.62 296.8 Z\" fill=\"#000000\" fill-rule=\"evenodd\" fill-opacity=\"1\" /><path clip-path=\"url(#clip790)\" d=\"M2039.79 303.721 L2039.79 305.804 L2020.21 305.804 Q2020.49 310.202 2022.85 312.517 Q2025.23 314.809 2029.47 314.809 Q2031.92 314.809 2034.21 314.207 Q2036.53 313.605 2038.8 312.401 L2038.8 316.429 Q2036.5 317.401 2034.1 317.911 Q2031.69 318.42 2029.21 318.42 Q2023.01 318.42 2019.37 314.809 Q2015.76 311.198 2015.76 305.04 Q2015.76 298.675 2019.19 294.948 Q2022.64 291.198 2028.47 291.198 Q2033.7 291.198 2036.74 294.577 Q2039.79 297.934 2039.79 303.721 M2035.53 302.471 Q2035.49 298.976 2033.56 296.892 Q2031.67 294.809 2028.52 294.809 Q2024.95 294.809 2022.8 296.823 Q2020.67 298.837 2020.35 302.494 L2035.53 302.471 Z\" fill=\"#000000\" fill-rule=\"evenodd\" fill-opacity=\"1\" /><path clip-path=\"url(#clip790)\" d=\"M2051 284.462 L2051 291.823 L2059.77 291.823 L2059.77 295.133 L2051 295.133 L2051 309.207 Q2051 312.378 2051.85 313.281 Q2052.73 314.184 2055.39 314.184 L2059.77 314.184 L2059.77 317.749 L2055.39 317.749 Q2050.46 317.749 2048.59 315.92 Q2046.71 314.068 2046.71 309.207 L2046.71 295.133 L2043.59 295.133 L2043.59 291.823 L2046.71 291.823 L2046.71 284.462 L2051 284.462 Z\" fill=\"#000000\" fill-rule=\"evenodd\" fill-opacity=\"1\" /><path clip-path=\"url(#clip790)\" d=\"M2086.92 302.101 L2086.92 317.749 L2082.66 317.749 L2082.66 302.239 Q2082.66 298.559 2081.23 296.73 Q2079.79 294.902 2076.92 294.902 Q2073.47 294.902 2071.48 297.101 Q2069.49 299.3 2069.49 303.096 L2069.49 317.749 L2065.21 317.749 L2065.21 281.73 L2069.49 281.73 L2069.49 295.851 Q2071.02 293.513 2073.08 292.355 Q2075.16 291.198 2077.87 291.198 Q2082.34 291.198 2084.63 293.976 Q2086.92 296.73 2086.92 302.101 Z\" fill=\"#000000\" fill-rule=\"evenodd\" fill-opacity=\"1\" /><path clip-path=\"url(#clip790)\" d=\"M2105.46 294.809 Q2102.04 294.809 2100.05 297.494 Q2098.05 300.156 2098.05 304.809 Q2098.05 309.462 2100.02 312.147 Q2102.01 314.809 2105.46 314.809 Q2108.87 314.809 2110.86 312.124 Q2112.85 309.438 2112.85 304.809 Q2112.85 300.202 2110.86 297.517 Q2108.87 294.809 2105.46 294.809 M2105.46 291.198 Q2111.02 291.198 2114.19 294.809 Q2117.36 298.42 2117.36 304.809 Q2117.36 311.175 2114.19 314.809 Q2111.02 318.42 2105.46 318.42 Q2099.88 318.42 2096.71 314.809 Q2093.56 311.175 2093.56 304.809 Q2093.56 298.42 2096.71 294.809 Q2099.88 291.198 2105.46 291.198 Z\" fill=\"#000000\" fill-rule=\"evenodd\" fill-opacity=\"1\" /><path clip-path=\"url(#clip790)\" d=\"M2141.48 295.758 L2141.48 281.73 L2145.74 281.73 L2145.74 317.749 L2141.48 317.749 L2141.48 313.86 Q2140.14 316.175 2138.08 317.309 Q2136.04 318.42 2133.17 318.42 Q2128.47 318.42 2125.51 314.67 Q2122.57 310.92 2122.57 304.809 Q2122.57 298.698 2125.51 294.948 Q2128.47 291.198 2133.17 291.198 Q2136.04 291.198 2138.08 292.332 Q2140.14 293.443 2141.48 295.758 M2126.97 304.809 Q2126.97 309.508 2128.89 312.193 Q2130.83 314.855 2134.21 314.855 Q2137.59 314.855 2139.54 312.193 Q2141.48 309.508 2141.48 304.809 Q2141.48 300.11 2139.54 297.448 Q2137.59 294.763 2134.21 294.763 Q2130.83 294.763 2128.89 297.448 Q2126.97 300.11 2126.97 304.809 Z\" fill=\"#000000\" fill-rule=\"evenodd\" fill-opacity=\"1\" /><polyline clip-path=\"url(#clip790)\" style=\"stroke:#ac8d18; stroke-linecap:butt; stroke-linejoin:round; stroke-width:4; stroke-opacity:1; fill:none\" points=\"\n",
       "  1614.05,352.309 1752.45,352.309 \n",
       "  \"/>\n",
       "<path clip-path=\"url(#clip790)\" d=\"M1793.94 344.427 L1793.94 348.454 Q1792.13 347.529 1790.19 347.066 Q1788.24 346.603 1786.16 346.603 Q1782.99 346.603 1781.39 347.575 Q1779.82 348.547 1779.82 350.491 Q1779.82 351.973 1780.95 352.829 Q1782.08 353.663 1785.51 354.427 L1786.97 354.751 Q1791.51 355.723 1793.4 357.505 Q1795.33 359.265 1795.33 362.436 Q1795.33 366.047 1792.45 368.153 Q1789.61 370.26 1784.61 370.26 Q1782.52 370.26 1780.26 369.843 Q1778.01 369.45 1775.51 368.64 L1775.51 364.241 Q1777.87 365.468 1780.16 366.093 Q1782.45 366.695 1784.7 366.695 Q1787.71 366.695 1789.33 365.677 Q1790.95 364.635 1790.95 362.76 Q1790.95 361.024 1789.77 360.098 Q1788.61 359.172 1784.65 358.316 L1783.17 357.968 Q1779.21 357.135 1777.45 355.422 Q1775.7 353.686 1775.7 350.677 Q1775.7 347.019 1778.29 345.029 Q1780.88 343.038 1785.65 343.038 Q1788.01 343.038 1790.09 343.385 Q1792.18 343.732 1793.94 344.427 Z\" fill=\"#000000\" fill-rule=\"evenodd\" fill-opacity=\"1\" /><path clip-path=\"url(#clip790)\" d=\"M1824.28 355.561 L1824.28 357.644 L1804.7 357.644 Q1804.98 362.042 1807.34 364.357 Q1809.72 366.649 1813.96 366.649 Q1816.41 366.649 1818.7 366.047 Q1821.02 365.445 1823.29 364.241 L1823.29 368.269 Q1821 369.241 1818.59 369.751 Q1816.18 370.26 1813.7 370.26 Q1807.5 370.26 1803.87 366.649 Q1800.26 363.038 1800.26 356.88 Q1800.26 350.515 1803.68 346.788 Q1807.13 343.038 1812.96 343.038 Q1818.2 343.038 1821.23 346.417 Q1824.28 349.774 1824.28 355.561 M1820.02 354.311 Q1819.98 350.816 1818.06 348.732 Q1816.16 346.649 1813.01 346.649 Q1809.45 346.649 1807.29 348.663 Q1805.16 350.677 1804.84 354.334 L1820.02 354.311 Z\" fill=\"#000000\" fill-rule=\"evenodd\" fill-opacity=\"1\" /><path clip-path=\"url(#clip790)\" d=\"M1849.93 344.658 L1849.93 348.64 Q1848.13 347.644 1846.3 347.158 Q1844.49 346.649 1842.64 346.649 Q1838.5 346.649 1836.2 349.288 Q1833.91 351.904 1833.91 356.649 Q1833.91 361.394 1836.2 364.033 Q1838.5 366.649 1842.64 366.649 Q1844.49 366.649 1846.3 366.163 Q1848.13 365.653 1849.93 364.658 L1849.93 368.593 Q1848.15 369.427 1846.23 369.843 Q1844.33 370.26 1842.18 370.26 Q1836.32 370.26 1832.87 366.579 Q1829.42 362.899 1829.42 356.649 Q1829.42 350.306 1832.89 346.672 Q1836.39 343.038 1842.45 343.038 Q1844.42 343.038 1846.3 343.455 Q1848.17 343.848 1849.93 344.658 Z\" fill=\"#000000\" fill-rule=\"evenodd\" fill-opacity=\"1\" /><path clip-path=\"url(#clip790)\" d=\"M1869.12 356.556 Q1863.96 356.556 1861.97 357.737 Q1859.98 358.917 1859.98 361.765 Q1859.98 364.033 1861.46 365.376 Q1862.96 366.695 1865.53 366.695 Q1869.07 366.695 1871.2 364.195 Q1873.36 361.672 1873.36 357.505 L1873.36 356.556 L1869.12 356.556 M1877.62 354.797 L1877.62 369.589 L1873.36 369.589 L1873.36 365.653 Q1871.9 368.015 1869.72 369.149 Q1867.55 370.26 1864.4 370.26 Q1860.42 370.26 1858.06 368.038 Q1855.72 365.792 1855.72 362.042 Q1855.72 357.667 1858.63 355.445 Q1861.57 353.223 1867.38 353.223 L1873.36 353.223 L1873.36 352.806 Q1873.36 349.867 1871.41 348.269 Q1869.49 346.649 1866 346.649 Q1863.77 346.649 1861.67 347.181 Q1859.56 347.714 1857.62 348.779 L1857.62 344.843 Q1859.95 343.941 1862.15 343.501 Q1864.35 343.038 1866.44 343.038 Q1872.06 343.038 1874.84 345.954 Q1877.62 348.871 1877.62 354.797 Z\" fill=\"#000000\" fill-rule=\"evenodd\" fill-opacity=\"1\" /><path clip-path=\"url(#clip790)\" d=\"M1907.94 353.941 L1907.94 369.589 L1903.68 369.589 L1903.68 354.079 Q1903.68 350.399 1902.25 348.57 Q1900.81 346.742 1897.94 346.742 Q1894.49 346.742 1892.5 348.941 Q1890.51 351.14 1890.51 354.936 L1890.51 369.589 L1886.23 369.589 L1886.23 343.663 L1890.51 343.663 L1890.51 347.691 Q1892.04 345.353 1894.1 344.195 Q1896.18 343.038 1898.89 343.038 Q1903.36 343.038 1905.65 345.816 Q1907.94 348.57 1907.94 353.941 Z\" fill=\"#000000\" fill-rule=\"evenodd\" fill-opacity=\"1\" /><path clip-path=\"url(#clip790)\" d=\"M1920.65 336.302 L1920.65 343.663 L1929.42 343.663 L1929.42 346.973 L1920.65 346.973 L1920.65 361.047 Q1920.65 364.218 1921.5 365.121 Q1922.38 366.024 1925.05 366.024 L1929.42 366.024 L1929.42 369.589 L1925.05 369.589 Q1920.12 369.589 1918.24 367.76 Q1916.37 365.908 1916.37 361.047 L1916.37 346.973 L1913.24 346.973 L1913.24 343.663 L1916.37 343.663 L1916.37 336.302 L1920.65 336.302 Z\" fill=\"#000000\" fill-rule=\"evenodd\" fill-opacity=\"1\" /><path clip-path=\"url(#clip790)\" d=\"M1970.28 348.64 Q1971.88 345.769 1974.1 344.404 Q1976.32 343.038 1979.33 343.038 Q1983.38 343.038 1985.58 345.885 Q1987.78 348.709 1987.78 353.941 L1987.78 369.589 L1983.5 369.589 L1983.5 354.079 Q1983.5 350.353 1982.18 348.547 Q1980.86 346.742 1978.15 346.742 Q1974.84 346.742 1972.92 348.941 Q1971 351.14 1971 354.936 L1971 369.589 L1966.71 369.589 L1966.71 354.079 Q1966.71 350.329 1965.39 348.547 Q1964.07 346.742 1961.32 346.742 Q1958.06 346.742 1956.13 348.964 Q1954.21 351.163 1954.21 354.936 L1954.21 369.589 L1949.93 369.589 L1949.93 343.663 L1954.21 343.663 L1954.21 347.691 Q1955.67 345.306 1957.71 344.172 Q1959.75 343.038 1962.55 343.038 Q1965.37 343.038 1967.34 344.473 Q1969.33 345.908 1970.28 348.64 Z\" fill=\"#000000\" fill-rule=\"evenodd\" fill-opacity=\"1\" /><path clip-path=\"url(#clip790)\" d=\"M2018.45 355.561 L2018.45 357.644 L1998.87 357.644 Q1999.14 362.042 2001.5 364.357 Q2003.89 366.649 2008.12 366.649 Q2010.58 366.649 2012.87 366.047 Q2015.19 365.445 2017.45 364.241 L2017.45 368.269 Q2015.16 369.241 2012.75 369.751 Q2010.35 370.26 2007.87 370.26 Q2001.67 370.26 1998.03 366.649 Q1994.42 363.038 1994.42 356.88 Q1994.42 350.515 1997.85 346.788 Q2001.3 343.038 2007.13 343.038 Q2012.36 343.038 2015.39 346.417 Q2018.45 349.774 2018.45 355.561 M2014.19 354.311 Q2014.14 350.816 2012.22 348.732 Q2010.32 346.649 2007.18 346.649 Q2003.61 346.649 2001.46 348.663 Q1999.33 350.677 1999 354.334 L2014.19 354.311 Z\" fill=\"#000000\" fill-rule=\"evenodd\" fill-opacity=\"1\" /><path clip-path=\"url(#clip790)\" d=\"M2029.65 336.302 L2029.65 343.663 L2038.43 343.663 L2038.43 346.973 L2029.65 346.973 L2029.65 361.047 Q2029.65 364.218 2030.51 365.121 Q2031.39 366.024 2034.05 366.024 L2038.43 366.024 L2038.43 369.589 L2034.05 369.589 Q2029.12 369.589 2027.25 367.76 Q2025.37 365.908 2025.37 361.047 L2025.37 346.973 L2022.25 346.973 L2022.25 343.663 L2025.37 343.663 L2025.37 336.302 L2029.65 336.302 Z\" fill=\"#000000\" fill-rule=\"evenodd\" fill-opacity=\"1\" /><path clip-path=\"url(#clip790)\" d=\"M2065.58 353.941 L2065.58 369.589 L2061.32 369.589 L2061.32 354.079 Q2061.32 350.399 2059.88 348.57 Q2058.45 346.742 2055.58 346.742 Q2052.13 346.742 2050.14 348.941 Q2048.15 351.14 2048.15 354.936 L2048.15 369.589 L2043.87 369.589 L2043.87 333.57 L2048.15 333.57 L2048.15 347.691 Q2049.68 345.353 2051.74 344.195 Q2053.82 343.038 2056.53 343.038 Q2060.99 343.038 2063.29 345.816 Q2065.58 348.57 2065.58 353.941 Z\" fill=\"#000000\" fill-rule=\"evenodd\" fill-opacity=\"1\" /><path clip-path=\"url(#clip790)\" d=\"M2084.12 346.649 Q2080.69 346.649 2078.7 349.334 Q2076.71 351.996 2076.71 356.649 Q2076.71 361.302 2078.68 363.987 Q2080.67 366.649 2084.12 366.649 Q2087.52 366.649 2089.51 363.964 Q2091.5 361.278 2091.5 356.649 Q2091.5 352.042 2089.51 349.357 Q2087.52 346.649 2084.12 346.649 M2084.12 343.038 Q2089.68 343.038 2092.85 346.649 Q2096.02 350.26 2096.02 356.649 Q2096.02 363.015 2092.85 366.649 Q2089.68 370.26 2084.12 370.26 Q2078.54 370.26 2075.37 366.649 Q2072.22 363.015 2072.22 356.649 Q2072.22 350.26 2075.37 346.649 Q2078.54 343.038 2084.12 343.038 Z\" fill=\"#000000\" fill-rule=\"evenodd\" fill-opacity=\"1\" /><path clip-path=\"url(#clip790)\" d=\"M2120.14 347.598 L2120.14 333.57 L2124.4 333.57 L2124.4 369.589 L2120.14 369.589 L2120.14 365.7 Q2118.8 368.015 2116.74 369.149 Q2114.7 370.26 2111.83 370.26 Q2107.13 370.26 2104.17 366.51 Q2101.23 362.76 2101.23 356.649 Q2101.23 350.538 2104.17 346.788 Q2107.13 343.038 2111.83 343.038 Q2114.7 343.038 2116.74 344.172 Q2118.8 345.283 2120.14 347.598 M2105.62 356.649 Q2105.62 361.348 2107.55 364.033 Q2109.49 366.695 2112.87 366.695 Q2116.25 366.695 2118.19 364.033 Q2120.14 361.348 2120.14 356.649 Q2120.14 351.95 2118.19 349.288 Q2116.25 346.603 2112.87 346.603 Q2109.49 346.603 2107.55 349.288 Q2105.62 351.95 2105.62 356.649 Z\" fill=\"#000000\" fill-rule=\"evenodd\" fill-opacity=\"1\" /></svg>\n"
      ]
     },
     "execution_count": 16,
     "metadata": {},
     "output_type": "execute_result"
    }
   ],
   "source": [
    "plot([1:length(xlist_b);],abs.(f.(xlist_b)),\n",
    "    yaxis=:log,xlabel=\"iteration\",ylabel=\"|f(x)|\",label=\"bisection\")\n",
    "plot!([1:length(xlist_r);],abs.(f.(xlist_r)),label=\"Regula Falsi\")\n",
    "plot!([1:length(xlist_f);],abs.(f.(xlist_f)),label=\"fixed point iteration\")\n",
    "plot!([1:length(xlist_n);],abs.(f.(xlist_n)),label=\"Newton method\")\n",
    "plot!([1:length(xlist_s);],abs.(f.(xlist_s)),label=\"secant method\")"
   ]
  },
  {
   "cell_type": "code",
   "execution_count": 17,
   "id": "7210cb71",
   "metadata": {},
   "outputs": [
    {
     "data": {
      "text/plain": [
       "2.0930381346194775e-8"
      ]
     },
     "execution_count": 17,
     "metadata": {},
     "output_type": "execute_result"
    }
   ],
   "source": [
    "using LinearAlgebra\n",
    "f2(x) = [x[1]^3-x[1]*x[2]+exp(-x[1])*x[2]+2; x[2]^3-5*x[1]*x[2]^2+1]\n",
    "df2(x) = [3x[1]^2-x[2]-exp(-x[1])*x[2] -x[1]+exp(-x[1]); -5*x[2]^2 3x[2]^2-10*x[1]*x[2]]\n",
    "# check derivatives\n",
    "x0 = [1.5; -2.4]; dx0 = 1e-7*[1.4; -3.2]\n",
    "norm(f2(x0+dx0)-f2(x0-dx0)-2*df2(x0)*dx0)/norm(dx0)"
   ]
  },
  {
   "cell_type": "code",
   "execution_count": 18,
   "id": "af0d28d4",
   "metadata": {},
   "outputs": [
    {
     "data": {
      "text/plain": [
       "([-0.18793968709551276, -1.4292400695811214], 7, 6)"
      ]
     },
     "execution_count": 18,
     "metadata": {},
     "output_type": "execute_result"
    }
   ],
   "source": [
    "xlist2=Vector{Float64}[]\n",
    "out2 = newton(f2,df2,x0,1e-10,xlist=xlist2)"
   ]
  },
  {
   "cell_type": "code",
   "execution_count": 19,
   "id": "01467567",
   "metadata": {},
   "outputs": [
    {
     "data": {
      "text/plain": [
       "6-element Vector{Vector{Float64}}:\n",
       " [0.7110494121512492, -1.7749582757140394]\n",
       " [0.06397863607007659, -1.5212560802921997]\n",
       " [-0.17920800591696065, -1.4648019409679822]\n",
       " [-0.18741405340701056, -1.4300882898554987]\n",
       " [-0.1879391273448318, -1.42924095583683]\n",
       " [-0.18793968709551276, -1.4292400695811214]"
      ]
     },
     "execution_count": 19,
     "metadata": {},
     "output_type": "execute_result"
    }
   ],
   "source": [
    "xlist2"
   ]
  },
  {
   "cell_type": "code",
   "execution_count": 20,
   "id": "ac47cab8",
   "metadata": {},
   "outputs": [
    {
     "data": {
      "text/plain": [
       "2-element Vector{Float64}:\n",
       "  6.479261571712414e-13\n",
       " -9.71978053598832e-12"
      ]
     },
     "execution_count": 20,
     "metadata": {},
     "output_type": "execute_result"
    }
   ],
   "source": [
    "x2 = out2[1]\n",
    "f2(x2)"
   ]
  },
  {
   "cell_type": "code",
   "execution_count": 21,
   "id": "b8fc5b3a",
   "metadata": {},
   "outputs": [
    {
     "data": {
      "text/plain": [
       "6-element Vector{Float64}:\n",
       " 16.03030551752325\n",
       "  3.329068821502598\n",
       "  0.22131782855944324\n",
       "  0.00831403205696598\n",
       "  8.787407106868203e-6\n",
       "  9.741352163479364e-12"
      ]
     },
     "execution_count": 21,
     "metadata": {},
     "output_type": "execute_result"
    }
   ],
   "source": [
    "norm.(f2.(xlist2))"
   ]
  },
  {
   "cell_type": "code",
   "execution_count": 22,
   "id": "d8f934ba",
   "metadata": {},
   "outputs": [
    {
     "data": {
      "image/svg+xml": [
       "<?xml version=\"1.0\" encoding=\"utf-8\"?>\n",
       "<svg xmlns=\"http://www.w3.org/2000/svg\" xmlns:xlink=\"http://www.w3.org/1999/xlink\" width=\"600\" height=\"400\" viewBox=\"0 0 2400 1600\">\n",
       "<defs>\n",
       "  <clipPath id=\"clip830\">\n",
       "    <rect x=\"0\" y=\"0\" width=\"2400\" height=\"1600\"/>\n",
       "  </clipPath>\n",
       "</defs>\n",
       "<path clip-path=\"url(#clip830)\" d=\"\n",
       "M0 1600 L2400 1600 L2400 0 L0 0  Z\n",
       "  \" fill=\"#ffffff\" fill-rule=\"evenodd\" fill-opacity=\"1\"/>\n",
       "<defs>\n",
       "  <clipPath id=\"clip831\">\n",
       "    <rect x=\"480\" y=\"0\" width=\"1681\" height=\"1600\"/>\n",
       "  </clipPath>\n",
       "</defs>\n",
       "<path clip-path=\"url(#clip830)\" d=\"\n",
       "M276.876 1423.18 L2352.76 1423.18 L2352.76 47.2441 L276.876 47.2441  Z\n",
       "  \" fill=\"#ffffff\" fill-rule=\"evenodd\" fill-opacity=\"1\"/>\n",
       "<defs>\n",
       "  <clipPath id=\"clip832\">\n",
       "    <rect x=\"276\" y=\"47\" width=\"2077\" height=\"1377\"/>\n",
       "  </clipPath>\n",
       "</defs>\n",
       "<polyline clip-path=\"url(#clip832)\" style=\"stroke:#000000; stroke-linecap:butt; stroke-linejoin:round; stroke-width:2; stroke-opacity:0.1; fill:none\" points=\"\n",
       "  335.627,1423.18 335.627,47.2441 \n",
       "  \"/>\n",
       "<polyline clip-path=\"url(#clip832)\" style=\"stroke:#000000; stroke-linecap:butt; stroke-linejoin:round; stroke-width:2; stroke-opacity:0.1; fill:none\" points=\"\n",
       "  727.302,1423.18 727.302,47.2441 \n",
       "  \"/>\n",
       "<polyline clip-path=\"url(#clip832)\" style=\"stroke:#000000; stroke-linecap:butt; stroke-linejoin:round; stroke-width:2; stroke-opacity:0.1; fill:none\" points=\"\n",
       "  1118.98,1423.18 1118.98,47.2441 \n",
       "  \"/>\n",
       "<polyline clip-path=\"url(#clip832)\" style=\"stroke:#000000; stroke-linecap:butt; stroke-linejoin:round; stroke-width:2; stroke-opacity:0.1; fill:none\" points=\"\n",
       "  1510.65,1423.18 1510.65,47.2441 \n",
       "  \"/>\n",
       "<polyline clip-path=\"url(#clip832)\" style=\"stroke:#000000; stroke-linecap:butt; stroke-linejoin:round; stroke-width:2; stroke-opacity:0.1; fill:none\" points=\"\n",
       "  1902.33,1423.18 1902.33,47.2441 \n",
       "  \"/>\n",
       "<polyline clip-path=\"url(#clip832)\" style=\"stroke:#000000; stroke-linecap:butt; stroke-linejoin:round; stroke-width:2; stroke-opacity:0.1; fill:none\" points=\"\n",
       "  2294,1423.18 2294,47.2441 \n",
       "  \"/>\n",
       "<polyline clip-path=\"url(#clip830)\" style=\"stroke:#000000; stroke-linecap:butt; stroke-linejoin:round; stroke-width:4; stroke-opacity:1; fill:none\" points=\"\n",
       "  276.876,1423.18 2352.76,1423.18 \n",
       "  \"/>\n",
       "<polyline clip-path=\"url(#clip830)\" style=\"stroke:#000000; stroke-linecap:butt; stroke-linejoin:round; stroke-width:4; stroke-opacity:1; fill:none\" points=\"\n",
       "  335.627,1423.18 335.627,1404.28 \n",
       "  \"/>\n",
       "<polyline clip-path=\"url(#clip830)\" style=\"stroke:#000000; stroke-linecap:butt; stroke-linejoin:round; stroke-width:4; stroke-opacity:1; fill:none\" points=\"\n",
       "  727.302,1423.18 727.302,1404.28 \n",
       "  \"/>\n",
       "<polyline clip-path=\"url(#clip830)\" style=\"stroke:#000000; stroke-linecap:butt; stroke-linejoin:round; stroke-width:4; stroke-opacity:1; fill:none\" points=\"\n",
       "  1118.98,1423.18 1118.98,1404.28 \n",
       "  \"/>\n",
       "<polyline clip-path=\"url(#clip830)\" style=\"stroke:#000000; stroke-linecap:butt; stroke-linejoin:round; stroke-width:4; stroke-opacity:1; fill:none\" points=\"\n",
       "  1510.65,1423.18 1510.65,1404.28 \n",
       "  \"/>\n",
       "<polyline clip-path=\"url(#clip830)\" style=\"stroke:#000000; stroke-linecap:butt; stroke-linejoin:round; stroke-width:4; stroke-opacity:1; fill:none\" points=\"\n",
       "  1902.33,1423.18 1902.33,1404.28 \n",
       "  \"/>\n",
       "<polyline clip-path=\"url(#clip830)\" style=\"stroke:#000000; stroke-linecap:butt; stroke-linejoin:round; stroke-width:4; stroke-opacity:1; fill:none\" points=\"\n",
       "  2294,1423.18 2294,1404.28 \n",
       "  \"/>\n",
       "<path clip-path=\"url(#clip830)\" d=\"M326.009 1481.64 L333.648 1481.64 L333.648 1455.28 L325.338 1456.95 L325.338 1452.69 L333.601 1451.02 L338.277 1451.02 L338.277 1481.64 L345.916 1481.64 L345.916 1485.58 L326.009 1485.58 L326.009 1481.64 Z\" fill=\"#000000\" fill-rule=\"evenodd\" fill-opacity=\"1\" /><path clip-path=\"url(#clip830)\" d=\"M721.955 1481.64 L738.275 1481.64 L738.275 1485.58 L716.33 1485.58 L716.33 1481.64 Q718.992 1478.89 723.576 1474.26 Q728.182 1469.61 729.363 1468.27 Q731.608 1465.74 732.488 1464.01 Q733.39 1462.25 733.39 1460.56 Q733.39 1457.8 731.446 1456.07 Q729.525 1454.33 726.423 1454.33 Q724.224 1454.33 721.77 1455.09 Q719.339 1455.86 716.562 1457.41 L716.562 1452.69 Q719.386 1451.55 721.839 1450.97 Q724.293 1450.39 726.33 1450.39 Q731.701 1450.39 734.895 1453.08 Q738.089 1455.77 738.089 1460.26 Q738.089 1462.39 737.279 1464.31 Q736.492 1466.2 734.386 1468.8 Q733.807 1469.47 730.705 1472.69 Q727.603 1475.88 721.955 1481.64 Z\" fill=\"#000000\" fill-rule=\"evenodd\" fill-opacity=\"1\" /><path clip-path=\"url(#clip830)\" d=\"M1123.23 1466.95 Q1126.58 1467.66 1128.46 1469.93 Q1130.36 1472.2 1130.36 1475.53 Q1130.36 1480.65 1126.84 1483.45 Q1123.32 1486.25 1116.84 1486.25 Q1114.66 1486.25 1112.35 1485.81 Q1110.05 1485.39 1107.6 1484.54 L1107.6 1480.02 Q1109.55 1481.16 1111.86 1481.74 Q1114.17 1482.32 1116.7 1482.32 Q1121.1 1482.32 1123.39 1480.58 Q1125.7 1478.84 1125.7 1475.53 Q1125.7 1472.48 1123.55 1470.77 Q1121.42 1469.03 1117.6 1469.03 L1113.57 1469.03 L1113.57 1465.19 L1117.79 1465.19 Q1121.23 1465.19 1123.06 1463.82 Q1124.89 1462.43 1124.89 1459.84 Q1124.89 1457.18 1122.99 1455.77 Q1121.12 1454.33 1117.6 1454.33 Q1115.68 1454.33 1113.48 1454.75 Q1111.28 1455.16 1108.64 1456.04 L1108.64 1451.88 Q1111.3 1451.14 1113.62 1450.77 Q1115.96 1450.39 1118.02 1450.39 Q1123.34 1450.39 1126.44 1452.83 Q1129.55 1455.23 1129.55 1459.35 Q1129.55 1462.22 1127.9 1464.21 Q1126.26 1466.18 1123.23 1466.95 Z\" fill=\"#000000\" fill-rule=\"evenodd\" fill-opacity=\"1\" /><path clip-path=\"url(#clip830)\" d=\"M1513.66 1455.09 L1501.86 1473.54 L1513.66 1473.54 L1513.66 1455.09 M1512.44 1451.02 L1518.32 1451.02 L1518.32 1473.54 L1523.25 1473.54 L1523.25 1477.43 L1518.32 1477.43 L1518.32 1485.58 L1513.66 1485.58 L1513.66 1477.43 L1498.06 1477.43 L1498.06 1472.92 L1512.44 1451.02 Z\" fill=\"#000000\" fill-rule=\"evenodd\" fill-opacity=\"1\" /><path clip-path=\"url(#clip830)\" d=\"M1892.61 1451.02 L1910.96 1451.02 L1910.96 1454.96 L1896.89 1454.96 L1896.89 1463.43 Q1897.91 1463.08 1898.93 1462.92 Q1899.94 1462.73 1900.96 1462.73 Q1906.75 1462.73 1910.13 1465.9 Q1913.51 1469.08 1913.51 1474.49 Q1913.51 1480.07 1910.04 1483.17 Q1906.57 1486.25 1900.25 1486.25 Q1898.07 1486.25 1895.8 1485.88 Q1893.56 1485.51 1891.15 1484.77 L1891.15 1480.07 Q1893.23 1481.2 1895.45 1481.76 Q1897.68 1482.32 1900.15 1482.32 Q1904.16 1482.32 1906.5 1480.21 Q1908.83 1478.1 1908.83 1474.49 Q1908.83 1470.88 1906.5 1468.77 Q1904.16 1466.67 1900.15 1466.67 Q1898.28 1466.67 1896.4 1467.08 Q1894.55 1467.5 1892.61 1468.38 L1892.61 1451.02 Z\" fill=\"#000000\" fill-rule=\"evenodd\" fill-opacity=\"1\" /><path clip-path=\"url(#clip830)\" d=\"M2294.41 1466.44 Q2291.26 1466.44 2289.41 1468.59 Q2287.58 1470.74 2287.58 1474.49 Q2287.58 1478.22 2289.41 1480.39 Q2291.26 1482.55 2294.41 1482.55 Q2297.56 1482.55 2299.39 1480.39 Q2301.24 1478.22 2301.24 1474.49 Q2301.24 1470.74 2299.39 1468.59 Q2297.56 1466.44 2294.41 1466.44 M2303.69 1451.78 L2303.69 1456.04 Q2301.93 1455.21 2300.13 1454.77 Q2298.34 1454.33 2296.59 1454.33 Q2291.96 1454.33 2289.5 1457.45 Q2287.07 1460.58 2286.72 1466.9 Q2288.09 1464.89 2290.15 1463.82 Q2292.21 1462.73 2294.69 1462.73 Q2299.9 1462.73 2302.9 1465.9 Q2305.94 1469.05 2305.94 1474.49 Q2305.94 1479.82 2302.79 1483.03 Q2299.64 1486.25 2294.41 1486.25 Q2288.41 1486.25 2285.24 1481.67 Q2282.07 1477.06 2282.07 1468.33 Q2282.07 1460.14 2285.96 1455.28 Q2289.85 1450.39 2296.4 1450.39 Q2298.16 1450.39 2299.94 1450.74 Q2301.75 1451.09 2303.69 1451.78 Z\" fill=\"#000000\" fill-rule=\"evenodd\" fill-opacity=\"1\" /><path clip-path=\"url(#clip830)\" d=\"M1182.97 1532.4 L1188.82 1532.4 L1188.82 1568.04 L1182.97 1568.04 L1182.97 1532.4 M1182.97 1518.52 L1188.82 1518.52 L1188.82 1525.93 L1182.97 1525.93 L1182.97 1518.52 Z\" fill=\"#000000\" fill-rule=\"evenodd\" fill-opacity=\"1\" /><path clip-path=\"url(#clip830)\" d=\"M1206.87 1522.27 L1206.87 1532.4 L1218.93 1532.4 L1218.93 1536.95 L1206.87 1536.95 L1206.87 1556.3 Q1206.87 1560.66 1208.05 1561.9 Q1209.26 1563.14 1212.92 1563.14 L1218.93 1563.14 L1218.93 1568.04 L1212.92 1568.04 Q1206.14 1568.04 1203.56 1565.53 Q1200.98 1562.98 1200.98 1556.3 L1200.98 1536.95 L1196.68 1536.95 L1196.68 1532.4 L1200.98 1532.4 L1200.98 1522.27 L1206.87 1522.27 Z\" fill=\"#000000\" fill-rule=\"evenodd\" fill-opacity=\"1\" /><path clip-path=\"url(#clip830)\" d=\"M1257.13 1548.76 L1257.13 1551.62 L1230.2 1551.62 Q1230.58 1557.67 1233.83 1560.85 Q1237.11 1564 1242.93 1564 Q1246.3 1564 1249.46 1563.17 Q1252.64 1562.35 1255.76 1560.69 L1255.76 1566.23 Q1252.61 1567.57 1249.3 1568.27 Q1245.99 1568.97 1242.58 1568.97 Q1234.05 1568.97 1229.05 1564 Q1224.09 1559.04 1224.09 1550.57 Q1224.09 1541.82 1228.8 1536.69 Q1233.54 1531.54 1241.56 1531.54 Q1248.76 1531.54 1252.93 1536.18 Q1257.13 1540.8 1257.13 1548.76 M1251.27 1547.04 Q1251.21 1542.23 1248.56 1539.37 Q1245.95 1536.5 1241.63 1536.5 Q1236.72 1536.5 1233.76 1539.27 Q1230.84 1542.04 1230.39 1547.07 L1251.27 1547.04 Z\" fill=\"#000000\" fill-rule=\"evenodd\" fill-opacity=\"1\" /><path clip-path=\"url(#clip830)\" d=\"M1287.4 1537.87 Q1286.41 1537.3 1285.23 1537.04 Q1284.09 1536.76 1282.68 1536.76 Q1277.72 1536.76 1275.05 1540 Q1272.4 1543.22 1272.4 1549.27 L1272.4 1568.04 L1266.52 1568.04 L1266.52 1532.4 L1272.4 1532.4 L1272.4 1537.93 Q1274.25 1534.69 1277.21 1533.13 Q1280.17 1531.54 1284.4 1531.54 Q1285.01 1531.54 1285.74 1531.63 Q1286.47 1531.7 1287.36 1531.85 L1287.4 1537.87 Z\" fill=\"#000000\" fill-rule=\"evenodd\" fill-opacity=\"1\" /><path clip-path=\"url(#clip830)\" d=\"M1309.74 1550.12 Q1302.64 1550.12 1299.9 1551.75 Q1297.17 1553.37 1297.17 1557.29 Q1297.17 1560.4 1299.2 1562.25 Q1301.27 1564.07 1304.81 1564.07 Q1309.68 1564.07 1312.6 1560.63 Q1315.56 1557.16 1315.56 1551.43 L1315.56 1550.12 L1309.74 1550.12 M1321.42 1547.71 L1321.42 1568.04 L1315.56 1568.04 L1315.56 1562.63 Q1313.56 1565.88 1310.57 1567.44 Q1307.57 1568.97 1303.25 1568.97 Q1297.77 1568.97 1294.53 1565.91 Q1291.31 1562.82 1291.31 1557.67 Q1291.31 1551.65 1295.32 1548.6 Q1299.36 1545.54 1307.35 1545.54 L1315.56 1545.54 L1315.56 1544.97 Q1315.56 1540.93 1312.89 1538.73 Q1310.25 1536.5 1305.44 1536.5 Q1302.39 1536.5 1299.49 1537.23 Q1296.59 1537.97 1293.92 1539.43 L1293.92 1534.02 Q1297.13 1532.78 1300.16 1532.17 Q1303.18 1531.54 1306.05 1531.54 Q1313.78 1531.54 1317.6 1535.55 Q1321.42 1539.56 1321.42 1547.71 Z\" fill=\"#000000\" fill-rule=\"evenodd\" fill-opacity=\"1\" /><path clip-path=\"url(#clip830)\" d=\"M1339.28 1522.27 L1339.28 1532.4 L1351.34 1532.4 L1351.34 1536.95 L1339.28 1536.95 L1339.28 1556.3 Q1339.28 1560.66 1340.45 1561.9 Q1341.66 1563.14 1345.32 1563.14 L1351.34 1563.14 L1351.34 1568.04 L1345.32 1568.04 Q1338.54 1568.04 1335.97 1565.53 Q1333.39 1562.98 1333.39 1556.3 L1333.39 1536.95 L1329.09 1536.95 L1329.09 1532.4 L1333.39 1532.4 L1333.39 1522.27 L1339.28 1522.27 Z\" fill=\"#000000\" fill-rule=\"evenodd\" fill-opacity=\"1\" /><path clip-path=\"url(#clip830)\" d=\"M1359.04 1532.4 L1364.9 1532.4 L1364.9 1568.04 L1359.04 1568.04 L1359.04 1532.4 M1359.04 1518.52 L1364.9 1518.52 L1364.9 1525.93 L1359.04 1525.93 L1359.04 1518.52 Z\" fill=\"#000000\" fill-rule=\"evenodd\" fill-opacity=\"1\" /><path clip-path=\"url(#clip830)\" d=\"M1390.97 1536.5 Q1386.25 1536.5 1383.52 1540.19 Q1380.78 1543.85 1380.78 1550.25 Q1380.78 1556.65 1383.49 1560.34 Q1386.22 1564 1390.97 1564 Q1395.64 1564 1398.38 1560.31 Q1401.12 1556.62 1401.12 1550.25 Q1401.12 1543.92 1398.38 1540.23 Q1395.64 1536.5 1390.97 1536.5 M1390.97 1531.54 Q1398.6 1531.54 1402.96 1536.5 Q1407.33 1541.47 1407.33 1550.25 Q1407.33 1559 1402.96 1564 Q1398.6 1568.97 1390.97 1568.97 Q1383.29 1568.97 1378.93 1564 Q1374.61 1559 1374.61 1550.25 Q1374.61 1541.47 1378.93 1536.5 Q1383.29 1531.54 1390.97 1531.54 Z\" fill=\"#000000\" fill-rule=\"evenodd\" fill-opacity=\"1\" /><path clip-path=\"url(#clip830)\" d=\"M1446.67 1546.53 L1446.67 1568.04 L1440.81 1568.04 L1440.81 1546.72 Q1440.81 1541.66 1438.84 1539.14 Q1436.86 1536.63 1432.92 1536.63 Q1428.17 1536.63 1425.44 1539.65 Q1422.7 1542.68 1422.7 1547.9 L1422.7 1568.04 L1416.81 1568.04 L1416.81 1532.4 L1422.7 1532.4 L1422.7 1537.93 Q1424.8 1534.72 1427.63 1533.13 Q1430.5 1531.54 1434.22 1531.54 Q1440.36 1531.54 1443.51 1535.36 Q1446.67 1539.14 1446.67 1546.53 Z\" fill=\"#000000\" fill-rule=\"evenodd\" fill-opacity=\"1\" /><polyline clip-path=\"url(#clip832)\" style=\"stroke:#000000; stroke-linecap:butt; stroke-linejoin:round; stroke-width:2; stroke-opacity:0.1; fill:none\" points=\"\n",
       "  276.876,1276.77 2352.76,1276.77 \n",
       "  \"/>\n",
       "<polyline clip-path=\"url(#clip832)\" style=\"stroke:#000000; stroke-linecap:butt; stroke-linejoin:round; stroke-width:2; stroke-opacity:0.1; fill:none\" points=\"\n",
       "  276.876,745.495 2352.76,745.495 \n",
       "  \"/>\n",
       "<polyline clip-path=\"url(#clip832)\" style=\"stroke:#000000; stroke-linecap:butt; stroke-linejoin:round; stroke-width:2; stroke-opacity:0.1; fill:none\" points=\"\n",
       "  276.876,214.217 2352.76,214.217 \n",
       "  \"/>\n",
       "<polyline clip-path=\"url(#clip830)\" style=\"stroke:#000000; stroke-linecap:butt; stroke-linejoin:round; stroke-width:4; stroke-opacity:1; fill:none\" points=\"\n",
       "  276.876,1423.18 276.876,47.2441 \n",
       "  \"/>\n",
       "<polyline clip-path=\"url(#clip830)\" style=\"stroke:#000000; stroke-linecap:butt; stroke-linejoin:round; stroke-width:4; stroke-opacity:1; fill:none\" points=\"\n",
       "  276.876,1276.77 295.773,1276.77 \n",
       "  \"/>\n",
       "<polyline clip-path=\"url(#clip830)\" style=\"stroke:#000000; stroke-linecap:butt; stroke-linejoin:round; stroke-width:4; stroke-opacity:1; fill:none\" points=\"\n",
       "  276.876,745.495 295.773,745.495 \n",
       "  \"/>\n",
       "<polyline clip-path=\"url(#clip830)\" style=\"stroke:#000000; stroke-linecap:butt; stroke-linejoin:round; stroke-width:4; stroke-opacity:1; fill:none\" points=\"\n",
       "  276.876,214.217 295.773,214.217 \n",
       "  \"/>\n",
       "<path clip-path=\"url(#clip830)\" d=\"M114.931 1296.57 L122.57 1296.57 L122.57 1270.2 L114.26 1271.87 L114.26 1267.61 L122.524 1265.94 L127.2 1265.94 L127.2 1296.57 L134.839 1296.57 L134.839 1300.5 L114.931 1300.5 L114.931 1296.57 Z\" fill=\"#000000\" fill-rule=\"evenodd\" fill-opacity=\"1\" /><path clip-path=\"url(#clip830)\" d=\"M154.283 1269.02 Q150.672 1269.02 148.843 1272.58 Q147.038 1276.13 147.038 1283.26 Q147.038 1290.36 148.843 1293.93 Q150.672 1297.47 154.283 1297.47 Q157.917 1297.47 159.723 1293.93 Q161.552 1290.36 161.552 1283.26 Q161.552 1276.13 159.723 1272.58 Q157.917 1269.02 154.283 1269.02 M154.283 1265.32 Q160.093 1265.32 163.149 1269.92 Q166.227 1274.51 166.227 1283.26 Q166.227 1291.98 163.149 1296.59 Q160.093 1301.17 154.283 1301.17 Q148.473 1301.17 145.394 1296.59 Q142.339 1291.98 142.339 1283.26 Q142.339 1274.51 145.394 1269.92 Q148.473 1265.32 154.283 1265.32 Z\" fill=\"#000000\" fill-rule=\"evenodd\" fill-opacity=\"1\" /><path clip-path=\"url(#clip830)\" d=\"M166.227 1259.42 L190.339 1259.42 L190.339 1262.61 L166.227 1262.61 L166.227 1259.42 Z\" fill=\"#000000\" fill-rule=\"evenodd\" fill-opacity=\"1\" /><path clip-path=\"url(#clip830)\" d=\"M199.197 1269.89 L205.404 1269.89 L205.404 1248.47 L198.652 1249.83 L198.652 1246.36 L205.366 1245.01 L209.166 1245.01 L209.166 1269.89 L215.372 1269.89 L215.372 1273.09 L199.197 1273.09 L199.197 1269.89 Z\" fill=\"#000000\" fill-rule=\"evenodd\" fill-opacity=\"1\" /><path clip-path=\"url(#clip830)\" d=\"M231.171 1247.51 Q228.237 1247.51 226.751 1250.41 Q225.284 1253.29 225.284 1259.08 Q225.284 1264.85 226.751 1267.75 Q228.237 1270.63 231.171 1270.63 Q234.124 1270.63 235.591 1267.75 Q237.076 1264.85 237.076 1259.08 Q237.076 1253.29 235.591 1250.41 Q234.124 1247.51 231.171 1247.51 M231.171 1244.5 Q235.891 1244.5 238.374 1248.25 Q240.876 1251.97 240.876 1259.08 Q240.876 1266.17 238.374 1269.91 Q235.891 1273.64 231.171 1273.64 Q226.45 1273.64 223.949 1269.91 Q221.466 1266.17 221.466 1259.08 Q221.466 1251.97 223.949 1248.25 Q226.45 1244.5 231.171 1244.5 Z\" fill=\"#000000\" fill-rule=\"evenodd\" fill-opacity=\"1\" /><path clip-path=\"url(#clip830)\" d=\"M140.247 765.288 L147.886 765.288 L147.886 738.922 L139.575 740.589 L139.575 736.33 L147.839 734.663 L152.515 734.663 L152.515 765.288 L160.154 765.288 L160.154 769.223 L140.247 769.223 L140.247 765.288 Z\" fill=\"#000000\" fill-rule=\"evenodd\" fill-opacity=\"1\" /><path clip-path=\"url(#clip830)\" d=\"M179.598 737.742 Q175.987 737.742 174.159 741.307 Q172.353 744.848 172.353 751.978 Q172.353 759.084 174.159 762.649 Q175.987 766.191 179.598 766.191 Q183.233 766.191 185.038 762.649 Q186.867 759.084 186.867 751.978 Q186.867 744.848 185.038 741.307 Q183.233 737.742 179.598 737.742 M179.598 734.038 Q185.409 734.038 188.464 738.645 Q191.543 743.228 191.543 751.978 Q191.543 760.705 188.464 765.311 Q185.409 769.894 179.598 769.894 Q173.788 769.894 170.71 765.311 Q167.654 760.705 167.654 751.978 Q167.654 743.228 170.71 738.645 Q173.788 734.038 179.598 734.038 Z\" fill=\"#000000\" fill-rule=\"evenodd\" fill-opacity=\"1\" /><path clip-path=\"url(#clip830)\" d=\"M191.543 728.139 L215.654 728.139 L215.654 731.337 L191.543 731.337 L191.543 728.139 Z\" fill=\"#000000\" fill-rule=\"evenodd\" fill-opacity=\"1\" /><path clip-path=\"url(#clip830)\" d=\"M223.892 713.733 L238.807 713.733 L238.807 716.93 L227.372 716.93 L227.372 723.814 Q228.199 723.531 229.027 723.4 Q229.854 723.249 230.682 723.249 Q235.384 723.249 238.13 725.826 Q240.876 728.403 240.876 732.804 Q240.876 737.336 238.054 739.857 Q235.233 742.358 230.099 742.358 Q228.331 742.358 226.488 742.057 Q224.663 741.756 222.707 741.154 L222.707 737.336 Q224.4 738.258 226.205 738.709 Q228.011 739.161 230.023 739.161 Q233.277 739.161 235.177 737.449 Q237.076 735.738 237.076 732.804 Q237.076 729.87 235.177 728.158 Q233.277 726.447 230.023 726.447 Q228.5 726.447 226.977 726.785 Q225.472 727.124 223.892 727.838 L223.892 713.733 Z\" fill=\"#000000\" fill-rule=\"evenodd\" fill-opacity=\"1\" /><path clip-path=\"url(#clip830)\" d=\"M170.17 234.01 L177.809 234.01 L177.809 207.644 L169.499 209.311 L169.499 205.052 L177.762 203.385 L182.438 203.385 L182.438 234.01 L190.077 234.01 L190.077 237.945 L170.17 237.945 L170.17 234.01 Z\" fill=\"#000000\" fill-rule=\"evenodd\" fill-opacity=\"1\" /><path clip-path=\"url(#clip830)\" d=\"M209.522 206.464 Q205.91 206.464 204.082 210.029 Q202.276 213.57 202.276 220.7 Q202.276 227.806 204.082 231.371 Q205.91 234.913 209.522 234.913 Q213.156 234.913 214.961 231.371 Q216.79 227.806 216.79 220.7 Q216.79 213.57 214.961 210.029 Q213.156 206.464 209.522 206.464 M209.522 202.76 Q215.332 202.76 218.387 207.367 Q221.466 211.95 221.466 220.7 Q221.466 229.427 218.387 234.033 Q215.332 238.616 209.522 238.616 Q203.711 238.616 200.633 234.033 Q197.577 229.427 197.577 220.7 Q197.577 211.95 200.633 207.367 Q203.711 202.76 209.522 202.76 Z\" fill=\"#000000\" fill-rule=\"evenodd\" fill-opacity=\"1\" /><path clip-path=\"url(#clip830)\" d=\"M231.171 184.956 Q228.237 184.956 226.751 187.853 Q225.284 190.73 225.284 196.523 Q225.284 202.297 226.751 205.193 Q228.237 208.071 231.171 208.071 Q234.124 208.071 235.591 205.193 Q237.076 202.297 237.076 196.523 Q237.076 190.73 235.591 187.853 Q234.124 184.956 231.171 184.956 M231.171 181.947 Q235.891 181.947 238.374 185.69 Q240.876 189.414 240.876 196.523 Q240.876 203.613 238.374 207.356 Q235.891 211.08 231.171 211.08 Q226.45 211.08 223.949 207.356 Q221.466 203.613 221.466 196.523 Q221.466 189.414 223.949 185.69 Q226.45 181.947 231.171 181.947 Z\" fill=\"#000000\" fill-rule=\"evenodd\" fill-opacity=\"1\" /><path clip-path=\"url(#clip830)\" d=\"M14.1925 821.642 L79.3773 821.642 L79.3773 827.053 L14.1925 827.053 L14.1925 821.642 Z\" fill=\"#000000\" fill-rule=\"evenodd\" fill-opacity=\"1\" /><path clip-path=\"url(#clip830)\" d=\"M14.1925 799.681 L79.3773 799.681 L79.3773 805.092 L14.1925 805.092 L14.1925 799.681 Z\" fill=\"#000000\" fill-rule=\"evenodd\" fill-opacity=\"1\" /><path clip-path=\"url(#clip830)\" d=\"M14.479 767.216 L19.3487 767.216 L19.3487 772.817 Q19.3487 775.968 20.6219 777.21 Q21.895 778.419 25.2052 778.419 L28.3562 778.419 L28.3562 768.775 L32.9077 768.775 L32.9077 778.419 L64.0042 778.419 L64.0042 784.307 L32.9077 784.307 L32.9077 789.909 L28.3562 789.909 L28.3562 784.307 L25.8736 784.307 Q19.9216 784.307 17.2162 781.538 Q14.479 778.769 14.479 772.754 L14.479 767.216 Z\" fill=\"#000000\" fill-rule=\"evenodd\" fill-opacity=\"1\" /><path clip-path=\"url(#clip830)\" d=\"M14.5426 748.246 Q21.8632 752.511 29.0246 754.58 Q36.186 756.648 43.5384 756.648 Q50.8908 756.648 58.1159 754.58 Q65.3091 752.479 72.5979 748.246 L72.5979 753.338 Q65.1182 758.113 57.8931 760.5 Q50.668 762.855 43.5384 762.855 Q36.4406 762.855 29.2474 760.5 Q22.0542 758.144 14.5426 753.338 L14.5426 748.246 Z\" fill=\"#000000\" fill-rule=\"evenodd\" fill-opacity=\"1\" /><path clip-path=\"url(#clip830)\" d=\"M28.3562 707.251 L45.7028 720.141 L64.0042 706.582 L64.0042 713.489 L49.9996 723.865 L64.0042 734.241 L64.0042 741.148 L45.3526 727.303 L28.3562 739.97 L28.3562 733.064 L41.0558 723.61 L28.3562 714.157 L28.3562 707.251 Z\" fill=\"#000000\" fill-rule=\"evenodd\" fill-opacity=\"1\" /><path clip-path=\"url(#clip830)\" d=\"M14.5426 699.23 L14.5426 694.137 Q22.0542 689.363 29.2474 687.008 Q36.4406 684.621 43.5384 684.621 Q50.668 684.621 57.8931 687.008 Q65.1182 689.363 72.5979 694.137 L72.5979 699.23 Q65.3091 694.997 58.1159 692.928 Q50.8908 690.827 43.5384 690.827 Q36.186 690.827 29.0246 692.928 Q21.8632 694.997 14.5426 699.23 Z\" fill=\"#000000\" fill-rule=\"evenodd\" fill-opacity=\"1\" /><path clip-path=\"url(#clip830)\" d=\"M14.1925 665.332 L79.3773 665.332 L79.3773 670.743 L14.1925 670.743 L14.1925 665.332 Z\" fill=\"#000000\" fill-rule=\"evenodd\" fill-opacity=\"1\" /><path clip-path=\"url(#clip830)\" d=\"M14.1925 643.371 L79.3773 643.371 L79.3773 648.782 L14.1925 648.782 L14.1925 643.371 Z\" fill=\"#000000\" fill-rule=\"evenodd\" fill-opacity=\"1\" /><polyline clip-path=\"url(#clip832)\" style=\"stroke:#009af9; stroke-linecap:butt; stroke-linejoin:round; stroke-width:4; stroke-opacity:1; fill:none\" points=\"\n",
       "  335.627,86.1857 727.302,158.718 1118.98,283.813 1510.65,435.249 1902.33,751.461 2294,1384.24 \n",
       "  \"/>\n",
       "</svg>\n"
      ]
     },
     "execution_count": 22,
     "metadata": {},
     "output_type": "execute_result"
    }
   ],
   "source": [
    "plot([1:length(xlist2);],norm.(f2.(xlist2)),yaxis=:log,xlabel=\"iteration\",ylabel=\"||f(x)||\",label=nothing)"
   ]
  },
  {
   "cell_type": "code",
   "execution_count": 23,
   "id": "a5f255d4",
   "metadata": {},
   "outputs": [
    {
     "data": {
      "text/plain": [
       "4.051489844725743e-9"
      ]
     },
     "execution_count": 23,
     "metadata": {},
     "output_type": "execute_result"
    }
   ],
   "source": [
    "f3(x) = [1-x[1]^2-x[2]^2; x[2]-exp(x[1])]\n",
    "df3(x) = [-2x[1] -2x[2]; -exp(x[1]) 1]\n",
    "norm(f3(x0+dx0)-f3(x0-dx0)-2*df3(x0)*dx0)/norm(dx0) # derivative check"
   ]
  },
  {
   "cell_type": "code",
   "execution_count": 24,
   "id": "661643a6",
   "metadata": {},
   "outputs": [
    {
     "name": "stdout",
     "output_type": "stream",
     "text": [
      "search: \u001b[0m\u001b[1mg\u001b[22m\u001b[0m\u001b[1mn\u001b[22m\u001b[0m\u001b[1me\u001b[22m\u001b[0m\u001b[1mw\u001b[22m\u001b[0m\u001b[1mt\u001b[22m\u001b[0m\u001b[1mo\u001b[22m\u001b[0m\u001b[1mn\u001b[22m\n",
      "\n"
     ]
    },
    {
     "data": {
      "text/latex": [
       "\\begin{verbatim}\n",
       "function gnewton(f::Function, df::Function, x::V, eps::Number; trace=false::Bool, itmax=10000::Int)\n",
       "\n",
       "\tImplements guarded Newton method for solving `f(x) == 0`,\n",
       "\\end{verbatim}\n",
       "\\subsubsection{Arguments}\n",
       "\\begin{itemize}\n",
       "\\item \\texttt{f(x)} is the function value at \\texttt{x},\n",
       "\n",
       "\n",
       "\\item \\texttt{df(x)} is the Jacobian matrix of \\texttt{f} at \\texttt{x},\n",
       "\n",
       "\n",
       "\\item \\texttt{x} (input) is the initial guess,\n",
       "\n",
       "\n",
       "\\item \\texttt{eps > 0} is the error tolerance: the method stops when \\texttt{||f(x)|| < eps}.\n",
       "\n",
       "\\end{itemize}\n",
       "\\subsubsection{Optional named arguments}\n",
       "\\begin{itemize}\n",
       "\\item \\texttt{xlist} is the list of the iterates (if \\texttt{xlist != nothing})\n",
       "\n",
       "\n",
       "\\item \\texttt{trace=1} to trace the execuation of the algorithm\n",
       "\n",
       "\n",
       "\\item \\texttt{itmax=m} to limit the algorithm to no more than \\texttt{m} iterations (default is 10000)\n",
       "\n",
       "Returns solution, along with number of function and derivative (i.e., Jacobian) evaluations (\\texttt{nfe}, \\texttt{nde} resp.)\n",
       "\n",
       "Example: To solve $x-\\cos(x) = 0$ with a tolerance of $10^{-10}$ and starting at $x=0$:   \\texttt{x,nfe,nde = gnewton(x->x-cos(x),x->1+sin(x),0,1e-10)}\n",
       "\n",
       "\\end{itemize}\n"
      ],
      "text/markdown": [
       "```\n",
       "function gnewton(f::Function, df::Function, x::V, eps::Number; trace=false::Bool, itmax=10000::Int)\n",
       "\n",
       "\tImplements guarded Newton method for solving `f(x) == 0`,\n",
       "```\n",
       "\n",
       "### Arguments\n",
       "\n",
       "  * `f(x)` is the function value at `x`,\n",
       "  * `df(x)` is the Jacobian matrix of `f` at `x`,\n",
       "  * `x` (input) is the initial guess,\n",
       "  * `eps > 0` is the error tolerance: the method stops when `||f(x)|| < eps`.\n",
       "\n",
       "### Optional named arguments\n",
       "\n",
       "  * `xlist` is the list of the iterates (if `xlist != nothing`)\n",
       "  * `trace=1` to trace the execuation of the algorithm\n",
       "  * `itmax=m` to limit the algorithm to no more than `m` iterations (default is 10000)\n",
       "\n",
       "    Returns solution, along with number of function and derivative (i.e., Jacobian) evaluations (`nfe`, `nde` resp.)\n",
       "\n",
       "    Example: To solve $x-\\cos(x) = 0$ with a tolerance of $10^{-10}$ and starting at $x=0$:   `x,nfe,nde = gnewton(x->x-cos(x),x->1+sin(x),0,1e-10)`\n"
      ],
      "text/plain": [
       "\u001b[36m  function gnewton(f::Function, df::Function, x::V, eps::Number; trace=false::Bool, itmax=10000::Int)\u001b[39m\n",
       "\u001b[36m  \u001b[39m\n",
       "\u001b[36m  \tImplements guarded Newton method for solving `f(x) == 0`,\u001b[39m\n",
       "\n",
       "\u001b[1m  Arguments\u001b[22m\n",
       "\u001b[1m  –––––––––––\u001b[22m\n",
       "\n",
       "    •  \u001b[36mf(x)\u001b[39m is the function value at \u001b[36mx\u001b[39m,\n",
       "\n",
       "    •  \u001b[36mdf(x)\u001b[39m is the Jacobian matrix of \u001b[36mf\u001b[39m at \u001b[36mx\u001b[39m,\n",
       "\n",
       "    •  \u001b[36mx\u001b[39m (input) is the initial guess,\n",
       "\n",
       "    •  \u001b[36meps > 0\u001b[39m is the error tolerance: the method stops when \u001b[36m||f(x)|| <\n",
       "       eps\u001b[39m.\n",
       "\n",
       "\u001b[1m  Optional named arguments\u001b[22m\n",
       "\u001b[1m  ––––––––––––––––––––––––––\u001b[22m\n",
       "\n",
       "    •  \u001b[36mxlist\u001b[39m is the list of the iterates (if \u001b[36mxlist != nothing\u001b[39m)\n",
       "\n",
       "    •  \u001b[36mtrace=1\u001b[39m to trace the execuation of the algorithm\n",
       "\n",
       "    •  \u001b[36mitmax=m\u001b[39m to limit the algorithm to no more than \u001b[36mm\u001b[39m iterations\n",
       "       (default is 10000)\n",
       "       Returns solution, along with number of function and derivative\n",
       "       (i.e., Jacobian) evaluations (\u001b[36mnfe\u001b[39m, \u001b[36mnde\u001b[39m resp.)\n",
       "       Example: To solve \u001b[35mx-\\cos(x) = 0\u001b[39m with a tolerance of \u001b[35m10^{-10}\u001b[39m and\n",
       "       starting at \u001b[35mx=0\u001b[39m: \u001b[36mx,nfe,nde =\n",
       "       gnewton(x->x-cos(x),x->1+sin(x),0,1e-10)\u001b[39m"
      ]
     },
     "execution_count": 24,
     "metadata": {},
     "output_type": "execute_result"
    }
   ],
   "source": [
    "?gnewton"
   ]
  },
  {
   "cell_type": "code",
   "execution_count": 25,
   "id": "d5c6b018",
   "metadata": {},
   "outputs": [
    {
     "data": {
      "text/plain": [
       "([-0.9165625831056982, 0.3998912742866619], 12, 9)"
      ]
     },
     "execution_count": 25,
     "metadata": {},
     "output_type": "execute_result"
    }
   ],
   "source": [
    "x3,nfe3,nde3 = gnewton(f3,df3,x0,1e-10)"
   ]
  },
  {
   "cell_type": "code",
   "execution_count": 26,
   "id": "8cd356ed",
   "metadata": {},
   "outputs": [
    {
     "data": {
      "text/plain": [
       "2-element Vector{Float64}:\n",
       " -5.551115123125783e-17\n",
       "  0.0"
      ]
     },
     "execution_count": 26,
     "metadata": {},
     "output_type": "execute_result"
    }
   ],
   "source": [
    "f3(x3)"
   ]
  },
  {
   "cell_type": "markdown",
   "id": "4ef1885f",
   "metadata": {},
   "source": [
    "## Solving a nonlinear (Ricatti) matrix equation using Newton's method\n",
    "We aim to solve the nonlinear equation\n",
    "\\begin{equation}\n",
    "  F(X):=XCX+AX+XA^T+D=0\n",
    "\\end{equation}\n",
    "for $(X+E)$, where $C,\\,D$ are a square matrices (typically symmetric) of size $n\\times n$, and $A$ is a n $n\\times n$ matrix.\n",
    "\n",
    "The linearization is given by\n",
    "\\begin{equation}\n",
    "F(X+E)-F(X) = E(CX+A^T)+(XC+A)E +\\mathcal{O}(||E||)^2.\n",
    "\\end{equation}\n",
    "So the Newton equation for $E$ is actually a Sylvester equation: $ER+SE=G$, which can be solved using functions from `MatrixEquations`; specifically `sylvc`.\n",
    "\n",
    "From the software point of view, we do not represent the Jacobian operator $E\\mapsto ER+SE$ explicitly, but rather we have a new type `SylvesterOp` to represent this by storing the matrices $R$ and $S$. The solution operator `\\` then involves a call to `sylvc`."
   ]
  },
  {
   "cell_type": "code",
   "execution_count": 27,
   "id": "31f3a468",
   "metadata": {},
   "outputs": [],
   "source": [
    "import MatrixEquations\n",
    "\n",
    "struct SylvesterOp{T}\n",
    "    R::Matrix{T}\n",
    "    S::Matrix{T}\n",
    "end"
   ]
  },
  {
   "cell_type": "code",
   "execution_count": 28,
   "id": "dacbc11d",
   "metadata": {},
   "outputs": [
    {
     "data": {
      "text/plain": [
       "* (generic function with 485 methods)"
      ]
     },
     "execution_count": 28,
     "metadata": {},
     "output_type": "execute_result"
    }
   ],
   "source": [
    "import Base.*, Base.\\\n",
    "\n",
    "function \\(SO::SylvesterOp{T},rhs::Matrix{T}) where {T}\n",
    "    return MatrixEquations.sylvc(SO.S,SO.R,rhs)\n",
    "end\n",
    "\n",
    "function *(SO::SylvesterOp{T},E::Matrix{T}) where {T}\n",
    "    return E*SO.R+SO.S*E\n",
    "end"
   ]
  },
  {
   "cell_type": "code",
   "execution_count": 34,
   "id": "2845c7c7",
   "metadata": {},
   "outputs": [
    {
     "data": {
      "text/plain": [
       "5×5 Matrix{Float64}:\n",
       "  4.9165    -0.968358  -0.40603   -0.706171  -0.613897\n",
       " -0.968358   4.67023    0.235113   1.1267    -0.831068\n",
       " -0.40603    0.235113   5.08491   -0.70599    0.183029\n",
       " -0.706171   1.1267    -0.70599    3.60432   -0.929767\n",
       " -0.613897  -0.831068   0.183029  -0.929767   4.69373"
      ]
     },
     "execution_count": 34,
     "metadata": {},
     "output_type": "execute_result"
    }
   ],
   "source": [
    "using Random\n",
    "using LinearAlgebra\n",
    "n = 5\n",
    "C = randn(n,n)\n",
    "C = (C+C')/2 + n*I\n",
    "A = randn(n,n)\n",
    "D = randn(n,n)\n",
    "D = (D+D')/2 + n*I"
   ]
  },
  {
   "cell_type": "code",
   "execution_count": 35,
   "id": "d6c00ae2",
   "metadata": {},
   "outputs": [
    {
     "name": "stdout",
     "output_type": "stream",
     "text": [
      "||Z-X|| = 4.1236300902000105e-15"
     ]
    }
   ],
   "source": [
    "# check solve and multiply operators for SylversterOp\n",
    "so = SylvesterOp(C+A',C+A)\n",
    "X = randn(n,n)\n",
    "Y = so * X\n",
    "Z = so \\ Y\n",
    "print(\"||Z-X|| = \",norm(Z-X))"
   ]
  },
  {
   "cell_type": "code",
   "execution_count": 36,
   "id": "54918d70",
   "metadata": {},
   "outputs": [
    {
     "name": "stdout",
     "output_type": "stream",
     "text": [
      "gnewton: alpha = 1.0\n",
      "newton: iter = 0, ||f(x)|| = 18.40331198554354\n",
      "gnewton: alpha = 0.5\n",
      "newton: iter = 1, ||f(x)|| = 10.86125282822409\n",
      "gnewton: alpha = 0.001953125\n",
      "newton: iter = 2, ||f(x)|| = 9.863981467016718\n",
      "gnewton: alpha = 0.0625\n",
      "newton: iter = 3, ||f(x)|| = 9.1733718100868\n",
      "gnewton: alpha = 0.0625\n",
      "newton: iter = 4, ||f(x)|| = 9.019620073286942\n",
      "gnewton: alpha = 0.03125\n",
      "newton: iter = 5, ||f(x)|| = 8.917478685792611\n",
      "gnewton: alpha = 0.015625\n",
      "newton: iter = 6, ||f(x)|| = 8.839202029344493\n",
      "gnewton: alpha = 0.015625\n",
      "newton: iter = 7, ||f(x)|| = 8.775997048026717\n",
      "gnewton: alpha = 0.015625\n",
      "newton: iter = 8, ||f(x)|| = 8.734959748188714\n",
      "gnewton: alpha = 0.0078125\n",
      "newton: iter = 9, ||f(x)|| = 8.698448786583473\n",
      "gnewton: alpha = 0.0078125\n",
      "newton: iter = 10, ||f(x)|| = 8.667883129476843\n",
      "gnewton: alpha = 0.0078125\n",
      "newton: iter = 11, ||f(x)|| = 8.645079215460521\n",
      "gnewton: alpha = 0.0078125\n",
      "newton: iter = 12, ||f(x)|| = 8.63272301167296\n",
      "gnewton: alpha = 0.00390625\n",
      "newton: iter = 13, ||f(x)|| = 8.616090775090383\n",
      "gnewton: alpha = 0.00390625\n",
      "newton: iter = 14, ||f(x)|| = 8.601646631082126\n",
      "gnewton: alpha = 0.00390625\n",
      "newton: iter = 15, ||f(x)|| = 8.589812502032492\n",
      "gnewton: alpha = 0.00390625\n",
      "newton: iter = 16, ||f(x)|| = 8.5811301606033\n",
      "gnewton: alpha = 0.00390625\n",
      "newton: iter = 17, ||f(x)|| = 8.576305479173888\n",
      "gnewton: alpha = 0.001953125\n",
      "newton: iter = 18, ||f(x)|| = 8.56784370622608\n",
      "gnewton: alpha = 0.001953125\n",
      "newton: iter = 19, ||f(x)|| = 8.560052856965065\n",
      "gnewton: alpha = 0.001953125\n",
      "newton: iter = 20, ||f(x)|| = 8.5530116321958\n",
      "gnewton: alpha = 0.001953125\n",
      "newton: iter = 21, ||f(x)|| = 8.546811956806597\n",
      "gnewton: alpha = 0.001953125\n",
      "newton: iter = 22, ||f(x)|| = 8.541561827053409\n",
      "gnewton: alpha = 0.001953125\n",
      "newton: iter = 23, ||f(x)|| = 8.537388913752132\n",
      "gnewton: alpha = 0.001953125\n",
      "newton: iter = 24, ||f(x)|| = 8.534445162491982\n",
      "gnewton: alpha = 0.0009765625\n",
      "newton: iter = 25, ||f(x)|| = 8.529878540657828\n",
      "gnewton: alpha = 0.0009765625\n",
      "newton: iter = 26, ||f(x)|| = 8.525501506970613\n",
      "gnewton: alpha = 0.0009765625\n",
      "newton: iter = 27, ||f(x)|| = 8.521327634646013\n",
      "gnewton: alpha = 0.0009765625\n",
      "newton: iter = 28, ||f(x)|| = 8.517371867042058\n",
      "gnewton: alpha = 0.0009765625\n",
      "newton: iter = 29, ||f(x)|| = 8.513650693242893\n",
      "gnewton: alpha = 0.0009765625\n",
      "newton: iter = 30, ||f(x)|| = 8.51018235112272\n",
      "gnewton: alpha = 0.0009765625\n",
      "newton: iter = 31, ||f(x)|| = 8.506987063000876\n",
      "gnewton: alpha = 0.0009765625\n",
      "newton: iter = 32, ||f(x)|| = 8.504087310108412\n",
      "gnewton: alpha = 0.0009765625\n",
      "newton: iter = 33, ||f(x)|| = 8.501508153481293\n",
      "gnewton: alpha = 0.0009765625\n",
      "newton: iter = 34, ||f(x)|| = 8.499277610610145\n",
      "gnewton: alpha = 0.0009765625\n",
      "newton: iter = 35, ||f(x)|| = 8.497427099406531\n",
      "gnewton: alpha = 0.0009765625\n",
      "newton: iter = 36, ||f(x)|| = 8.49599196380837\n",
      "gnewton: alpha = 0.0009765625\n",
      "newton: iter = 37, ||f(x)|| = 8.495012098931003\n",
      "gnewton: alpha = 0.00048828125\n",
      "newton: iter = 38, ||f(x)|| = 8.49281393976022\n",
      "gnewton: alpha = 0.00048828125\n",
      "newton: iter = 39, ||f(x)|| = 8.490681303507522\n",
      "gnewton: alpha = 0.00048828125\n",
      "newton: iter = 40, ||f(x)|| = 8.488617350550404\n",
      "gnewton: alpha = 0.00048828125\n",
      "newton: iter = 41, ||f(x)|| = 8.486625452498526\n",
      "gnewton: alpha = 0.00048828125\n",
      "newton: iter = 42, ||f(x)|| = 8.484709210028937\n",
      "gnewton: alpha = 0.00048828125\n",
      "newton: iter = 43, ||f(x)|| = 8.482872472548863\n",
      "gnewton: alpha = 0.00048828125\n",
      "newton: iter = 44, ||f(x)|| = 8.48111935991204\n",
      "gnewton: alpha = 0.00048828125\n",
      "newton: iter = 45, ||f(x)|| = 8.479454286434843\n",
      "gnewton: alpha = 0.00048828125\n",
      "newton: iter = 46, ||f(x)|| = 8.477881987510424\n",
      "gnewton: alpha = 0.00048828125\n",
      "newton: iter = 47, ||f(x)|| = 8.476407549144424\n",
      "gnewton: alpha = 0.00048828125\n",
      "newton: iter = 48, ||f(x)|| = 8.475036440792868\n",
      "gnewton: alpha = 0.00048828125\n",
      "newton: iter = 49, ||f(x)|| = 8.473774551944723\n",
      "gnewton: alpha = 0.00048828125\n",
      "newton: iter = 50, ||f(x)|| = 8.47262823294698\n",
      "gnewton: alpha = 0.00048828125\n",
      "newton: iter = 51, ||f(x)|| = 8.471604340666387\n",
      "gnewton: alpha = 0.00048828125\n",
      "newton: iter = 52, ||f(x)|| = 8.47071028964544\n",
      "gnewton: alpha = 0.00048828125\n",
      "newton: iter = 53, ||f(x)|| = 8.469954109564114\n",
      "gnewton: alpha = 0.00048828125\n",
      "newton: iter = 54, ||f(x)|| = 8.469344509902333\n",
      "gnewton: alpha = 0.00048828125\n",
      "newton: iter = 55, ||f(x)|| = 8.468890952886584\n",
      "gnewton: alpha = 0.000244140625\n",
      "newton: iter = 56, ||f(x)|| = 8.46778431035092\n",
      "gnewton: alpha = 0.000244140625\n",
      "newton: iter = 57, ||f(x)|| = 8.46669910874112\n",
      "gnewton: alpha = 0.000244140625\n",
      "newton: iter = 58, ||f(x)|| = 8.465636039375292\n",
      "gnewton: alpha = 0.000244140625\n",
      "newton: iter = 59, ||f(x)|| = 8.464595824129246\n",
      "gnewton: alpha = 0.000244140625\n",
      "newton: iter = 60, ||f(x)|| = 8.463579217143392\n",
      "gnewton: alpha = 0.000244140625\n",
      "newton: iter = 61, ||f(x)|| = 8.462587006633028\n",
      "gnewton: alpha = 0.000244140625\n",
      "newton: iter = 62, ||f(x)|| = 8.461620016831601\n",
      "gnewton: alpha = 0.000244140625\n",
      "newton: iter = 63, ||f(x)|| = 8.460679110062408\n",
      "gnewton: alpha = 0.000244140625\n",
      "newton: iter = 64, ||f(x)|| = 8.459765188953781\n",
      "gnewton: alpha = 0.000244140625\n",
      "newton: iter = 65, ||f(x)|| = 8.458879198813083\n",
      "gnewton: alpha = 0.000244140625\n",
      "newton: iter = 66, ||f(x)|| = 8.458022130169212\n",
      "gnewton: alpha = 0.000244140625\n",
      "newton: iter = 67, ||f(x)|| = 8.457195021500654\n",
      "gnewton: alpha = 0.000244140625\n",
      "newton: iter = 68, ||f(x)|| = 8.456398962152113\n",
      "gnewton: alpha = 0.000244140625\n",
      "newton: iter = 69, ||f(x)|| = 8.455635095482547\n",
      "gnewton: alpha = 0.000244140625\n",
      "newton: iter = 70, ||f(x)|| = 8.454904622237006\n",
      "gnewton: alpha = 0.000244140625\n",
      "newton: iter = 71, ||f(x)|| = 8.45420880418105\n",
      "gnewton: alpha = 0.000244140625\n",
      "newton: iter = 72, ||f(x)|| = 8.453548968009494\n",
      "gnewton: alpha = 0.000244140625\n",
      "newton: iter = 73, ||f(x)|| = 8.452926509551407\n",
      "gnewton: alpha = 0.000244140625\n",
      "newton: iter = 74, ||f(x)|| = 8.452342898328627\n",
      "gnewton: alpha = 0.000244140625\n",
      "newton: iter = 75, ||f(x)|| = 8.45179968244839\n",
      "gnewton: alpha = 0.000244140625\n",
      "newton: iter = 76, ||f(x)|| = 8.451298493913427\n",
      "gnewton: alpha = 0.000244140625\n",
      "newton: iter = 77, ||f(x)|| = 8.450841054354038\n",
      "gnewton: alpha = 0.000244140625\n",
      "newton: iter = 78, ||f(x)|| = 8.450429181243958\n",
      "gnewton: alpha = 0.000244140625\n",
      "newton: iter = 79, ||f(x)|| = 8.450064794627831\n",
      "gnewton: alpha = 0.000244140625\n",
      "newton: iter = 80, ||f(x)|| = 8.449749924432332\n",
      "gnewton: alpha = 0.000244140625\n",
      "newton: iter = 81, ||f(x)|| = 8.449486718402165\n",
      "gnewton: alpha = 0.000244140625\n",
      "newton: iter = 82, ||f(x)|| = 8.449277450741025\n",
      "gnewton: alpha = 0.0001220703125\n",
      "newton: iter = 83, ||f(x)|| = 8.448723265133305\n",
      "gnewton: alpha = 0.0001220703125\n",
      "newton: iter = 84, ||f(x)|| = 8.448176270392104\n",
      "gnewton: alpha = 0.0001220703125\n",
      "newton: iter = 85, ||f(x)|| = 8.447636624332434\n",
      "gnewton: alpha = 0.0001220703125\n",
      "newton: iter = 86, ||f(x)|| = 8.447104489484241\n",
      "gnewton: alpha = 0.0001220703125\n",
      "newton: iter = 87, ||f(x)|| = 8.446580033268308\n",
      "gnewton: alpha = 0.0001220703125\n",
      "newton: iter = 88, ||f(x)|| = 8.446063428170918\n",
      "gnewton: alpha = 0.0001220703125\n",
      "newton: iter = 89, ||f(x)|| = 8.44555485194803\n",
      "gnewton: alpha = 0.0001220703125\n",
      "newton: iter = 90, ||f(x)|| = 8.44505448782642\n",
      "gnewton: alpha = 0.0001220703125\n",
      "newton: iter = 91, ||f(x)|| = 8.444562524711612\n",
      "gnewton: alpha = 0.0001220703125\n",
      "newton: iter = 92, ||f(x)|| = 8.444079157403749\n",
      "gnewton: alpha = 0.0001220703125\n",
      "newton: iter = 93, ||f(x)|| = 8.443604586844808\n",
      "gnewton: alpha = 0.0001220703125\n",
      "newton: iter = 94, ||f(x)|| = 8.443139020345901\n",
      "gnewton: alpha = 0.0001220703125\n",
      "newton: iter = 95, ||f(x)|| = 8.442682671848603\n",
      "gnewton: alpha = 0.0001220703125\n",
      "newton: iter = 96, ||f(x)|| = 8.442235762189076\n",
      "gnewton: alpha = 0.0001220703125\n",
      "newton: iter = 97, ||f(x)|| = 8.441798519377693\n",
      "gnewton: alpha = 0.0001220703125\n",
      "newton: iter = 98, ||f(x)|| = 8.441371178893094\n",
      "gnewton: alpha = 0.0001220703125\n",
      "newton: iter = 99, ||f(x)|| = 8.440953983988564\n",
      "gnewton: alpha = 0.0001220703125\n",
      "newton: iter = 100, ||f(x)|| = 8.440547186019788\n",
      "X = [60.04733676749962 -24.649148578449964 -33.60541451350711 -23.451380266766176 43.04275856059574; 14.90168384221437 -6.0098955847998194 -8.659923784929857 -6.893836227051157 11.534308252046976; 63.528658693043205 -25.746939320859784 -35.522972192532116 -25.349089178063487 45.94053408446852; -61.52854085039088 26.258374741466476 34.084327972603255 25.065388719682243 -44.492807379143734; -45.517316945451924 19.147437703925064 25.184124445726823 18.91580171943348 -34.101071683405884]\n",
      "||F(X)|| = 8.440547186019788\n"
     ]
    }
   ],
   "source": [
    "F(X) = X*C*X+A*X+X*A'+D\n",
    "dF(X) = SylvesterOp(C*X+A',X*C+A)\n",
    "X0 = randn(n,n) # random initial guess\n",
    "X,nfe,nde = gnewton(F,dF,X0,1e-7,trace=1,itmax=100)\n",
    "println(\"X = \",X)\n",
    "println(\"||F(X)|| = \", norm(F(X)))"
   ]
  },
  {
   "cell_type": "code",
   "execution_count": 32,
   "id": "14fcd5a6",
   "metadata": {},
   "outputs": [
    {
     "data": {
      "text/plain": [
       "(1180, 101)"
      ]
     },
     "execution_count": 32,
     "metadata": {},
     "output_type": "execute_result"
    }
   ],
   "source": [
    "nfe,nde"
   ]
  },
  {
   "cell_type": "code",
   "execution_count": 33,
   "id": "0fea1fbb",
   "metadata": {},
   "outputs": [
    {
     "data": {
      "text/plain": [
       "5×5 Matrix{Float64}:\n",
       "  -52.5487  23.7366  4.2345   12.447    5.72912\n",
       "  -81.4526  35.9197  7.05224  19.862    9.38991\n",
       "  -50.0848  22.9548  3.19667  12.8018   5.50139\n",
       " -105.553   48.0916  9.1336   24.9184  11.6534\n",
       "  -48.9084  22.0808  5.04827  10.8973   6.08678"
      ]
     },
     "execution_count": 33,
     "metadata": {},
     "output_type": "execute_result"
    }
   ],
   "source": [
    "X"
   ]
  }
 ],
 "metadata": {
  "kernelspec": {
   "display_name": "Julia 1.7.2",
   "language": "julia",
   "name": "julia-1.7"
  },
  "language_info": {
   "file_extension": ".jl",
   "mimetype": "application/julia",
   "name": "julia",
   "version": "1.7.2"
  }
 },
 "nbformat": 4,
 "nbformat_minor": 5
}
