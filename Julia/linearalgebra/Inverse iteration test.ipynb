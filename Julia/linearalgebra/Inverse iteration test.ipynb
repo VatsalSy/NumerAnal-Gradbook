{
 "cells": [
  {
   "cell_type": "code",
   "execution_count": 12,
   "id": "f9ffd7e4-c698-4dc8-a8a2-bff407f2a0e1",
   "metadata": {},
   "outputs": [
    {
     "data": {
      "text/plain": [
       "zero (generic function with 1 method)"
      ]
     },
     "execution_count": 12,
     "metadata": {},
     "output_type": "execute_result"
    }
   ],
   "source": [
    "using LinearAlgebra\n",
    "include(\"inv_iter.jl\")"
   ]
  },
  {
   "cell_type": "code",
   "execution_count": 2,
   "id": "df9a29b8-959d-4805-b9c9-a0dd849f338b",
   "metadata": {},
   "outputs": [
    {
     "name": "stdout",
     "output_type": "stream",
     "text": [
      "search: \u001b[0m\u001b[1mi\u001b[22m\u001b[0m\u001b[1mn\u001b[22m\u001b[0m\u001b[1mv\u001b[22m\u001b[0m\u001b[1m_\u001b[22m\u001b[0m\u001b[1mi\u001b[22m\u001b[0m\u001b[1mt\u001b[22m\u001b[0m\u001b[1me\u001b[22m\u001b[0m\u001b[1mr\u001b[22m\n",
      "\n"
     ]
    },
    {
     "data": {
      "text/latex": [
       "\\begin{verbatim}\n",
       "inv_iter(A,x0,mu0,num_iter) --> (lambdalist,xlist)\n",
       "\\end{verbatim}\n",
       "Performs inverse iteration to find an eigenvalue of A\n",
       "\n",
       "\\begin{itemize}\n",
       "\\item \\texttt{x0}\t– starting eigenvector estimate\n",
       "\n",
       "\n",
       "\\item \\texttt{mu0}\t– starting eigenvalue estimate\n",
       "\n",
       "\n",
       "\\item \\texttt{num\\_iter} – number of iterations\n",
       "\n",
       "\\end{itemize}\n",
       "Output:\n",
       "\n",
       "\\begin{itemize}\n",
       "\\item \\texttt{lambdalist}\t– list of eigenvalue estimates\n",
       "\n",
       "\n",
       "\\item \\texttt{xlist}\t\t– list of eigenvector estimates\n",
       "\n",
       "\\end{itemize}\n"
      ],
      "text/markdown": [
       "```\n",
       "inv_iter(A,x0,mu0,num_iter) --> (lambdalist,xlist)\n",
       "```\n",
       "\n",
       "Performs inverse iteration to find an eigenvalue of A\n",
       "\n",
       "  * `x0`\t– starting eigenvector estimate\n",
       "  * `mu0`\t– starting eigenvalue estimate\n",
       "  * `num_iter` – number of iterations\n",
       "\n",
       "Output:\n",
       "\n",
       "  * `lambdalist`\t– list of eigenvalue estimates\n",
       "  * `xlist`\t\t– list of eigenvector estimates\n"
      ],
      "text/plain": [
       "\u001b[36m  inv_iter(A,x0,mu0,num_iter) --> (lambdalist,xlist)\u001b[39m\n",
       "\n",
       "  Performs inverse iteration to find an eigenvalue of A\n",
       "\n",
       "    •  \u001b[36mx0\u001b[39m – starting eigenvector estimate\n",
       "\n",
       "    •  \u001b[36mmu0\u001b[39m – starting eigenvalue estimate\n",
       "\n",
       "    •  \u001b[36mnum_iter\u001b[39m – number of iterations\n",
       "\n",
       "  Output:\n",
       "\n",
       "    •  \u001b[36mlambdalist\u001b[39m – list of eigenvalue estimates\n",
       "\n",
       "    •  \u001b[36mxlist\u001b[39m – list of eigenvector estimates"
      ]
     },
     "execution_count": 2,
     "metadata": {},
     "output_type": "execute_result"
    }
   ],
   "source": [
    "?inv_iter"
   ]
  },
  {
   "cell_type": "code",
   "execution_count": 3,
   "id": "2d268872-75e5-45b0-a096-e4a64002dba4",
   "metadata": {},
   "outputs": [
    {
     "data": {
      "text/plain": [
       "4-element Vector{Float64}:\n",
       " -0.2698544199326134\n",
       " -0.4923784049048418\n",
       " -0.5801713707610641\n",
       " -3.2317983788322104"
      ]
     },
     "execution_count": 3,
     "metadata": {},
     "output_type": "execute_result"
    }
   ],
   "source": [
    "A = randn(4,4)\n",
    "x0 = randn(4)"
   ]
  },
  {
   "cell_type": "code",
   "execution_count": 4,
   "id": "e14136ba-5744-4285-932d-08dfc48b2b44",
   "metadata": {},
   "outputs": [
    {
     "data": {
      "text/plain": [
       "Eigen{ComplexF64, ComplexF64, Matrix{ComplexF64}, Vector{ComplexF64}}\n",
       "values:\n",
       "4-element Vector{ComplexF64}:\n",
       "  -1.4491782879550823 + 0.0im\n",
       " -0.22434360286197808 + 0.0im\n",
       "   1.2644082279673996 - 2.262483414392399im\n",
       "   1.2644082279673996 + 2.262483414392399im\n",
       "vectors:\n",
       "4×4 Matrix{ComplexF64}:\n",
       " -0.227285+0.0im   0.155499+0.0im  …   0.650435+0.0im\n",
       " -0.487777+0.0im  -0.111409+0.0im     -0.124593+0.0494013im\n",
       "  0.831047+0.0im  -0.747599+0.0im     0.0111253+0.567575im\n",
       " -0.140625+0.0im   0.636006+0.0im      0.156626+0.460622im"
      ]
     },
     "execution_count": 4,
     "metadata": {},
     "output_type": "execute_result"
    }
   ],
   "source": [
    "eigen(A)"
   ]
  },
  {
   "cell_type": "code",
   "execution_count": 5,
   "id": "7268f2a0-7910-450a-866e-1d9cc0a62cb6",
   "metadata": {},
   "outputs": [],
   "source": [
    "llist,xlist = inv_iter(A,x0,1.0,10);"
   ]
  },
  {
   "cell_type": "code",
   "execution_count": 6,
   "id": "3cf78223-da2f-469b-ac7b-5d453908da4d",
   "metadata": {},
   "outputs": [
    {
     "data": {
      "text/plain": [
       "11-element Vector{Float64}:\n",
       "  1.0\n",
       " -1.7142775906484728\n",
       "  0.4519290891374026\n",
       " -0.48837584501286857\n",
       "  0.03633470378583015\n",
       " -0.1908409403136381\n",
       " -0.22347496973542902\n",
       " -0.2243429578648294\n",
       " -0.22434360286164629\n",
       " -0.22434360286197805\n",
       " -0.22434360286197833"
      ]
     },
     "execution_count": 6,
     "metadata": {},
     "output_type": "execute_result"
    }
   ],
   "source": [
    "llist"
   ]
  },
  {
   "cell_type": "code",
   "execution_count": 7,
   "id": "972a019c-6612-4303-97f0-0f25606e5783",
   "metadata": {},
   "outputs": [
    {
     "data": {
      "text/plain": [
       "11-element Vector{Vector{Float64}}:\n",
       " [-0.2698544199326134, -0.4923784049048418, -0.5801713707610641, -3.2317983788322104]\n",
       " [0.6561586263862629, -0.0969063339020665, -0.5633373991483194, 0.49266215014892417]\n",
       " [0.3493080695584016, 0.24123070328355642, -0.7745446510231353, 0.46890532509895116]\n",
       " [-0.2052772748512985, -0.08612769273474007, 0.8686347030966484, -0.4426251388590714]\n",
       " [-0.1452690743812291, 0.19939388764514673, 0.6952923002294841, -0.675061175627638]\n",
       " [0.15171038042615137, -0.12545300312326418, -0.7402584592771915, 0.642855285384561]\n",
       " [-0.15542001458427293, 0.1117787229374287, 0.7473847842479974, -0.6362123233950097]\n",
       " [0.15549922831053284, -0.11140928091007664, -0.7475990551394023, 0.6360059865100337]\n",
       " [-0.15549928071101682, 0.11140901779901677, 0.7475992005810036, -0.6360058488269262]\n",
       " [0.15549928071104682, -0.11140901779887874, -0.74759920058108, 0.6360058488268535]\n",
       " [-0.15549928071104696, 0.11140901779887852, 0.7475992005810801, -0.6360058488268533]"
      ]
     },
     "execution_count": 7,
     "metadata": {},
     "output_type": "execute_result"
    }
   ],
   "source": [
    "xlist"
   ]
  },
  {
   "cell_type": "code",
   "execution_count": 9,
   "id": "9cece264-ae84-4b40-aa98-b09737ff6be4",
   "metadata": {},
   "outputs": [
    {
     "data": {
      "text/plain": [
       "11-element Vector{Float64}:\n",
       " 2.2892276063882413\n",
       " 2.4767550637674636\n",
       " 1.288363046814604\n",
       " 0.2587189568865949\n",
       " 0.2196627544751999\n",
       " 0.02620363911013252\n",
       " 0.0006454466949280549\n",
       " 4.860028384640214e-7\n",
       " 2.497517260023642e-13\n",
       " 2.8592958248358663e-16\n",
       " 2.2250491372754983e-16"
      ]
     },
     "execution_count": 9,
     "metadata": {},
     "output_type": "execute_result"
    }
   ],
   "source": [
    "[norm(A*xlist[i]-llist[i]*xlist[i])/norm(xlist[i]) for i = 1:length(llist)]"
   ]
  },
  {
   "cell_type": "code",
   "execution_count": 11,
   "id": "bfd1a16c-92f5-409f-987b-e797e5adfa54",
   "metadata": {},
   "outputs": [
    {
     "data": {
      "text/html": [
       "# 22 methods for generic function <b>zero</b>:<ul><li> zero(::<b>Union{Type{P}, P}</b>)<i> where P<:Dates.Period</i> in Dates at <a href=\"file://C:/buildbot/worker/package_win64/build/usr/share/julia/stdlib/v1.7/Dates/src/periods.jl\" target=\"_blank\">C:\\Users\\dstew\\AppData\\Local\\Programs\\Julia-1.7.2\\share\\julia\\stdlib\\v1.7\\Dates\\src\\periods.jl:53</a></li> <li> zero(::<b>AbstractIrrational</b>) in Base at <a href=\"https://github.com/JuliaLang/julia/tree/bf534986350a991e4a1b29126de0342ffd76205e/base/irrationals.jl#L150\" target=\"_blank\">irrationals.jl:150</a></li> <li> zero(x::<b>Number</b>) in Base at <a href=\"https://github.com/JuliaLang/julia/tree/bf534986350a991e4a1b29126de0342ffd76205e/base/number.jl#L296\" target=\"_blank\">number.jl:296</a></li> <li> zero(::<b>CartesianIndex{N}</b>)<i> where N</i> in Base.IteratorsMD at <a href=\"https://github.com/JuliaLang/julia/tree/bf534986350a991e4a1b29126de0342ffd76205e/base/multidimensional.jl#L106\" target=\"_blank\">multidimensional.jl:106</a></li> <li> zero(a::<b>SparseArrays.AbstractSparseArray</b>) in SparseArrays at <a href=\"file://C:/buildbot/worker/package_win64/build/usr/share/julia/stdlib/v1.7/SparseArrays/src/SparseArrays.jl\" target=\"_blank\">C:\\Users\\dstew\\AppData\\Local\\Programs\\Julia-1.7.2\\share\\julia\\stdlib\\v1.7\\SparseArrays\\src\\SparseArrays.jl:55</a></li> <li> zero(x::<b>AbstractArray{T}</b>)<i> where T</i> in Base at <a href=\"https://github.com/JuliaLang/julia/tree/bf534986350a991e4a1b29126de0342ffd76205e/base/abstractarray.jl#L1133\" target=\"_blank\">abstractarray.jl:1133</a></li> <li> zero(::<b>T</b>)<i> where T<:Dates.TimeType</i> in Dates at <a href=\"file://C:/buildbot/worker/package_win64/build/usr/share/julia/stdlib/v1.7/Dates/src/types.jl\" target=\"_blank\">C:\\Users\\dstew\\AppData\\Local\\Programs\\Julia-1.7.2\\share\\julia\\stdlib\\v1.7\\Dates\\src\\types.jl:450</a></li> <li> zero(J::<b>UniformScaling{T}</b>)<i> where T</i> in LinearAlgebra at <a href=\"file://C:/buildbot/worker/package_win64/build/usr/share/julia/stdlib/v1.7/LinearAlgebra/src/uniformscaling.jl\" target=\"_blank\">C:\\Users\\dstew\\AppData\\Local\\Programs\\Julia-1.7.2\\share\\julia\\stdlib\\v1.7\\LinearAlgebra\\src\\uniformscaling.jl:136</a></li> <li> zero(::<b>Type{CartesianIndex{N}}</b>)<i> where N</i> in Base.IteratorsMD at <a href=\"https://github.com/JuliaLang/julia/tree/bf534986350a991e4a1b29126de0342ffd76205e/base/multidimensional.jl#L107\" target=\"_blank\">multidimensional.jl:107</a></li> <li> zero(::<b>Type{Base.TwicePrecision{T}}</b>)<i> where T</i> in Base at <a href=\"https://github.com/JuliaLang/julia/tree/bf534986350a991e4a1b29126de0342ffd76205e/base/twiceprecision.jl#L272\" target=\"_blank\">twiceprecision.jl:272</a></li> <li> zero(::<b>Type{UniformScaling{T}}</b>)<i> where T</i> in LinearAlgebra at <a href=\"file://C:/buildbot/worker/package_win64/build/usr/share/julia/stdlib/v1.7/LinearAlgebra/src/uniformscaling.jl\" target=\"_blank\">C:\\Users\\dstew\\AppData\\Local\\Programs\\Julia-1.7.2\\share\\julia\\stdlib\\v1.7\\LinearAlgebra\\src\\uniformscaling.jl:135</a></li> <li> zero(::<b>Type{<:AbstractIrrational}</b>) in Base at <a href=\"https://github.com/JuliaLang/julia/tree/bf534986350a991e4a1b29126de0342ffd76205e/base/irrationals.jl#L151\" target=\"_blank\">irrationals.jl:151</a></li> <li> zero(::<b>Type{T}</b>)<i> where T<:Number</i> in Base at <a href=\"https://github.com/JuliaLang/julia/tree/bf534986350a991e4a1b29126de0342ffd76205e/base/number.jl#L297\" target=\"_blank\">number.jl:297</a></li> <li> zero(::<b>Missing</b>) in Base at <a href=\"https://github.com/JuliaLang/julia/tree/bf534986350a991e4a1b29126de0342ffd76205e/base/missing.jl#L101\" target=\"_blank\">missing.jl:101</a></li> <li> zero(::<b>Type{Dates.Time}</b>) in Dates at <a href=\"file://C:/buildbot/worker/package_win64/build/usr/share/julia/stdlib/v1.7/Dates/src/types.jl\" target=\"_blank\">C:\\Users\\dstew\\AppData\\Local\\Programs\\Julia-1.7.2\\share\\julia\\stdlib\\v1.7\\Dates\\src\\types.jl:449</a></li> <li> zero(::<b>Type{Missing}</b>) in Base at <a href=\"https://github.com/JuliaLang/julia/tree/bf534986350a991e4a1b29126de0342ffd76205e/base/missing.jl#L104\" target=\"_blank\">missing.jl:104</a></li> <li> zero(::<b>Type{Pkg.Resolve.VersionWeight}</b>) in Pkg.Resolve at <a href=\"file://C:/buildbot/worker/package_win64/build/usr/share/julia/stdlib/v1.7/Pkg/src/Resolve/versionweights.jl\" target=\"_blank\">C:\\Users\\dstew\\AppData\\Local\\Programs\\Julia-1.7.2\\share\\julia\\stdlib\\v1.7\\Pkg\\src\\Resolve\\versionweights.jl:15</a></li> <li> zero(::<b>Type{Dates.Date}</b>) in Dates at <a href=\"file://C:/buildbot/worker/package_win64/build/usr/share/julia/stdlib/v1.7/Dates/src/types.jl\" target=\"_blank\">C:\\Users\\dstew\\AppData\\Local\\Programs\\Julia-1.7.2\\share\\julia\\stdlib\\v1.7\\Dates\\src\\types.jl:448</a></li> <li> zero(::<b>Type{Pkg.Resolve.FieldValue}</b>) in Pkg.Resolve at <a href=\"file://C:/buildbot/worker/package_win64/build/usr/share/julia/stdlib/v1.7/Pkg/src/Resolve/fieldvalues.jl\" target=\"_blank\">C:\\Users\\dstew\\AppData\\Local\\Programs\\Julia-1.7.2\\share\\julia\\stdlib\\v1.7\\Pkg\\src\\Resolve\\fieldvalues.jl:38</a></li> <li> zero(::<b>Type{Dates.DateTime}</b>) in Dates at <a href=\"file://C:/buildbot/worker/package_win64/build/usr/share/julia/stdlib/v1.7/Dates/src/types.jl\" target=\"_blank\">C:\\Users\\dstew\\AppData\\Local\\Programs\\Julia-1.7.2\\share\\julia\\stdlib\\v1.7\\Dates\\src\\types.jl:447</a></li> <li> zero(::<b>Type{LibGit2.GitHash}</b>) in LibGit2 at <a href=\"file://C:/buildbot/worker/package_win64/build/usr/share/julia/stdlib/v1.7/LibGit2/src/oid.jl\" target=\"_blank\">C:\\Users\\dstew\\AppData\\Local\\Programs\\Julia-1.7.2\\share\\julia\\stdlib\\v1.7\\LibGit2\\src\\oid.jl:221</a></li> <li> zero(::<b>Type{Union{Missing, T}}</b>)<i> where T</i> in Base at <a href=\"https://github.com/JuliaLang/julia/tree/bf534986350a991e4a1b29126de0342ffd76205e/base/missing.jl#L105\" target=\"_blank\">missing.jl:105</a></li> </ul>"
      ],
      "text/plain": [
       "# 22 methods for generic function \"zero\":\n",
       "[1] zero(::Union{Type{P}, P}) where P<:Dates.Period in Dates at C:\\Users\\dstew\\AppData\\Local\\Programs\\Julia-1.7.2\\share\\julia\\stdlib\\v1.7\\Dates\\src\\periods.jl:53\n",
       "[2] zero(::AbstractIrrational) in Base at irrationals.jl:150\n",
       "[3] zero(x::Number) in Base at number.jl:296\n",
       "[4] zero(::CartesianIndex{N}) where N in Base.IteratorsMD at multidimensional.jl:106\n",
       "[5] zero(a::SparseArrays.AbstractSparseArray) in SparseArrays at C:\\Users\\dstew\\AppData\\Local\\Programs\\Julia-1.7.2\\share\\julia\\stdlib\\v1.7\\SparseArrays\\src\\SparseArrays.jl:55\n",
       "[6] zero(x::AbstractArray{T}) where T in Base at abstractarray.jl:1133\n",
       "[7] zero(::T) where T<:Dates.TimeType in Dates at C:\\Users\\dstew\\AppData\\Local\\Programs\\Julia-1.7.2\\share\\julia\\stdlib\\v1.7\\Dates\\src\\types.jl:450\n",
       "[8] zero(J::UniformScaling{T}) where T in LinearAlgebra at C:\\Users\\dstew\\AppData\\Local\\Programs\\Julia-1.7.2\\share\\julia\\stdlib\\v1.7\\LinearAlgebra\\src\\uniformscaling.jl:136\n",
       "[9] zero(::Type{CartesianIndex{N}}) where N in Base.IteratorsMD at multidimensional.jl:107\n",
       "[10] zero(::Type{Base.TwicePrecision{T}}) where T in Base at twiceprecision.jl:272\n",
       "[11] zero(::Type{UniformScaling{T}}) where T in LinearAlgebra at C:\\Users\\dstew\\AppData\\Local\\Programs\\Julia-1.7.2\\share\\julia\\stdlib\\v1.7\\LinearAlgebra\\src\\uniformscaling.jl:135\n",
       "[12] zero(::Type{<:AbstractIrrational}) in Base at irrationals.jl:151\n",
       "[13] zero(::Type{T}) where T<:Number in Base at number.jl:297\n",
       "[14] zero(::Missing) in Base at missing.jl:101\n",
       "[15] zero(::Type{Dates.Time}) in Dates at C:\\Users\\dstew\\AppData\\Local\\Programs\\Julia-1.7.2\\share\\julia\\stdlib\\v1.7\\Dates\\src\\types.jl:449\n",
       "[16] zero(::Type{Missing}) in Base at missing.jl:104\n",
       "[17] zero(::Type{Pkg.Resolve.VersionWeight}) in Pkg.Resolve at C:\\Users\\dstew\\AppData\\Local\\Programs\\Julia-1.7.2\\share\\julia\\stdlib\\v1.7\\Pkg\\src\\Resolve\\versionweights.jl:15\n",
       "[18] zero(::Type{Dates.Date}) in Dates at C:\\Users\\dstew\\AppData\\Local\\Programs\\Julia-1.7.2\\share\\julia\\stdlib\\v1.7\\Dates\\src\\types.jl:448\n",
       "[19] zero(::Type{Pkg.Resolve.FieldValue}) in Pkg.Resolve at C:\\Users\\dstew\\AppData\\Local\\Programs\\Julia-1.7.2\\share\\julia\\stdlib\\v1.7\\Pkg\\src\\Resolve\\fieldvalues.jl:38\n",
       "[20] zero(::Type{Dates.DateTime}) in Dates at C:\\Users\\dstew\\AppData\\Local\\Programs\\Julia-1.7.2\\share\\julia\\stdlib\\v1.7\\Dates\\src\\types.jl:447\n",
       "[21] zero(::Type{LibGit2.GitHash}) in LibGit2 at C:\\Users\\dstew\\AppData\\Local\\Programs\\Julia-1.7.2\\share\\julia\\stdlib\\v1.7\\LibGit2\\src\\oid.jl:221\n",
       "[22] zero(::Type{Union{Missing, T}}) where T in Base at missing.jl:105"
      ]
     },
     "execution_count": 11,
     "metadata": {},
     "output_type": "execute_result"
    }
   ],
   "source": [
    "methods(LinearAlgebra.zero)"
   ]
  },
  {
   "cell_type": "code",
   "execution_count": null,
   "id": "258d473f-df3e-48c4-ab5f-0a9810743094",
   "metadata": {},
   "outputs": [],
   "source": []
  }
 ],
 "metadata": {
  "kernelspec": {
   "display_name": "Julia 1.7.2",
   "language": "julia",
   "name": "julia-1.7"
  },
  "language_info": {
   "file_extension": ".jl",
   "mimetype": "application/julia",
   "name": "julia",
   "version": "1.7.2"
  }
 },
 "nbformat": 4,
 "nbformat_minor": 5
}
