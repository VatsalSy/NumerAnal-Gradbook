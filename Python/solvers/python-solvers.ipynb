{
 "cells": [
  {
   "cell_type": "markdown",
   "metadata": {},
   "source": [
    "# Equation solvers in Python\n",
    "Below are some results for a scalar equation and a multivariate system of equation using the bisection, Newton, guarded Newton, secant, and Regular Falsi methods. The only methods for multivariate problems are the Newton and guarded Newton methods.\n",
    "\n",
    "The source code for the methods is in `solvers.py`."
   ]
  },
  {
   "cell_type": "code",
   "execution_count": 1,
   "metadata": {},
   "outputs": [],
   "source": [
    "import numpy as np\n",
    "import solvers"
   ]
  },
  {
   "cell_type": "markdown",
   "metadata": {},
   "source": [
    "### The scalar problem:\n",
    "Solve $x=\\cos(x)$ for $x\\in[0,\\pi]$."
   ]
  },
  {
   "cell_type": "code",
   "execution_count": 2,
   "metadata": {},
   "outputs": [],
   "source": [
    "def f1(x):\n",
    "    return x - np.cos(x)\n",
    "\n",
    "def df1(x):\n",
    "    return 1 + np.sin(x)"
   ]
  },
  {
   "cell_type": "markdown",
   "metadata": {},
   "source": [
    "### Bisection method"
   ]
  },
  {
   "cell_type": "code",
   "execution_count": 3,
   "metadata": {},
   "outputs": [
    {
     "name": "stdout",
     "output_type": "stream",
     "text": [
      "Iter # 0: a = 0.0, f(a) = -1.0, b = 3.141592653589793, f(b) = 4.141592653589793\n",
      "Iter # 1: a = 0.0, f(a) = -1.0, b = 1.5707963267948966, f(b) = 1.5707963267948966\n",
      "Iter # 2: a = 0.0, f(a) = -1.0, b = 0.7853981633974483, f(b) = 0.0782913822109007\n",
      "Iter # 3: a = 0.39269908169872414, f(a) = -0.5311804508125626, b = 0.7853981633974483, f(b) = 0.0782913822109007\n",
      "Iter # 4: a = 0.5890486225480862, f(a) = -0.24242098975445903, b = 0.7853981633974483, f(b) = 0.0782913822109007\n",
      "Iter # 5: a = 0.6872233929727672, f(a) = -0.08578706038996975, b = 0.7853981633974483, f(b) = 0.0782913822109007\n",
      "Iter # 6: a = 0.7363107781851077, f(a) = -0.004640347169851511, b = 0.7853981633974483, f(b) = 0.0782913822109007\n",
      "Iter # 7: a = 0.7363107781851077, f(a) = -0.004640347169851511, b = 0.760854470791278, f(b) = 0.03660738783981099\n",
      "Iter # 8: a = 0.7363107781851077, f(a) = -0.004640347169851511, b = 0.7485826244881928, f(b) = 0.015928352815779867\n",
      "Iter # 9: a = 0.7363107781851077, f(a) = -0.004640347169851511, b = 0.7424467013366502, f(b) = 0.005630132459280346\n",
      "Iter # 10: a = 0.7363107781851077, f(a) = -0.004640347169851511, b = 0.739378739760879, f(b) = 0.0004914153002637534\n",
      "Iter # 11: a = 0.7378447589729933, f(a) = -0.0020753364865229162, b = 0.739378739760879, f(b) = 0.0004914153002637534\n",
      "Iter # 12: a = 0.7386117493669362, f(a) = -0.0007921780792695676, b = 0.739378739760879, f(b) = 0.0004914153002637534\n",
      "Iter # 13: a = 0.7389952445639076, f(a) = -0.0001504357420498703, b = 0.739378739760879, f(b) = 0.0004914153002637534\n",
      "Iter # 14: a = 0.7389952445639076, f(a) = -0.0001504357420498703, b = 0.7391869921623933, f(b) = 0.00017047619334453756\n",
      "Iter # 15: a = 0.7389952445639076, f(a) = -0.0001504357420498703, b = 0.7390911183631504, f(b) = 1.0016828909886755e-05\n",
      "Iter # 16: a = 0.739043181463529, f(a) = -7.021030579157372e-05, b = 0.7390911183631504, f(b) = 1.0016828909886755e-05\n",
      "Iter # 17: a = 0.7390671499133397, f(a) = -3.0096950741631545e-05, b = 0.7390911183631504, f(b) = 1.0016828909886755e-05\n",
      "Iter # 18: a = 0.739079134138245, f(a) = -1.0040113990528177e-05, b = 0.7390911183631504, f(b) = 1.0016828909886755e-05\n",
      "Iter # 19: a = 0.7390851262506977, f(a) = -1.1655808984656346e-08, b = 0.7390911183631504, f(b) = 1.0016828909886755e-05\n",
      "Iter # 20: a = 0.7390851262506977, f(a) = -1.1655808984656346e-08, b = 0.7390881223069241, f(b) = 5.0025832334377185e-06\n",
      "Iter # 21: a = 0.7390851262506977, f(a) = -1.1655808984656346e-08, b = 0.7390866242788109, f(b) = 2.495462883000954e-06\n"
     ]
    }
   ],
   "source": [
    "xb,xsb = solvers.bisect(f1,0.0,np.pi,1e-6,trace=1)"
   ]
  },
  {
   "cell_type": "code",
   "execution_count": 4,
   "metadata": {},
   "outputs": [
    {
     "data": {
      "text/plain": [
       "0.7390855007577259"
      ]
     },
     "execution_count": 4,
     "metadata": {},
     "output_type": "execute_result"
    }
   ],
   "source": [
    "xb"
   ]
  },
  {
   "cell_type": "code",
   "execution_count": 5,
   "metadata": {},
   "outputs": [
    {
     "data": {
      "text/plain": [
       "6.151237084139893e-07"
      ]
     },
     "execution_count": 5,
     "metadata": {},
     "output_type": "execute_result"
    }
   ],
   "source": [
    "f1(xb)"
   ]
  },
  {
   "cell_type": "code",
   "execution_count": 6,
   "metadata": {},
   "outputs": [
    {
     "data": {
      "text/plain": [
       "[-1.0,\n",
       " 1.5707963267948966,\n",
       " 0.0782913822109007,\n",
       " -0.5311804508125626,\n",
       " -0.24242098975445903,\n",
       " -0.08578706038996975,\n",
       " -0.004640347169851511,\n",
       " 0.03660738783981099,\n",
       " 0.015928352815779867,\n",
       " 0.005630132459280346,\n",
       " 0.0004914153002637534,\n",
       " -0.0020753364865229162,\n",
       " -0.0007921780792695676,\n",
       " -0.0001504357420498703,\n",
       " 0.00017047619334453756,\n",
       " 1.0016828909886755e-05,\n",
       " -7.021030579157372e-05,\n",
       " -3.0096950741631545e-05,\n",
       " -1.0040113990528177e-05,\n",
       " -1.1655808984656346e-08,\n",
       " 5.0025832334377185e-06,\n",
       " 2.495462883000954e-06,\n",
       " 1.2419033296184878e-06]"
      ]
     },
     "execution_count": 6,
     "metadata": {},
     "output_type": "execute_result"
    }
   ],
   "source": [
    "list(map(f1,xsb))"
   ]
  },
  {
   "cell_type": "markdown",
   "metadata": {},
   "source": [
    "### Newton method"
   ]
  },
  {
   "cell_type": "code",
   "execution_count": 7,
   "metadata": {},
   "outputs": [
    {
     "name": "stdout",
     "output_type": "stream",
     "text": [
      "Iter 0: x = 0.0, f(x) = -1.0, df(x) = 1.0\n",
      "Iter 1: x = 1.0, f(x) = 0.45969769413186023, df(x) = 1.8414709848078965\n",
      "Iter 2: x = 0.7503638678402439, f(x) = 0.018923073822117442, df(x) = 1.6819049529414878\n",
      "Iter 3: x = 0.7391128909113617, f(x) = 4.6455898990771516e-05, df(x) = 1.6736325442243012\n"
     ]
    }
   ],
   "source": [
    "xn,xsn,fsn = solvers.newton(f1,df1,0.0,1e-6,trace=1)"
   ]
  },
  {
   "cell_type": "code",
   "execution_count": 8,
   "metadata": {},
   "outputs": [
    {
     "data": {
      "text/plain": [
       "0.739085133385284"
      ]
     },
     "execution_count": 8,
     "metadata": {},
     "output_type": "execute_result"
    }
   ],
   "source": [
    "xn"
   ]
  },
  {
   "cell_type": "code",
   "execution_count": 9,
   "metadata": {},
   "outputs": [
    {
     "data": {
      "text/plain": [
       "[0.0, 1.0, 0.7503638678402439, 0.7391128909113617, 0.739085133385284]"
      ]
     },
     "execution_count": 9,
     "metadata": {},
     "output_type": "execute_result"
    }
   ],
   "source": [
    "xsn"
   ]
  },
  {
   "cell_type": "code",
   "execution_count": 10,
   "metadata": {},
   "outputs": [
    {
     "data": {
      "text/plain": [
       "2.847205804457076e-10"
      ]
     },
     "execution_count": 10,
     "metadata": {},
     "output_type": "execute_result"
    }
   ],
   "source": [
    "f1(xn)"
   ]
  },
  {
   "cell_type": "markdown",
   "metadata": {},
   "source": [
    "### Secant method"
   ]
  },
  {
   "cell_type": "code",
   "execution_count": 11,
   "metadata": {},
   "outputs": [
    {
     "name": "stdout",
     "output_type": "stream",
     "text": [
      "Iter 0: x0 = 0.0, x1 = 3.141592653589793, f(x0)=-1.0, f(x1)=4.141592653589793\n",
      "Iter 1: x0 = 3.141592653589793, x1 = 0.6110154703516573, f(x0)=4.141592653589793, f(x1)=-0.2080503950703395\n",
      "Iter 2: x0 = 0.6110154703516573, x1 = 0.7320570309668119, f(x0)=-0.2080503950703395, f(x1)=-0.011744024299309319\n",
      "Iter 3: x0 = 0.7320570309668119, x1 = 0.7392983396594816, f(x0)=-0.011744024299309319, f(x1)=0.00035684166711869025\n"
     ]
    }
   ],
   "source": [
    "xsec,xssec,fsec = solvers.secant(f1,0.0,np.pi,1e-6,trace=1)"
   ]
  },
  {
   "cell_type": "code",
   "execution_count": 12,
   "metadata": {},
   "outputs": [
    {
     "data": {
      "text/plain": [
       "-5.557183474502736e-07"
      ]
     },
     "execution_count": 12,
     "metadata": {},
     "output_type": "execute_result"
    }
   ],
   "source": [
    "f1(xsec)"
   ]
  },
  {
   "cell_type": "code",
   "execution_count": 13,
   "metadata": {},
   "outputs": [
    {
     "data": {
      "text/plain": [
       "[0.0,\n",
       " 3.141592653589793,\n",
       " 0.6110154703516573,\n",
       " 0.7320570309668119,\n",
       " 0.7392983396594816,\n",
       " 0.7390848011678411]"
      ]
     },
     "execution_count": 13,
     "metadata": {},
     "output_type": "execute_result"
    }
   ],
   "source": [
    "xssec"
   ]
  },
  {
   "cell_type": "markdown",
   "metadata": {},
   "source": [
    "### Regula Falsi"
   ]
  },
  {
   "cell_type": "code",
   "execution_count": 14,
   "metadata": {},
   "outputs": [
    {
     "name": "stdout",
     "output_type": "stream",
     "text": [
      "Iter # 0: a = 0.0, f(a) = -1.0, b = 3.141592653589793, f(b) = 4.141592653589793\n",
      "Iter # 1: a = 0.6110154703516573, f(a) = -0.2080503950703395, b = 3.141592653589793, f(b) = 4.141592653589793\n",
      "Iter # 2: a = 0.7320570309668119, f(a) = -0.011744024299309319, b = 3.141592653589793, f(b) = 4.141592653589793\n",
      "Iter # 3: a = 0.7388702626156648, f(a) = -0.000359592957371202, b = 3.141592653589793, f(b) = 4.141592653589793\n",
      "Iter # 4: a = 0.7390788603973105, f(a) = -1.0498248870005611e-05, b = 3.141592653589793, f(b) = 4.141592653589793\n",
      "Iter # 5: a = 0.7390849503549404, f(a) = -3.060370519225586e-07, b = 3.141592653589793, f(b) = 4.141592653589793\n",
      "Iter # 6: a = 0.7390851278847899, f(a) = -8.920972627279866e-09, b = 3.141592653589793, f(b) = 4.141592653589793\n",
      "Iter # 7: a = 0.7390851330597806, f(a) = -2.600458737234135e-10, b = 3.141592653589793, f(b) = 4.141592653589793\n",
      "Iter # 8: a = 0.7390851332106313, f(a) = -7.580380767535644e-12, b = 3.141592653589793, f(b) = 4.141592653589793\n",
      "Iter # 9: a = 0.7390851332150287, f(a) = -2.2082335959794364e-13, b = 3.141592653589793, f(b) = 4.141592653589793\n",
      "Iter # 10: a = 0.7390851332151568, f(a) = -6.439293542825908e-15, b = 3.141592653589793, f(b) = 4.141592653589793\n",
      "Iter # 11: a = 0.7390851332151606, f(a) = -1.1102230246251565e-16, b = 3.141592653589793, f(b) = 4.141592653589793\n"
     ]
    }
   ],
   "source": [
    "xrf,xsrf = solvers.regfalsi(f1,0.0,np.pi,1e-6,trace=1)"
   ]
  },
  {
   "cell_type": "code",
   "execution_count": 15,
   "metadata": {},
   "outputs": [
    {
     "data": {
      "text/plain": [
       "0.7390851332151607"
      ]
     },
     "execution_count": 15,
     "metadata": {},
     "output_type": "execute_result"
    }
   ],
   "source": [
    "xrf"
   ]
  },
  {
   "cell_type": "code",
   "execution_count": 16,
   "metadata": {},
   "outputs": [
    {
     "data": {
      "text/plain": [
       "0.0"
      ]
     },
     "execution_count": 16,
     "metadata": {},
     "output_type": "execute_result"
    }
   ],
   "source": [
    "f1(xrf)"
   ]
  },
  {
   "cell_type": "markdown",
   "metadata": {},
   "source": [
    "### Comparison of the methods"
   ]
  },
  {
   "cell_type": "code",
   "execution_count": 27,
   "metadata": {},
   "outputs": [
    {
     "data": {
      "image/png": "[encoded data removed]",
      "text/plain": [
       "<Figure size 432x288 with 1 Axes>"
      ]
     },
     "metadata": {
      "needs_background": "light"
     },
     "output_type": "display_data"
    }
   ],
   "source": [
    "import matplotlib.pyplot as plt\n",
    "iternsb = list(range(len(xsb)))\n",
    "iternsn = list(range(len(xsn)))\n",
    "iternss = list(range(len(xssec)))\n",
    "iternsr = list(range(len(xsrf)))\n",
    "\n",
    "p = plt.plot(iternsb,list(map(np.abs,map(f1,xsb))),\n",
    "             iternsn,list(map(np.abs,map(f1,xsn))),\n",
    "             iternss,list(map(np.abs,map(f1,xssec))),\n",
    "             iternsr,list(map(np.abs,map(f1,xsrf))))\n",
    "plt.yscale('log')\n",
    "plt.legend(['bisection','Newton','secant','Regula Falsi'])\n",
    "plt.xlabel(r\"$k$\")\n",
    "plt.ylabel(r\"$|f(x_k)|$\")\n",
    "plt.show(p)"
   ]
  },
  {
   "cell_type": "markdown",
   "metadata": {},
   "source": [
    "# Multivariate Newton method\n",
    "\n",
    "Here we solve two simultaneous equations in two unknowns:\n",
    "$$\n",
    "x^3-xy+e^{-x}y+2=0\\\\\n",
    "y^3 -5xy^2+1=0\n",
    "$$\n",
    "We use the multivariate Newton method with the Jacobian matrix\n",
    "$$\n",
    "  \\left[\\begin{matrix}3x^2-y-e^{-x}y&-x+e^{-x}\\\\\n",
    "                      -5y^2&3y^2-10xy\\end{matrix}\\right].\n",
    "$$"
   ]
  },
  {
   "cell_type": "code",
   "execution_count": 18,
   "metadata": {},
   "outputs": [],
   "source": [
    "def f2(x):\n",
    "    return np.array([x[0]**3-x[0]*x[1]+np.exp(-x[0])*x[1]+2, x[1]**3-5*x[0]*x[1]**2+1])\n",
    "def df2(x):\n",
    "    return np.array([[3*x[0]**2-x[1]-np.exp(-x[0])*x[1], -x[0]+np.exp(-x[0])],\n",
    "                     [-5*x[1]**2, 3*x[1]**2-10*x[0]*x[1]]])"
   ]
  },
  {
   "cell_type": "code",
   "execution_count": 19,
   "metadata": {},
   "outputs": [],
   "source": [
    "x,xs,fs = solvers.newton(f2,df2,np.array([1.0,0.5]),1e-6)"
   ]
  },
  {
   "cell_type": "code",
   "execution_count": 20,
   "metadata": {},
   "outputs": [
    {
     "data": {
      "text/plain": [
       "array([0.98055865, 4.86046361])"
      ]
     },
     "execution_count": 20,
     "metadata": {},
     "output_type": "execute_result"
    }
   ],
   "source": [
    "x"
   ]
  },
  {
   "cell_type": "code",
   "execution_count": 21,
   "metadata": {},
   "outputs": [
    {
     "data": {
      "text/plain": [
       "array([2.23820962e-13, 1.81756832e-11])"
      ]
     },
     "execution_count": 21,
     "metadata": {},
     "output_type": "execute_result"
    }
   ],
   "source": [
    "f2(x)"
   ]
  },
  {
   "cell_type": "code",
   "execution_count": 22,
   "metadata": {},
   "outputs": [
    {
     "data": {
      "text/plain": [
       "[array([ 2.68393972, -0.125     ]),\n",
       " array([2.91674231, 1.73887486]),\n",
       " array([  1539.57054067, -10212.32200475]),\n",
       " array([  457.06522749, -3023.92642805]),\n",
       " array([ 136.18294699, -894.81893645]),\n",
       " array([  41.03305984, -264.47408386]),\n",
       " array([ 12.79746705, -77.99956091]),\n",
       " array([  4.42228622, -22.85440949]),\n",
       " array([ 2.12879925, -6.23634118]),\n",
       " array([ 5.82731369, 20.65145378]),\n",
       " array([  1.16766703, -17.87021357]),\n",
       " array([  4.43382475, 109.25335118]),\n",
       " array([ 1.11768343, 20.56090948]),\n",
       " array([ 0.13230839, -0.7493431 ]),\n",
       " array([-0.00169647,  0.04184718]),\n",
       " array([-2.42560887e-07,  3.92963978e-05]),\n",
       " array([2.23820962e-13, 1.81756832e-11])]"
      ]
     },
     "execution_count": 22,
     "metadata": {},
     "output_type": "execute_result"
    }
   ],
   "source": [
    "fs"
   ]
  },
  {
   "cell_type": "code",
   "execution_count": 23,
   "metadata": {},
   "outputs": [],
   "source": [
    "x3,xs3,fs3 = solvers.gnewton(f2,df2,np.array([1.0,-1.0]),1e-6,maxit=50)"
   ]
  },
  {
   "cell_type": "code",
   "execution_count": 24,
   "metadata": {},
   "outputs": [
    {
     "data": {
      "text/plain": [
       "array([-2.66071627e-08,  4.74153861e-08])"
      ]
     },
     "execution_count": 24,
     "metadata": {},
     "output_type": "execute_result"
    }
   ],
   "source": [
    "f2(x3)"
   ]
  },
  {
   "cell_type": "code",
   "execution_count": 25,
   "metadata": {},
   "outputs": [
    {
     "data": {
      "text/plain": [
       "[array([ 3.63212056, -5.        ]),\n",
       " array([ 1.39258459, -0.58168093]),\n",
       " array([0.53896351, 0.23271914]),\n",
       " array([-0.05195367,  0.02768118]),\n",
       " array([-0.00041726,  0.00106628]),\n",
       " array([-2.66071627e-08,  4.74153861e-08])]"
      ]
     },
     "execution_count": 25,
     "metadata": {},
     "output_type": "execute_result"
    }
   ],
   "source": [
    "fs3"
   ]
  },
  {
   "cell_type": "code",
   "execution_count": 26,
   "metadata": {},
   "outputs": [
    {
     "data": {
      "image/png": "[encoded data removed]",
      "text/plain": [
       "<Figure size 432x288 with 1 Axes>"
      ]
     },
     "metadata": {
      "needs_background": "light"
     },
     "output_type": "display_data"
    }
   ],
   "source": [
    "iternsmvn = list(range(len(fs)))\n",
    "iternsmvn3 = list(range(len(fs3)))\n",
    "p3 = plt.plot(iternsmvn,list(map(np.linalg.norm,fs)),\n",
    "              iternsmvn3,list(map(np.linalg.norm,fs3)))\n",
    "plt.yscale('log')\n",
    "plt.legend(['Newton','guarded Newton'])\n",
    "plt.show(p3)"
   ]
  },
  {
   "cell_type": "code",
   "execution_count": null,
   "metadata": {},
   "outputs": [],
   "source": []
  }
 ],
 "metadata": {
  "kernelspec": {
   "display_name": "Python 3",
   "language": "python",
   "name": "python3"
  },
  "language_info": {
   "codemirror_mode": {
    "name": "ipython",
    "version": 3
   },
   "file_extension": ".py",
   "mimetype": "text/x-python",
   "name": "python",
   "nbconvert_exporter": "python",
   "pygments_lexer": "ipython3",
   "version": "3.6.5"
  }
 },
 "nbformat": 4,
 "nbformat_minor": 4
}
