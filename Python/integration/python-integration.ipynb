{
 "cells": [
  {
   "cell_type": "markdown",
   "metadata": {},
   "source": [
    "# Integration methods in Python\n",
    "\n",
    "Below are a number of examples of using integration methods from `integration.py`.\n",
    "\n",
    "The test function is $f_1(x)=1/(1+x^2)$. Note that $\\int_0^1f_1(x)\\,dx=\\pi/4$."
   ]
  },
  {
   "cell_type": "code",
   "execution_count": 1,
   "metadata": {},
   "outputs": [],
   "source": [
    "import numpy as np\n",
    "import matplotlib.pyplot as plt\n",
    "\n",
    "def f1(x):\n",
    "    return 1.0/(1.0+x**2)\n",
    "\n",
    "exact_val = np.pi/4\n",
    "\n",
    "import integration # this has the functions in it"
   ]
  },
  {
   "cell_type": "markdown",
   "metadata": {},
   "source": [
    "### Rectangle rule"
   ]
  },
  {
   "cell_type": "code",
   "execution_count": 2,
   "metadata": {},
   "outputs": [
    {
     "name": "stdout",
     "output_type": "stream",
     "text": [
      "check:  0.0  ... should be zero\n",
      "error =  0.024583333829341414\n"
     ]
    }
   ],
   "source": [
    "a=0\n",
    "b = 1\n",
    "n = 10\n",
    "h = (b-a)/n\n",
    "print(\"check: \",h*sum(f1(a+i*h) for i in range(n)) - integration.rectangle(f1,a,b,n),\n",
    "     \" ... should be zero\")\n",
    "print(\"error = \",integration.rectangle(f1,a,b,n) - exact_val)"
   ]
  },
  {
   "cell_type": "markdown",
   "metadata": {},
   "source": [
    "### Trapezoidal rule"
   ]
  },
  {
   "cell_type": "code",
   "execution_count": 3,
   "metadata": {},
   "outputs": [
    {
     "name": "stdout",
     "output_type": "stream",
     "text": [
      "error =  -0.00041666617065860834\n"
     ]
    }
   ],
   "source": [
    "print(\"error = \", integration.trapezoidal(f1,a,b,n) - exact_val)"
   ]
  },
  {
   "cell_type": "markdown",
   "metadata": {},
   "source": [
    "### Simpson's rule"
   ]
  },
  {
   "cell_type": "code",
   "execution_count": 4,
   "metadata": {},
   "outputs": [
    {
     "name": "stdout",
     "output_type": "stream",
     "text": [
      "error =  -1.5500201122620183e-10\n"
     ]
    }
   ],
   "source": [
    "print(\"error = \", integration.simpson(f1,a,b,n) - exact_val)"
   ]
  },
  {
   "cell_type": "markdown",
   "metadata": {},
   "source": [
    "### Midpoint rule"
   ]
  },
  {
   "cell_type": "code",
   "execution_count": 5,
   "metadata": {},
   "outputs": [
    {
     "name": "stdout",
     "output_type": "stream",
     "text": [
      "error =  0.00020833285282639835\n"
     ]
    }
   ],
   "source": [
    "print(\"error = \", integration.midpt(f1,a,b,n) - exact_val)"
   ]
  },
  {
   "cell_type": "markdown",
   "metadata": {},
   "source": [
    "### General method\n",
    "This uses the sums $h\\,\\sum_{j=0}^{n-1}\\sum_{i=0}^{m-1}w_i\\,f(a+h(j+x_i))$ where the pair $(w,x)$ are the weights and nodes for an integration method on $[0,1]$. "
   ]
  },
  {
   "cell_type": "code",
   "execution_count": 7,
   "metadata": {},
   "outputs": [
    {
     "name": "stdout",
     "output_type": "stream",
     "text": [
      "check (rectangle rule):  0.0\n",
      "check (trapezoidal rule):  0.0\n",
      "check (midpoint rule):  0.0\n",
      "check (Simpson's rule):  1.1102230246251565e-16\n"
     ]
    }
   ],
   "source": [
    "print(\"check (rectangle rule): \",\n",
    "      integration.rectangle(f1,a,b,n)-integration.gen_rule(f1,[1.0],[0.0],a,b,n))\n",
    "print(\"check (trapezoidal rule): \",\n",
    "      integration.trapezoidal(f1,a,b,n)-integration.gen_rule(f1,[0.5,0.5],[0.0,1.0],a,b,n))\n",
    "print(\"check (midpoint rule): \",\n",
    "      integration.midpt(f1,a,b,n)-integration.gen_rule(f1,[1.0],[0.5],a,b,n))\n",
    "print(\"check (Simpson's rule): \",\n",
    "      integration.simpson(f1,a,b,n)-integration.gen_rule(f1,[1/6,2/3,1/6],[0.0,0.5,1.0],a,b,n))"
   ]
  },
  {
   "cell_type": "markdown",
   "metadata": {},
   "source": [
    "### Example of using the general method\n",
    "An example of using the general method is to use the three-point Gauss-Legendre method; on the interval $[0,1]$, this formula is \n",
    "$$\\int_0^1 g(s)\\,ds\\approx \\frac5{18}g(\\frac12-\\frac12\\sqrt{\\frac35})+\\frac49g(\\frac12)+\\frac5{18}g(\\frac12+\\frac12\\sqrt{\\frac35}).$$"
   ]
  },
  {
   "cell_type": "code",
   "execution_count": 9,
   "metadata": {},
   "outputs": [],
   "source": [
    "ws = [5/18, 4/9, 5/18]\n",
    "xs = [1/2-np.sqrt(3/5)/2, 1/2, 1/2+np.sqrt(3/5)/2]"
   ]
  },
  {
   "cell_type": "code",
   "execution_count": 12,
   "metadata": {},
   "outputs": [
    {
     "name": "stdout",
     "output_type": "stream",
     "text": [
      "error =  -7.439826532618099e-12\n"
     ]
    }
   ],
   "source": [
    "print(\"error = \", integration.gen_rule(f1,ws,xs,a,b,n) - exact_val)"
   ]
  },
  {
   "cell_type": "code",
   "execution_count": null,
   "metadata": {},
   "outputs": [],
   "source": [
    "### Asymptotic behavior of the error"
   ]
  },
  {
   "cell_type": "code",
   "execution_count": 13,
   "metadata": {},
   "outputs": [
    {
     "data": {
      "text/plain": [
       "[0.11460183660255174,\n",
       " 0.05989595424961058,\n",
       " 0.030598960225323935,\n",
       " 0.015462239612898943,\n",
       " 0.007771809896295445,\n",
       " 0.0038960774739651427,\n",
       " 0.0019505818684898424,\n",
       " 0.0009759267171220998,\n",
       " 0.00048812230428207926,\n",
       " 0.00024410088856974266]"
      ]
     },
     "execution_count": 13,
     "metadata": {},
     "output_type": "execute_result"
    }
   ],
   "source": [
    "nlist  = list(2**k for k in range(1,11))\n",
    "errs_r = [] # errors for rectangle rule\n",
    "errs_t = [] # errors for trapezoidal rule\n",
    "errs_s = [] # errors for Simpson's rule\n",
    "errs_m = [] # errors for midpoint rule\n",
    "errs_gl3 = [] # errors for 3-point Gauss-Legendre rule\n",
    "for n in nlist:\n",
    "    errs_r.append(np.abs(integration.rectangle(f1,a,b,n)-exact_val))\n",
    "    errs_t.append(np.abs(integration.trapezoidal(f1,a,b,n)-exact_val))\n",
    "    errs_s.append(np.abs(integration.simpson(f1,a,b,n)-exact_val))\n",
    "    errs_m.append(np.abs(integration.midpt(f1,a,b,n)-exact_val))\n",
    "    errs_gl3.append(np.abs(integration.gen_rule(f1,ws,xs,a,b,n)-exact_val))\n",
    "errs_r"
   ]
  },
  {
   "cell_type": "code",
   "execution_count": 15,
   "metadata": {},
   "outputs": [
    {
     "data": {
      "image/png": "[encoded data removed]",
      "text/plain": [
       "<Figure size 432x288 with 1 Axes>"
      ]
     },
     "metadata": {
      "needs_background": "light"
     },
     "output_type": "display_data"
    }
   ],
   "source": [
    "plt.plot(nlist,errs_r)\n",
    "plt.plot(nlist,errs_t)\n",
    "plt.plot(nlist,errs_s)\n",
    "plt.plot(nlist,errs_m)\n",
    "plt.plot(nlist,errs_gl3)\n",
    "plt.xscale('log')\n",
    "plt.yscale('log')\n",
    "plt.xlabel('n')\n",
    "plt.ylabel('error in integral')\n",
    "plt.legend(['rectangle','trapezoidal','Simpson','mid-point','GL3'])\n",
    "plt.show()"
   ]
  },
  {
   "cell_type": "code",
   "execution_count": null,
   "metadata": {},
   "outputs": [],
   "source": []
  }
 ],
 "metadata": {
  "kernelspec": {
   "display_name": "Python 3",
   "language": "python",
   "name": "python3"
  },
  "language_info": {
   "codemirror_mode": {
    "name": "ipython",
    "version": 3
   },
   "file_extension": ".py",
   "mimetype": "text/x-python",
   "name": "python",
   "nbconvert_exporter": "python",
   "pygments_lexer": "ipython3",
   "version": "3.6.5"
  }
 },
 "nbformat": 4,
 "nbformat_minor": 4
}
